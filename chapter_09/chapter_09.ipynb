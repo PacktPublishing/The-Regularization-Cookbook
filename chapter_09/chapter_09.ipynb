{
 "cells": [
  {
   "cell_type": "markdown",
   "id": "d51cfabc",
   "metadata": {},
   "source": [
    "# Advanced Regularization in Natural Language Processing"
   ]
  },
  {
   "cell_type": "markdown",
   "id": "83367475",
   "metadata": {},
   "source": [
    "## Regularization using a word2vec embedding"
   ]
  },
  {
   "cell_type": "code",
   "execution_count": 1,
   "id": "0695c352",
   "metadata": {
    "scrolled": false
   },
   "outputs": [
    {
     "name": "stderr",
     "output_type": "stream",
     "text": [
      "[nltk_data] Downloading package punkt to /home/vince/nltk_data...\n",
      "[nltk_data]   Package punkt is already up-to-date!\n"
     ]
    },
    {
     "data": {
      "text/plain": [
       "True"
      ]
     },
     "execution_count": 1,
     "metadata": {},
     "output_type": "execute_result"
    }
   ],
   "source": [
    "import torch\n",
    "import torch.nn as nn\n",
    "import torch.optim as optim\n",
    "from torch.utils.data import DataLoader, Dataset\n",
    "from sklearn.model_selection import train_test_split\n",
    "from sklearn.preprocessing import LabelEncoder\n",
    "import pandas as pd\n",
    "import matplotlib.pyplot as plt\n",
    "import numpy as np\n",
    "import gensim.downloader\n",
    "import nltk\n",
    "\n",
    "# If running for the first time\n",
    "nltk.download('punkt')"
   ]
  },
  {
   "cell_type": "code",
   "execution_count": 2,
   "id": "9320c41f",
   "metadata": {},
   "outputs": [],
   "source": [
    "# Will take a while the first time, need to download about 1.6GB of the model\n",
    "word2vec_model = gensim.downloader.load('word2vec-google-news-300')"
   ]
  },
  {
   "cell_type": "code",
   "execution_count": 4,
   "id": "668dd64f",
   "metadata": {},
   "outputs": [
    {
     "name": "stdout",
     "output_type": "stream",
     "text": [
      "Downloading imdb-dataset-of-50k-movie-reviews.zip to /home/vince/Documents/Freelance/packt/The-Regularization-Cookbook/chapter_09\n",
      " 93%|███████████████████████████████████▍  | 24.0M/25.7M [00:01<00:00, 36.5MB/s]\n",
      "100%|██████████████████████████████████████| 25.7M/25.7M [00:01<00:00, 23.8MB/s]\n"
     ]
    }
   ],
   "source": [
    "!kaggle datasets download -d lakshmi25npathi/imdb-dataset-of-50k-movie-reviews --unzip"
   ]
  },
  {
   "cell_type": "code",
   "execution_count": 3,
   "id": "a16d2aa9",
   "metadata": {},
   "outputs": [
    {
     "data": {
      "text/html": [
       "<div>\n",
       "<style scoped>\n",
       "    .dataframe tbody tr th:only-of-type {\n",
       "        vertical-align: middle;\n",
       "    }\n",
       "\n",
       "    .dataframe tbody tr th {\n",
       "        vertical-align: top;\n",
       "    }\n",
       "\n",
       "    .dataframe thead th {\n",
       "        text-align: right;\n",
       "    }\n",
       "</style>\n",
       "<table border=\"1\" class=\"dataframe\">\n",
       "  <thead>\n",
       "    <tr style=\"text-align: right;\">\n",
       "      <th></th>\n",
       "      <th>review</th>\n",
       "      <th>sentiment</th>\n",
       "    </tr>\n",
       "  </thead>\n",
       "  <tbody>\n",
       "    <tr>\n",
       "      <th>0</th>\n",
       "      <td>One of the other reviewers has mentioned that ...</td>\n",
       "      <td>positive</td>\n",
       "    </tr>\n",
       "    <tr>\n",
       "      <th>1</th>\n",
       "      <td>A wonderful little production. &lt;br /&gt;&lt;br /&gt;The...</td>\n",
       "      <td>positive</td>\n",
       "    </tr>\n",
       "    <tr>\n",
       "      <th>2</th>\n",
       "      <td>I thought this was a wonderful way to spend ti...</td>\n",
       "      <td>positive</td>\n",
       "    </tr>\n",
       "    <tr>\n",
       "      <th>3</th>\n",
       "      <td>Basically there's a family where a little boy ...</td>\n",
       "      <td>negative</td>\n",
       "    </tr>\n",
       "    <tr>\n",
       "      <th>4</th>\n",
       "      <td>Petter Mattei's \"Love in the Time of Money\" is...</td>\n",
       "      <td>positive</td>\n",
       "    </tr>\n",
       "  </tbody>\n",
       "</table>\n",
       "</div>"
      ],
      "text/plain": [
       "                                              review sentiment\n",
       "0  One of the other reviewers has mentioned that ...  positive\n",
       "1  A wonderful little production. <br /><br />The...  positive\n",
       "2  I thought this was a wonderful way to spend ti...  positive\n",
       "3  Basically there's a family where a little boy ...  negative\n",
       "4  Petter Mattei's \"Love in the Time of Money\" is...  positive"
      ]
     },
     "execution_count": 3,
     "metadata": {},
     "output_type": "execute_result"
    }
   ],
   "source": [
    "# Load data\n",
    "data = pd.read_csv('IMDB Dataset.csv')\n",
    "data.head()"
   ]
  },
  {
   "cell_type": "code",
   "execution_count": 4,
   "id": "34cd0861",
   "metadata": {},
   "outputs": [],
   "source": [
    "# Split data into train and test sets\n",
    "train_data, test_data = train_test_split(data, test_size=0.2, random_state=0)"
   ]
  },
  {
   "cell_type": "code",
   "execution_count": 5,
   "id": "c938a135",
   "metadata": {},
   "outputs": [],
   "source": [
    "# Define dataset class\n",
    "class TextClassificationDataset(Dataset):\n",
    "    def __init__(self, data, word2vec_model, max_words):\n",
    "        self.data = data\n",
    "        self.word2vec_model = word2vec_model\n",
    "        self.max_words = max_words\n",
    "        self.embeddings = data['review'].apply(self.embed)\n",
    "        le = LabelEncoder()\n",
    "        self.labels = torch.tensor(le.fit_transform(data['sentiment']).astype(np.float32))\n",
    "\n",
    "    def __len__(self):\n",
    "        return len(self.data)\n",
    "    \n",
    "    def __getitem__(self, index):\n",
    "        return self.embeddings.iloc[index], self.labels[index]\n",
    "    \n",
    "    def embed(self, text):\n",
    "        tokens = nltk.word_tokenize(text)\n",
    "        return self.tokens_to_embeddings(tokens)\n",
    "    \n",
    "    def tokens_to_embeddings(self, tokens):\n",
    "        embeddings = []\n",
    "        for i, token in enumerate(tokens):\n",
    "            if i >= self.max_words:\n",
    "                break\n",
    "            if token not in self.word2vec_model:\n",
    "                continue\n",
    "            embeddings.append(self.word2vec_model[token])\n",
    "\n",
    "        while len(embeddings) < self.max_words:\n",
    "            embeddings.append(np.zeros((300, )))\n",
    "        \n",
    "        return np.array(embeddings, dtype=np.float32)"
   ]
  },
  {
   "cell_type": "code",
   "execution_count": 8,
   "id": "849fd4a0",
   "metadata": {},
   "outputs": [],
   "source": [
    "batch_size = 64\n",
    "max_words = 64\n",
    "\n",
    "# Initialize datasets and dataloaders\n",
    "train_dataset = TextClassificationDataset(train_data, word2vec_model, max_words)\n",
    "test_dataset = TextClassificationDataset(test_data, word2vec_model, max_words)\n",
    "train_dataloader = DataLoader(train_dataset, batch_size=batch_size, shuffle=True)\n",
    "test_dataloader = DataLoader(test_dataset, batch_size=batch_size, shuffle=True)"
   ]
  },
  {
   "cell_type": "code",
   "execution_count": 9,
   "id": "b3d9f421",
   "metadata": {},
   "outputs": [],
   "source": [
    "# Define RNN model\n",
    "class GRUClassifier(nn.Module):\n",
    "    def __init__(self, embedding_dim, hidden_size, output_size, num_layers=3):\n",
    "        super(GRUClassifier, self).__init__()\n",
    "        self.hidden_size = hidden_size\n",
    "        self.num_layers = num_layers\n",
    "        self.gru = nn.GRU(input_size=embedding_dim, hidden_size=hidden_size, num_layers=num_layers, batch_first=True)\n",
    "        self.fc = nn.Linear(hidden_size, output_size)\n",
    "    \n",
    "    def forward(self, inputs):\n",
    "        batch_size = inputs.size(0)\n",
    "        zero_hidden = torch.zeros(self.num_layers, batch_size, self.hidden_size).to(device)\n",
    "        output, hidden = self.gru(inputs, zero_hidden)\n",
    "        output = torch.sigmoid(self.fc(output[:, -1]))\n",
    "        return output"
   ]
  },
  {
   "cell_type": "code",
   "execution_count": 10,
   "id": "80fc6276",
   "metadata": {},
   "outputs": [
    {
     "name": "stdout",
     "output_type": "stream",
     "text": [
      "torch.Size([64, 64, 300])\n",
      "Resulting output tensor: torch.Size([64, 1])\n",
      "Sum of the output tensor: tensor(33.9811, device='cuda:0', grad_fn=<SumBackward0>)\n"
     ]
    }
   ],
   "source": [
    "embedding_dim = 300\n",
    "hidden_dim = 32\n",
    "output_size = 1\n",
    "\n",
    "# Optionally, set the device to GPU if you have one\n",
    "device = torch.device('cuda' if torch.cuda.is_available() else 'cpu')\n",
    "\n",
    "model = GRUClassifier(\n",
    "    embedding_dim=embedding_dim,\n",
    "    hidden_size=hidden_dim, \n",
    "    output_size=output_size,\n",
    ").to(device)\n",
    "\n",
    "random_data = torch.rand((batch_size, max_words, embedding_dim)).to(device)\n",
    "print(random_data.shape)\n",
    "result = model(random_data)\n",
    "print('Resulting output tensor:', result.shape)\n",
    "print('Sum of the output tensor:', result.sum())"
   ]
  },
  {
   "cell_type": "code",
   "execution_count": 11,
   "id": "d99640b3",
   "metadata": {},
   "outputs": [],
   "source": [
    "optimizer = optim.Adam(model.parameters(), lr=0.001)\n",
    "criterion = nn.BCELoss()"
   ]
  },
  {
   "cell_type": "code",
   "execution_count": null,
   "id": "d02c681f",
   "metadata": {},
   "outputs": [],
   "source": [
    "def train_model(model, train_dataloader, test_dataloader, criterion, optimizer, device, epochs: int = 20):\n",
    "    # Train the model\n",
    "    train_losses = []\n",
    "    test_losses = []\n",
    "    train_accuracy = []\n",
    "    test_accuracy = []\n",
    "\n",
    "    for epoch in range(20):\n",
    "        running_train_loss = 0.\n",
    "        correct = 0.\n",
    "        model.train()\n",
    "        for inputs, labels in train_dataloader:\n",
    "            inputs = inputs.to(device)\n",
    "            labels = labels.unsqueeze(1).to(device)\n",
    "            outputs = model(inputs)\n",
    "            loss = criterion(outputs, labels)\n",
    "            optimizer.zero_grad()\n",
    "            loss.backward()\n",
    "            optimizer.step()\n",
    "            # Add correct predictions for this batch\n",
    "            correct += ((outputs > 0.5) == labels).float().sum()\n",
    "            # Compute loss for this batch\n",
    "            running_train_loss += loss.item()\n",
    "\n",
    "        # Compute and store loss and accuracy for this epoch\n",
    "        train_epoch_loss = running_train_loss / len(train_dataloader)\n",
    "        train_losses.append(train_epoch_loss)\n",
    "        train_epoch_accuracy = correct / len(train_dataset)\n",
    "        train_accuracy.append(train_epoch_accuracy.cpu().numpy())\n",
    "\n",
    "        ## Evaluate the model on the test set\n",
    "        running_test_loss = 0.\n",
    "        correct = 0.\n",
    "        model.eval()\n",
    "        with torch.no_grad():\n",
    "            for i, data in enumerate(test_dataloader, 0):\n",
    "                inputs, labels = data\n",
    "                inputs = inputs.to(device)\n",
    "                labels = labels.unsqueeze(1).to(device)\n",
    "                outputs = model(inputs)\n",
    "                loss = criterion(outputs, labels)\n",
    "                running_test_loss += loss.item()\n",
    "                correct += ((outputs > 0.5) == labels).float().sum()\n",
    "\n",
    "            test_epoch_loss = running_test_loss / len(test_dataloader)\n",
    "            test_losses.append(test_epoch_loss)\n",
    "            test_epoch_accuracy = correct / len(test_dataset)\n",
    "            test_accuracy.append(test_epoch_accuracy.cpu().numpy())\n",
    "\n",
    "        # Print stats\n",
    "        print(f'[epoch {epoch + 1}] Training: loss={train_epoch_loss:.3f} accuracy={train_epoch_accuracy:.3f} |\\\n",
    "    \\t Test: loss={test_epoch_loss:.3f} accuracy={test_epoch_accuracy:.3f}')\n",
    "        \n",
    "    return train_losses, test_losses, train_accuracy, test_accuracy"
   ]
  },
  {
   "cell_type": "code",
   "execution_count": 12,
   "id": "1f47d0cd",
   "metadata": {},
   "outputs": [
    {
     "name": "stdout",
     "output_type": "stream",
     "text": [
      "[epoch 1] Training: loss=0.572 accuracy=0.674 |\t Test: loss=0.478 accuracy=0.770\n",
      "[epoch 2] Training: loss=0.451 accuracy=0.783 |\t Test: loss=0.450 accuracy=0.783\n",
      "[epoch 3] Training: loss=0.429 accuracy=0.796 |\t Test: loss=0.433 accuracy=0.797\n",
      "[epoch 4] Training: loss=0.413 accuracy=0.806 |\t Test: loss=0.431 accuracy=0.797\n",
      "[epoch 5] Training: loss=0.399 accuracy=0.813 |\t Test: loss=0.425 accuracy=0.801\n",
      "[epoch 6] Training: loss=0.384 accuracy=0.823 |\t Test: loss=0.417 accuracy=0.804\n",
      "[epoch 7] Training: loss=0.371 accuracy=0.829 |\t Test: loss=0.430 accuracy=0.807\n",
      "[epoch 8] Training: loss=0.360 accuracy=0.835 |\t Test: loss=0.424 accuracy=0.805\n",
      "[epoch 9] Training: loss=0.346 accuracy=0.844 |\t Test: loss=0.429 accuracy=0.804\n",
      "[epoch 10] Training: loss=0.335 accuracy=0.850 |\t Test: loss=0.455 accuracy=0.802\n",
      "[epoch 11] Training: loss=0.320 accuracy=0.859 |\t Test: loss=0.433 accuracy=0.803\n",
      "[epoch 12] Training: loss=0.305 accuracy=0.867 |\t Test: loss=0.428 accuracy=0.803\n",
      "[epoch 13] Training: loss=0.294 accuracy=0.873 |\t Test: loss=0.468 accuracy=0.796\n",
      "[epoch 14] Training: loss=0.279 accuracy=0.881 |\t Test: loss=0.445 accuracy=0.801\n",
      "[epoch 15] Training: loss=0.269 accuracy=0.889 |\t Test: loss=0.474 accuracy=0.801\n",
      "[epoch 16] Training: loss=0.253 accuracy=0.897 |\t Test: loss=0.512 accuracy=0.796\n",
      "[epoch 17] Training: loss=0.242 accuracy=0.902 |\t Test: loss=0.586 accuracy=0.775\n",
      "[epoch 18] Training: loss=0.229 accuracy=0.908 |\t Test: loss=0.485 accuracy=0.793\n",
      "[epoch 19] Training: loss=0.220 accuracy=0.914 |\t Test: loss=0.541 accuracy=0.796\n",
      "[epoch 20] Training: loss=0.207 accuracy=0.917 |\t Test: loss=0.533 accuracy=0.790\n"
     ]
    }
   ],
   "source": [
    "train_losses, test_losses, train_accuracy, test_accuracy = train_model(\n",
    "    model, train_dataloader, test_dataloader, criterion, optimizer, device, epochs=20\n",
    ")"
   ]
  },
  {
   "cell_type": "code",
   "execution_count": 13,
   "id": "81efe9b7",
   "metadata": {
    "scrolled": false
   },
   "outputs": [
    {
     "data": {
      "image/png": "[encoded data removed]",
      "text/plain": [
       "<Figure size 640x480 with 1 Axes>"
      ]
     },
     "metadata": {},
     "output_type": "display_data"
    }
   ],
   "source": [
    "plt.plot(train_losses, label='train')\n",
    "plt.plot(test_losses, label='test')\n",
    "plt.xlabel('epoch')\n",
    "plt.ylabel('loss (BCE)')\n",
    "plt.legend()\n",
    "plt.show()"
   ]
  },
  {
   "cell_type": "code",
   "execution_count": 14,
   "id": "032388ca",
   "metadata": {
    "scrolled": false
   },
   "outputs": [
    {
     "data": {
      "image/png": "[encoded data removed]",
      "text/plain": [
       "<Figure size 640x480 with 1 Axes>"
      ]
     },
     "metadata": {},
     "output_type": "display_data"
    }
   ],
   "source": [
    "plt.plot(train_accuracy, label='train')\n",
    "plt.plot(test_accuracy, label='test')\n",
    "plt.xlabel('epoch')\n",
    "plt.ylabel('Accuracy')\n",
    "plt.legend()\n",
    "plt.show()"
   ]
  },
  {
   "cell_type": "markdown",
   "id": "46f28c93",
   "metadata": {},
   "source": [
    "## Regularize with data augmentation using word2vec"
   ]
  },
  {
   "cell_type": "code",
   "execution_count": 1,
   "id": "28e03ccd",
   "metadata": {},
   "outputs": [],
   "source": [
    "import numpy as np\n",
    "import gensim.downloader"
   ]
  },
  {
   "cell_type": "code",
   "execution_count": 2,
   "id": "458c1264",
   "metadata": {},
   "outputs": [],
   "source": [
    "# Load the Word2Vec model\n",
    "word2vec_model = gensim.downloader.load('word2vec-google-news-300')"
   ]
  },
  {
   "cell_type": "code",
   "execution_count": 46,
   "id": "952d0b0b",
   "metadata": {},
   "outputs": [],
   "source": [
    "def replace_words_with_similar(text, model, sim_threshold: float = 0.5, probability: float = 0.5, top_similar: int = 3, stop_words: list[str] = []):\n",
    "    # Split in words\n",
    "    words = text.split()\n",
    "    # Create an empty list of the output words\n",
    "    new_words = []\n",
    "    # Loop over the words\n",
    "    for word in words:\n",
    "        added = False\n",
    "        # If the word is in the vocab, not in stop words, and above probability, then...\n",
    "        if word in model and word not in stop_words and np.random.uniform(0, 1) > probability:\n",
    "            # Get the top_similar most similar words \n",
    "            similar_words = model.most_similar(word, topn=top_similar)\n",
    "            # Randomly pick one of those words\n",
    "            idx = np.random.randint(len(similar_words))\n",
    "            # Get the similar word and similarity score\n",
    "            sim_word, sim_score = similar_words[idx]\n",
    "            # If the similary score is above threshold, add the word\n",
    "            if sim_score > sim_threshold:\n",
    "                new_words.append(sim_word)\n",
    "                added = True\n",
    "        if not added:\n",
    "            # If no similar word is added, add the original word\n",
    "            new_words.append(word)\n",
    "    # Return the list as a string\n",
    "    return ' '.join(new_words)"
   ]
  },
  {
   "cell_type": "code",
   "execution_count": 52,
   "id": "1084f610",
   "metadata": {},
   "outputs": [
    {
     "name": "stdout",
     "output_type": "stream",
     "text": [
      "Original text: The quick brown fox jumps over the lazy dog\n",
      "New text: This quick brown squirrel jumps Over the lazy puppy\n"
     ]
    }
   ],
   "source": [
    "original_text = \"The quick brown fox jumps over the lazy dog\"\n",
    "generated_text = replace_words_with_similar(original_text, word2vec_model, stop_words=['the'])\n",
    "print(\"Original text: {}\".format(original_text))\n",
    "print(\"New text: {}\".format(generated_text))"
   ]
  },
  {
   "cell_type": "markdown",
   "id": "d4bae049",
   "metadata": {},
   "source": [
    "### There's more"
   ]
  },
  {
   "cell_type": "code",
   "execution_count": null,
   "id": "9b3f9524",
   "metadata": {},
   "outputs": [],
   "source": [
    "class TextClassificationDatasetGeneration(Dataset):\n",
    "    def __init__(self, data, max_length):\n",
    "        self.data = data\n",
    "        self.max_length = max_length\n",
    "        self.tokenizer = AutoTokenizer.from_pretrained('bert-base-uncased')\n",
    "        self.tokens = self.tokenizer(data['review'].to_list(), padding=True, truncation=True, max_length=max_length, return_tensors='pt')['input_ids']\n",
    "        le = LabelEncoder()\n",
    "        self.labels = torch.tensor(le.fit_transform(data['sentiment']).astype(np.float32))\n",
    "\n",
    "    def __len__(self):\n",
    "        return len(self.data)\n",
    "    \n",
    "    def __getitem__(self, index):\n",
    "        # Generate a new text\n",
    "        text = replace_words_with_similar(self.data['review'].iloc[index])\n",
    "        # Tokenize it\n",
    "        tokens = self.tokenizer(text, padding=True, truncation=True, max_length=self.max_length, return_tensors='pt')['input_ids']\n",
    "        return self.tokens[index], self.labels[index]"
   ]
  },
  {
   "cell_type": "markdown",
   "id": "6c0d40cd",
   "metadata": {},
   "source": [
    "## Zero-shot inference with pre-trained models"
   ]
  },
  {
   "cell_type": "code",
   "execution_count": 1,
   "id": "c849750f",
   "metadata": {
    "id": "c849750f",
    "scrolled": true
   },
   "outputs": [],
   "source": [
    "import numpy as np\n",
    "import pandas as pd\n",
    "from sklearn.model_selection import train_test_split\n",
    "from sklearn.metrics import accuracy_score\n",
    "from transformers import pipeline"
   ]
  },
  {
   "cell_type": "code",
   "execution_count": 2,
   "id": "85b6ff6f",
   "metadata": {},
   "outputs": [
    {
     "name": "stdout",
     "output_type": "stream",
     "text": [
      "Downloading twitter-airline-sentiment.zip to /home/vince/Documents/Freelance/packt/The-Regularization-Cookbook/chapter_09\n",
      "100%|██████████████████████████████████████| 2.55M/2.55M [00:00<00:00, 5.54MB/s]\n",
      "100%|██████████████████████████████████████| 2.55M/2.55M [00:00<00:00, 4.73MB/s]\n"
     ]
    }
   ],
   "source": [
    "!kaggle datasets download -d crowdflower/twitter-airline-sentiment --unzip"
   ]
  },
  {
   "cell_type": "code",
   "execution_count": 3,
   "id": "d0c2b8e8",
   "metadata": {
    "colab": {
     "base_uri": "https://localhost:8080/",
     "height": 530
    },
    "id": "d0c2b8e8",
    "outputId": "b5e55652-e021-46d0-ea6e-be8703eeb558"
   },
   "outputs": [
    {
     "data": {
      "text/html": [
       "<div>\n",
       "<style scoped>\n",
       "    .dataframe tbody tr th:only-of-type {\n",
       "        vertical-align: middle;\n",
       "    }\n",
       "\n",
       "    .dataframe tbody tr th {\n",
       "        vertical-align: top;\n",
       "    }\n",
       "\n",
       "    .dataframe thead th {\n",
       "        text-align: right;\n",
       "    }\n",
       "</style>\n",
       "<table border=\"1\" class=\"dataframe\">\n",
       "  <thead>\n",
       "    <tr style=\"text-align: right;\">\n",
       "      <th></th>\n",
       "      <th>airline_sentiment</th>\n",
       "      <th>text</th>\n",
       "    </tr>\n",
       "  </thead>\n",
       "  <tbody>\n",
       "    <tr>\n",
       "      <th>0</th>\n",
       "      <td>neutral</td>\n",
       "      <td>@VirginAmerica What @dhepburn said.</td>\n",
       "    </tr>\n",
       "    <tr>\n",
       "      <th>1</th>\n",
       "      <td>positive</td>\n",
       "      <td>@VirginAmerica plus you've added commercials t...</td>\n",
       "    </tr>\n",
       "    <tr>\n",
       "      <th>2</th>\n",
       "      <td>neutral</td>\n",
       "      <td>@VirginAmerica I didn't today... Must mean I n...</td>\n",
       "    </tr>\n",
       "    <tr>\n",
       "      <th>3</th>\n",
       "      <td>negative</td>\n",
       "      <td>@VirginAmerica it's really aggressive to blast...</td>\n",
       "    </tr>\n",
       "    <tr>\n",
       "      <th>4</th>\n",
       "      <td>negative</td>\n",
       "      <td>@VirginAmerica and it's a really big bad thing...</td>\n",
       "    </tr>\n",
       "  </tbody>\n",
       "</table>\n",
       "</div>"
      ],
      "text/plain": [
       "  airline_sentiment                                               text\n",
       "0           neutral                @VirginAmerica What @dhepburn said.\n",
       "1          positive  @VirginAmerica plus you've added commercials t...\n",
       "2           neutral  @VirginAmerica I didn't today... Must mean I n...\n",
       "3          negative  @VirginAmerica it's really aggressive to blast...\n",
       "4          negative  @VirginAmerica and it's a really big bad thing..."
      ]
     },
     "execution_count": 3,
     "metadata": {},
     "output_type": "execute_result"
    }
   ],
   "source": [
    "# Load data\n",
    "data = pd.read_csv('Tweets.csv')\n",
    "data[['airline_sentiment', 'text']].head()"
   ]
  },
  {
   "cell_type": "code",
   "execution_count": 4,
   "id": "35055788",
   "metadata": {
    "id": "35055788"
   },
   "outputs": [],
   "source": [
    "# Split data into train and test sets\n",
    "train_data, test_data = train_test_split(data, test_size=0.2, random_state=0)"
   ]
  },
  {
   "cell_type": "code",
   "execution_count": 5,
   "id": "0b422a4e",
   "metadata": {
    "colab": {
     "base_uri": "https://localhost:8080/",
     "height": 377,
     "referenced_widgets": [
      "ce8a201ae86a405aa6726d48cb1626ac",
      "e400036bac92481a80db36bc8d86a61d",
      "93579496e38e4328b887ce6dca84e829",
      "b2e01b02bb5d442a8f560e0909ad2482",
      "afc9b62fa6444b15870fb69ff9073ce4",
      "51fe07b5142a436087c899eadb5576ca",
      "805c9b73a2b54f8d8a861e9f41a612b6",
      "a30ba9b8f88243a4bbb7485f5e4a6c8e",
      "af1d28b4b45742f4879d31c88461e878",
      "b31b55bb93e449ab81af275eeed874da",
      "2d10559b896a48cabbd3d34ffeae3289",
      "f8b91773391a41da9fda3debd6fd0cb8",
      "1d3ce5c9a0a3463fb0351efc4e781734",
      "c5c69dbef1e745a79b835c49b6635066",
      "5459bb30f3e44612ae375adc029f9a09",
      "8ba51d39837f456fa92e13b20d68fabf",
      "0cced4560f974262bdd95c081a71c122",
      "57f07cf9571d4c4e930cb7f92a46ab28",
      "ea0d1a70429646da9a28a2e0b670b039",
      "bb22fcbb73b0416ea03156da2bf673d5",
      "084d5efe03404e949535e01ca99ee458",
      "cb4da034e13e4421a452447eb90bfc87",
      "1b719d9cbac442868827abc996c2cd6e",
      "c4f3e420f01f4a34a7090bb465392b3b",
      "00c54bd573eb43e3804cc3671b6867d0",
      "8facba96b54b49629493a4fea8150c83",
      "ec2fb8af08b041ec958dac8b9861a896",
      "bc9c40ddff5c40babb2863ff60cd2ab3",
      "f46feb41afd24b0791a6e15558041bdb",
      "e4d64d3f21e4489f86548c9cd00b02f3",
      "25639ef7dc65437daef1cd177b78fb79",
      "cfde87b5f1704148bc5a45206867a349",
      "15e729eb20a34f0e837eb3777fc98f92",
      "13b056d0a68a4fba9a8c1891208175ee",
      "ae64d55c395847a3ac4fe46daf7365d7",
      "0d9f9c9c81124c9395bc71cf64ebcbea",
      "4765b8540324472cac2958e110179157",
      "b1083442bb504ad4a049e962daeeee29",
      "bb86ecf340aa41168e152aa0c0074c1f",
      "7149a449be1548e6a310380b6d52dc97",
      "a0432ff359bf4f0fb7976ac48762e960",
      "16bbeb845e2347a9977418a0a3f04f60",
      "e3ca02980b244ae8879848530870fe4e",
      "4c59a6dd90ab4f26afb97b8a773fba00",
      "f2696ad0d0064ccab2ac7d3971cc3e55",
      "46d769de8879433c9b4af8bb0d48e7d3",
      "59bee06a8ddf44e392a0f489a328f858",
      "d43ff8a425de49efb62f1b7771dc10d6",
      "cefbb174ffdf49339df4324427d8e4da",
      "0a62c452141d4a16843d4d70c6287391",
      "bc07a8ec40bd4a08a64fe50e2c76d5c4",
      "4fecc3041fb146e5b50e58281d1e45b5",
      "94394a74a5004a9ea0fd524920b57f2c",
      "dbfba22bc95d4263ac30abba9348310f",
      "817a1f47797741eebd49afc65fc05dc4",
      "3df627c6dd08489ca5de662b8973dc52",
      "07d97b8b0ef5458ab9cceeb900fc1d64",
      "71b26e8cbd964ca1b94916444eaad56f",
      "ec5040647c2146ac919ff349b5e185fb",
      "bff37eaacb8e43608c1f91e03ac96a9d",
      "d5f46a10fbe44010ae59fb5b1b6e449e",
      "781641889b284724bb9cda04adb9e72d",
      "878a69f8ff314df98dc303995c898d48",
      "6f4b0a1693e34a99bf231c58f1b3ea29",
      "5bda0b1420b04876a66051bb296f4ec6",
      "f18aa9b01c314179910f11272db814f1"
     ]
    },
    "id": "0b422a4e",
    "outputId": "1b735a4a-c4b2-4484-d5bb-40ea7de3deac",
    "scrolled": true
   },
   "outputs": [],
   "source": [
    "# Taking a long time the first time for downloading model...\n",
    "classifier = pipeline(task=\"zero-shot-classification\", model=\"facebook/bart-large-mnli\")"
   ]
  },
  {
   "cell_type": "code",
   "execution_count": 6,
   "id": "59598fac",
   "metadata": {
    "colab": {
     "base_uri": "https://localhost:8080/"
    },
    "id": "59598fac",
    "outputId": "60114ee3-ea28-414b-fa7f-81fde7178a35"
   },
   "outputs": [
    {
     "data": {
      "text/plain": [
       "array(['neutral', 'positive', 'negative'], dtype=object)"
      ]
     },
     "execution_count": 6,
     "metadata": {},
     "output_type": "execute_result"
    }
   ],
   "source": [
    "candidate_labels = data['airline_sentiment'].unique()\n",
    "candidate_labels"
   ]
  },
  {
   "cell_type": "code",
   "execution_count": 10,
   "id": "c8dd248b",
   "metadata": {
    "id": "c8dd248b"
   },
   "outputs": [],
   "source": [
    "# Create an empty list to store the predictions\n",
    "preds = []\n",
    "# Loop over the data\n",
    "for i in range(len(test_data)):\n",
    "    # Compute the classifier results\n",
    "    res = classifier(\n",
    "        test_data['text'].iloc[i],\n",
    "        candidate_labels=candidate_labels,\n",
    "    )\n",
    "    # Apply softmax to the results to get the predicted class\n",
    "    pred = np.array(res['scores']).argmax()\n",
    "    labels = res['labels']\n",
    "    # Store the results in the list\n",
    "    preds.append(labels[pred])"
   ]
  },
  {
   "cell_type": "code",
   "execution_count": 12,
   "id": "21a7442d",
   "metadata": {
    "colab": {
     "base_uri": "https://localhost:8080/"
    },
    "id": "21a7442d",
    "outputId": "aeeca5cd-cd48-4dc6-dec7-659af0f54dad"
   },
   "outputs": [
    {
     "data": {
      "text/plain": [
       "0.7452725250278087"
      ]
     },
     "execution_count": 12,
     "metadata": {},
     "output_type": "execute_result"
    }
   ],
   "source": [
    "accuracy_score(test_data['airline_sentiment'], preds)"
   ]
  },
  {
   "cell_type": "markdown",
   "id": "e64caf81",
   "metadata": {},
   "source": [
    "### There's more"
   ]
  },
  {
   "cell_type": "code",
   "execution_count": 15,
   "id": "7806ba23",
   "metadata": {},
   "outputs": [
    {
     "data": {
      "text/plain": [
       "{'sequence': 'I love to learn about regularization',\n",
       " 'labels': ['positive', 'neutral', 'negative'],\n",
       " 'scores': [0.6277033686637878, 0.27620458602905273, 0.09609206020832062]}"
      ]
     },
     "execution_count": 15,
     "metadata": {},
     "output_type": "execute_result"
    }
   ],
   "source": [
    "res = classifier(\n",
    "    'I love to learn about regularization',\n",
    "    candidate_labels=['positive', 'negative', 'neutral'],\n",
    ")\n",
    "res"
   ]
  },
  {
   "cell_type": "code",
   "execution_count": 17,
   "id": "0d733bc5",
   "metadata": {},
   "outputs": [
    {
     "data": {
      "text/plain": [
       "'positive'"
      ]
     },
     "execution_count": 17,
     "metadata": {},
     "output_type": "execute_result"
    }
   ],
   "source": [
    "res['labels'][np.array(res['scores']).argmax()]"
   ]
  },
  {
   "cell_type": "markdown",
   "id": "80dbec5a",
   "metadata": {},
   "source": [
    "## Regularization with BERT embeddings"
   ]
  },
  {
   "cell_type": "code",
   "execution_count": 1,
   "id": "ad7bc09f",
   "metadata": {
    "id": "ad7bc09f",
    "scrolled": true
   },
   "outputs": [],
   "source": [
    "import torch\n",
    "from sklearn.model_selection import train_test_split\n",
    "from sklearn.linear_model import LogisticRegression\n",
    "from transformers import BertConfig, BertModel, BertTokenizer\n",
    "import pandas as pd"
   ]
  },
  {
   "cell_type": "code",
   "execution_count": 2,
   "id": "a2a86104",
   "metadata": {},
   "outputs": [
    {
     "data": {
      "text/html": [
       "<div>\n",
       "<style scoped>\n",
       "    .dataframe tbody tr th:only-of-type {\n",
       "        vertical-align: middle;\n",
       "    }\n",
       "\n",
       "    .dataframe tbody tr th {\n",
       "        vertical-align: top;\n",
       "    }\n",
       "\n",
       "    .dataframe thead th {\n",
       "        text-align: right;\n",
       "    }\n",
       "</style>\n",
       "<table border=\"1\" class=\"dataframe\">\n",
       "  <thead>\n",
       "    <tr style=\"text-align: right;\">\n",
       "      <th></th>\n",
       "      <th>tweet_id</th>\n",
       "      <th>airline_sentiment</th>\n",
       "      <th>airline_sentiment_confidence</th>\n",
       "      <th>negativereason</th>\n",
       "      <th>negativereason_confidence</th>\n",
       "      <th>airline</th>\n",
       "      <th>airline_sentiment_gold</th>\n",
       "      <th>name</th>\n",
       "      <th>negativereason_gold</th>\n",
       "      <th>retweet_count</th>\n",
       "      <th>text</th>\n",
       "      <th>tweet_coord</th>\n",
       "      <th>tweet_created</th>\n",
       "      <th>tweet_location</th>\n",
       "      <th>user_timezone</th>\n",
       "    </tr>\n",
       "  </thead>\n",
       "  <tbody>\n",
       "    <tr>\n",
       "      <th>0</th>\n",
       "      <td>570306133677760513</td>\n",
       "      <td>neutral</td>\n",
       "      <td>1.0000</td>\n",
       "      <td>NaN</td>\n",
       "      <td>NaN</td>\n",
       "      <td>Virgin America</td>\n",
       "      <td>NaN</td>\n",
       "      <td>cairdin</td>\n",
       "      <td>NaN</td>\n",
       "      <td>0</td>\n",
       "      <td>@VirginAmerica What @dhepburn said.</td>\n",
       "      <td>NaN</td>\n",
       "      <td>2015-02-24 11:35:52 -0800</td>\n",
       "      <td>NaN</td>\n",
       "      <td>Eastern Time (US &amp; Canada)</td>\n",
       "    </tr>\n",
       "    <tr>\n",
       "      <th>1</th>\n",
       "      <td>570301130888122368</td>\n",
       "      <td>positive</td>\n",
       "      <td>0.3486</td>\n",
       "      <td>NaN</td>\n",
       "      <td>0.0000</td>\n",
       "      <td>Virgin America</td>\n",
       "      <td>NaN</td>\n",
       "      <td>jnardino</td>\n",
       "      <td>NaN</td>\n",
       "      <td>0</td>\n",
       "      <td>@VirginAmerica plus you've added commercials t...</td>\n",
       "      <td>NaN</td>\n",
       "      <td>2015-02-24 11:15:59 -0800</td>\n",
       "      <td>NaN</td>\n",
       "      <td>Pacific Time (US &amp; Canada)</td>\n",
       "    </tr>\n",
       "    <tr>\n",
       "      <th>2</th>\n",
       "      <td>570301083672813571</td>\n",
       "      <td>neutral</td>\n",
       "      <td>0.6837</td>\n",
       "      <td>NaN</td>\n",
       "      <td>NaN</td>\n",
       "      <td>Virgin America</td>\n",
       "      <td>NaN</td>\n",
       "      <td>yvonnalynn</td>\n",
       "      <td>NaN</td>\n",
       "      <td>0</td>\n",
       "      <td>@VirginAmerica I didn't today... Must mean I n...</td>\n",
       "      <td>NaN</td>\n",
       "      <td>2015-02-24 11:15:48 -0800</td>\n",
       "      <td>Lets Play</td>\n",
       "      <td>Central Time (US &amp; Canada)</td>\n",
       "    </tr>\n",
       "    <tr>\n",
       "      <th>3</th>\n",
       "      <td>570301031407624196</td>\n",
       "      <td>negative</td>\n",
       "      <td>1.0000</td>\n",
       "      <td>Bad Flight</td>\n",
       "      <td>0.7033</td>\n",
       "      <td>Virgin America</td>\n",
       "      <td>NaN</td>\n",
       "      <td>jnardino</td>\n",
       "      <td>NaN</td>\n",
       "      <td>0</td>\n",
       "      <td>@VirginAmerica it's really aggressive to blast...</td>\n",
       "      <td>NaN</td>\n",
       "      <td>2015-02-24 11:15:36 -0800</td>\n",
       "      <td>NaN</td>\n",
       "      <td>Pacific Time (US &amp; Canada)</td>\n",
       "    </tr>\n",
       "    <tr>\n",
       "      <th>4</th>\n",
       "      <td>570300817074462722</td>\n",
       "      <td>negative</td>\n",
       "      <td>1.0000</td>\n",
       "      <td>Can't Tell</td>\n",
       "      <td>1.0000</td>\n",
       "      <td>Virgin America</td>\n",
       "      <td>NaN</td>\n",
       "      <td>jnardino</td>\n",
       "      <td>NaN</td>\n",
       "      <td>0</td>\n",
       "      <td>@VirginAmerica and it's a really big bad thing...</td>\n",
       "      <td>NaN</td>\n",
       "      <td>2015-02-24 11:14:45 -0800</td>\n",
       "      <td>NaN</td>\n",
       "      <td>Pacific Time (US &amp; Canada)</td>\n",
       "    </tr>\n",
       "  </tbody>\n",
       "</table>\n",
       "</div>"
      ],
      "text/plain": [
       "             tweet_id airline_sentiment  airline_sentiment_confidence  \\\n",
       "0  570306133677760513           neutral                        1.0000   \n",
       "1  570301130888122368          positive                        0.3486   \n",
       "2  570301083672813571           neutral                        0.6837   \n",
       "3  570301031407624196          negative                        1.0000   \n",
       "4  570300817074462722          negative                        1.0000   \n",
       "\n",
       "  negativereason  negativereason_confidence         airline  \\\n",
       "0            NaN                        NaN  Virgin America   \n",
       "1            NaN                     0.0000  Virgin America   \n",
       "2            NaN                        NaN  Virgin America   \n",
       "3     Bad Flight                     0.7033  Virgin America   \n",
       "4     Can't Tell                     1.0000  Virgin America   \n",
       "\n",
       "  airline_sentiment_gold        name negativereason_gold  retweet_count  \\\n",
       "0                    NaN     cairdin                 NaN              0   \n",
       "1                    NaN    jnardino                 NaN              0   \n",
       "2                    NaN  yvonnalynn                 NaN              0   \n",
       "3                    NaN    jnardino                 NaN              0   \n",
       "4                    NaN    jnardino                 NaN              0   \n",
       "\n",
       "                                                text tweet_coord  \\\n",
       "0                @VirginAmerica What @dhepburn said.         NaN   \n",
       "1  @VirginAmerica plus you've added commercials t...         NaN   \n",
       "2  @VirginAmerica I didn't today... Must mean I n...         NaN   \n",
       "3  @VirginAmerica it's really aggressive to blast...         NaN   \n",
       "4  @VirginAmerica and it's a really big bad thing...         NaN   \n",
       "\n",
       "               tweet_created tweet_location               user_timezone  \n",
       "0  2015-02-24 11:35:52 -0800            NaN  Eastern Time (US & Canada)  \n",
       "1  2015-02-24 11:15:59 -0800            NaN  Pacific Time (US & Canada)  \n",
       "2  2015-02-24 11:15:48 -0800      Lets Play  Central Time (US & Canada)  \n",
       "3  2015-02-24 11:15:36 -0800            NaN  Pacific Time (US & Canada)  \n",
       "4  2015-02-24 11:14:45 -0800            NaN  Pacific Time (US & Canada)  "
      ]
     },
     "execution_count": 2,
     "metadata": {},
     "output_type": "execute_result"
    }
   ],
   "source": [
    "# Load data\n",
    "data = pd.read_csv('Tweets.csv')\n",
    "data.head()"
   ]
  },
  {
   "cell_type": "code",
   "execution_count": 3,
   "id": "eb3299d5",
   "metadata": {},
   "outputs": [],
   "source": [
    "# Split data into train and test sets\n",
    "train_data, test_data = train_test_split(data, test_size=0.2, random_state=0)"
   ]
  },
  {
   "cell_type": "code",
   "execution_count": 4,
   "id": "e163830b",
   "metadata": {
    "scrolled": true
   },
   "outputs": [
    {
     "name": "stderr",
     "output_type": "stream",
     "text": [
      "Some weights of the model checkpoint at bert-base-uncased were not used when initializing BertModel: ['cls.predictions.decoder.weight', 'cls.predictions.bias', 'cls.seq_relationship.weight', 'cls.seq_relationship.bias', 'cls.predictions.transform.LayerNorm.weight', 'cls.predictions.transform.LayerNorm.bias', 'cls.predictions.transform.dense.weight', 'cls.predictions.transform.dense.bias']\n",
      "- This IS expected if you are initializing BertModel from the checkpoint of a model trained on another task or with another architecture (e.g. initializing a BertForSequenceClassification model from a BertForPreTraining model).\n",
      "- This IS NOT expected if you are initializing BertModel from the checkpoint of a model that you expect to be exactly identical (initializing a BertForSequenceClassification model from a BertForSequenceClassification model).\n"
     ]
    },
    {
     "data": {
      "text/plain": [
       "BertModel(\n",
       "  (embeddings): BertEmbeddings(\n",
       "    (word_embeddings): Embedding(30522, 768, padding_idx=0)\n",
       "    (position_embeddings): Embedding(512, 768)\n",
       "    (token_type_embeddings): Embedding(2, 768)\n",
       "    (LayerNorm): LayerNorm((768,), eps=1e-12, elementwise_affine=True)\n",
       "    (dropout): Dropout(p=0.1, inplace=False)\n",
       "  )\n",
       "  (encoder): BertEncoder(\n",
       "    (layer): ModuleList(\n",
       "      (0-11): 12 x BertLayer(\n",
       "        (attention): BertAttention(\n",
       "          (self): BertSelfAttention(\n",
       "            (query): Linear(in_features=768, out_features=768, bias=True)\n",
       "            (key): Linear(in_features=768, out_features=768, bias=True)\n",
       "            (value): Linear(in_features=768, out_features=768, bias=True)\n",
       "            (dropout): Dropout(p=0.1, inplace=False)\n",
       "          )\n",
       "          (output): BertSelfOutput(\n",
       "            (dense): Linear(in_features=768, out_features=768, bias=True)\n",
       "            (LayerNorm): LayerNorm((768,), eps=1e-12, elementwise_affine=True)\n",
       "            (dropout): Dropout(p=0.1, inplace=False)\n",
       "          )\n",
       "        )\n",
       "        (intermediate): BertIntermediate(\n",
       "          (dense): Linear(in_features=768, out_features=3072, bias=True)\n",
       "          (intermediate_act_fn): GELUActivation()\n",
       "        )\n",
       "        (output): BertOutput(\n",
       "          (dense): Linear(in_features=3072, out_features=768, bias=True)\n",
       "          (LayerNorm): LayerNorm((768,), eps=1e-12, elementwise_affine=True)\n",
       "          (dropout): Dropout(p=0.1, inplace=False)\n",
       "        )\n",
       "      )\n",
       "    )\n",
       "  )\n",
       "  (pooler): BertPooler(\n",
       "    (dense): Linear(in_features=768, out_features=768, bias=True)\n",
       "    (activation): Tanh()\n",
       "  )\n",
       ")"
      ]
     },
     "execution_count": 4,
     "metadata": {},
     "output_type": "execute_result"
    }
   ],
   "source": [
    "# Instantiate the tokenizer\n",
    "tokenizer = BertTokenizer.from_pretrained('bert-base-uncased')\n",
    "# Initializing a BERT configuration\n",
    "configuration = BertConfig()\n",
    "# Initializing a BERt model with random weights\n",
    "bert = BertModel(configuration)\n",
    "# Loading pre-trained weights\n",
    "bert = bert.from_pretrained('bert-base-uncased')\n",
    "# Load the model on the GPU if any\n",
    "device = torch.device(\"cuda\" if torch.cuda.is_available() else \"cpu\")\n",
    "bert.to(device)\n",
    "# Set the model to eval mode\n",
    "bert.eval()"
   ]
  },
  {
   "cell_type": "code",
   "execution_count": 5,
   "id": "a5175421",
   "metadata": {},
   "outputs": [],
   "source": [
    "max_length = 24\n",
    "# Compute the embeddings for the train set\n",
    "train_tokens = tokenizer(train_data['text'].values.tolist(), add_special_tokens=True, padding='max_length', truncation=True, max_length=max_length, return_tensors='pt')\n",
    "train_tokens = {k: v.to(device) for k, v in train_tokens.items()}\n",
    "with torch.no_grad():\n",
    "    train_embeddings = bert(**train_tokens).pooler_output\n",
    "# Compute the embeddings for the test set\n",
    "test_tokens = tokenizer(test_data['text'].values.tolist(), add_special_tokens=True, padding='max_length', truncation=True, max_length=max_length, return_tensors='pt')\n",
    "test_tokens = {k: v.to(device) for k, v in test_tokens.items()}\n",
    "with torch.no_grad():\n",
    "    test_embeddings = bert(**test_tokens).pooler_output"
   ]
  },
  {
   "cell_type": "code",
   "execution_count": null,
   "id": "ec69b44c",
   "metadata": {},
   "outputs": [],
   "source": [
    "lr = LogisticRegression(C=0.5, max_iter=10000)\n",
    "lr.fit(train_embeddings.cpu(), train_data['airline_sentiment'])"
   ]
  },
  {
   "cell_type": "code",
   "execution_count": 7,
   "id": "deb58ea3",
   "metadata": {
    "scrolled": false
   },
   "outputs": [
    {
     "name": "stdout",
     "output_type": "stream",
     "text": [
      "train accuracy: 0.8035348360655737\n",
      "test accuracy: 0.7882513661202186\n"
     ]
    }
   ],
   "source": [
    "print('train accuracy:', lr.score(train_embeddings.cpu(), train_data['airline_sentiment']))\n",
    "print('test accuracy:', lr.score(test_embeddings.cpu(), test_data['airline_sentiment']))"
   ]
  },
  {
   "cell_type": "markdown",
   "id": "28c7dba2",
   "metadata": {},
   "source": [
    "### There's more"
   ]
  },
  {
   "cell_type": "code",
   "execution_count": 16,
   "id": "734c4a73",
   "metadata": {},
   "outputs": [
    {
     "name": "stdout",
     "output_type": "stream",
     "text": [
      "{'input_ids': tensor([[  101,  2054,  2003,  1037, 19204, 17629,  1029,  2023,  2003,  1037,\n",
      "          2204,  3160,  1012,   102,     0,     0,     0,     0,     0,     0,\n",
      "             0,     0,     0,     0]]), 'token_type_ids': tensor([[0, 0, 0, 0, 0, 0, 0, 0, 0, 0, 0, 0, 0, 0, 0, 0, 0, 0, 0, 0, 0, 0, 0, 0]]), 'attention_mask': tensor([[1, 1, 1, 1, 1, 1, 1, 1, 1, 1, 1, 1, 1, 1, 0, 0, 0, 0, 0, 0, 0, 0, 0, 0]])}\n"
     ]
    }
   ],
   "source": [
    "tokens = tokenizer('What is a tokenizer?', add_special_tokens=True, padding='max_length', truncation=True, max_length=max_length, return_tensors='pt')\n",
    "print(tokens)"
   ]
  },
  {
   "cell_type": "code",
   "execution_count": 23,
   "id": "dc1f8dac",
   "metadata": {
    "scrolled": true
   },
   "outputs": [
    {
     "name": "stdout",
     "output_type": "stream",
     "text": [
      "tensor([[-0.8947, -0.3769, -0.8185,  0.7429,  0.5408, -0.1211,  0.8675,  0.2659,\n",
      "         -0.6507, -1.0000, -0.2761,  0.8524,  0.9738,  0.4190,  0.9171, -0.7309,\n",
      "         -0.1398, -0.5986,  0.2661, -0.5249,  0.6231,  0.9999,  0.1622,  0.3898,\n",
      "          0.3964,  0.9409, -0.7071,  0.9133,  0.9513,  0.7316, -0.6867,  0.1575,\n",
      "         -0.9853, -0.1422, -0.7964, -0.9872,  0.3429, -0.6807,  0.0680,  0.0643,\n",
      "         -0.8723,  0.2593,  0.9999, -0.5637,  0.3893, -0.3236, -1.0000,  0.2309,\n",
      "         -0.8693,  0.8439,  0.8033,  0.7725,  0.1262,  0.4381,  0.4909, -0.2119,\n",
      "         -0.1303,  0.1261, -0.2855, -0.5235, -0.6414,  0.3183, -0.6871, -0.8881,\n",
      "          0.7282,  0.7444, -0.0875, -0.2863, -0.0955, -0.0733,  0.8767,  0.1984,\n",
      "         -0.2358, -0.8437,  0.5129,  0.1521, -0.6840,  1.0000, -0.5588, -0.9722,\n",
      "          0.7326,  0.7103,  0.6082, -0.2197,  0.4593, -1.0000,  0.5995,  0.0387,\n",
      "         -0.9855,  0.1585,  0.5374, -0.2143,  0.6246,  0.6323, -0.5971, -0.4695,\n",
      "         -0.3326, -0.6912, -0.1741, -0.2946,  0.0922, -0.2478, -0.3453, -0.3638,\n",
      "          0.2821, -0.5113, -0.5566,  0.6299,  0.1535,  0.6737,  0.4999, -0.3053,\n",
      "          0.3765, -0.9379,  0.6018, -0.3739, -0.9827, -0.6631, -0.9816,  0.6305,\n",
      "         -0.0697, -0.1893,  0.9470, -0.1557,  0.4019, -0.1564, -0.8164, -1.0000,\n",
      "         -0.5143, -0.5879, -0.2293, -0.2650, -0.9721, -0.9569,  0.6309,  0.9597,\n",
      "          0.2255,  0.9997, -0.2128,  0.9151, -0.2301, -0.5306,  0.4005, -0.4125,\n",
      "          0.7363,  0.3229, -0.6048,  0.1894, -0.3140,  0.2744, -0.6307, -0.2526,\n",
      "         -0.7327, -0.9034, -0.3566,  0.9254, -0.3734, -0.8414,  0.1034, -0.2369,\n",
      "         -0.3529,  0.8411,  0.7034,  0.3951, -0.3648,  0.4487,  0.3167,  0.5252,\n",
      "         -0.8508,  0.0873,  0.4024, -0.3523, -0.7956, -0.9688, -0.3644,  0.5094,\n",
      "          0.9846,  0.7169,  0.2729,  0.7034, -0.3327,  0.5995, -0.9368,  0.9751,\n",
      "         -0.0682,  0.2862, -0.4909,  0.3629, -0.8810,  0.1158,  0.8153, -0.5005,\n",
      "         -0.8082, -0.0057, -0.5074, -0.3723, -0.6882,  0.4987, -0.3249, -0.3577,\n",
      "         -0.0855,  0.9213,  0.9703,  0.7038,  0.0470,  0.5744, -0.8554, -0.4701,\n",
      "          0.0841,  0.2506,  0.0161,  0.9896, -0.6853, -0.1093, -0.9241, -0.9757,\n",
      "         -0.0907, -0.8820, -0.1457, -0.6577,  0.5822, -0.2220,  0.4585,  0.4749,\n",
      "         -0.9592, -0.8094,  0.3428, -0.4746,  0.4076, -0.2833,  0.8737,  0.8842,\n",
      "         -0.6067,  0.6472,  0.9295, -0.7992, -0.7293,  0.7619, -0.2958,  0.8867,\n",
      "         -0.5881,  0.9860,  0.8170,  0.6390, -0.8725, -0.6492, -0.8787, -0.6318,\n",
      "         -0.1354,  0.0285,  0.8141,  0.7019,  0.3632,  0.3339, -0.4959,  0.9951,\n",
      "         -0.9013, -0.9441, -0.3405, -0.0793, -0.9867,  0.7706,  0.2813,  0.2518,\n",
      "         -0.4130, -0.6318, -0.9419,  0.7883,  0.0983,  0.9790, -0.4074, -0.8963,\n",
      "         -0.5877, -0.8863, -0.1886, -0.2099, -0.2642, -0.1223, -0.9388,  0.5592,\n",
      "          0.5687,  0.4984, -0.7116,  0.9972,  1.0000,  0.9639,  0.8753,  0.8682,\n",
      "         -0.9993, -0.5748,  1.0000, -0.9697, -1.0000, -0.9219, -0.6573,  0.4017,\n",
      "         -1.0000, -0.2632, -0.0212, -0.8547,  0.5267,  0.9667,  0.9880, -1.0000,\n",
      "          0.8252,  0.9172, -0.7073,  0.8607, -0.4014,  0.9624,  0.5866,  0.5798,\n",
      "         -0.1943,  0.3552, -0.8762, -0.8275, -0.4475, -0.6115,  0.9943,  0.1557,\n",
      "         -0.8239, -0.8470,  0.4815, -0.1449, -0.1796, -0.9595, -0.2141,  0.3020,\n",
      "          0.7732,  0.1330,  0.3232, -0.6856,  0.2551,  0.0999,  0.2367,  0.6977,\n",
      "         -0.9288, -0.4959,  0.0299, -0.2896, -0.5265, -0.9591,  0.9528, -0.3486,\n",
      "          0.6735,  1.0000,  0.1925, -0.8301,  0.5841,  0.2572, -0.6304,  1.0000,\n",
      "          0.7709, -0.9724, -0.6401,  0.6061, -0.5220, -0.5927,  0.9991, -0.2314,\n",
      "         -0.5429, -0.3000,  0.9617, -0.9855,  0.9893, -0.9118, -0.9611,  0.9605,\n",
      "          0.9284, -0.4544, -0.6762,  0.0581, -0.6756,  0.2627, -0.9340,  0.6592,\n",
      "          0.5003, -0.1164,  0.8721, -0.7947, -0.6451,  0.3659, -0.5297,  0.1116,\n",
      "          0.8988,  0.4350, -0.2993, -0.0211, -0.2713, -0.6482, -0.9653,  0.5329,\n",
      "          1.0000, -0.1551,  0.5720, -0.3886, -0.0822, -0.1859,  0.5531,  0.5531,\n",
      "         -0.3017, -0.8531,  0.6327, -0.9338, -0.9813,  0.6658,  0.1512, -0.3391,\n",
      "          1.0000,  0.3559,  0.1471,  0.2495,  0.9235, -0.0098,  0.5311,  0.7620,\n",
      "          0.9788, -0.2938,  0.6553,  0.8280, -0.8292, -0.3138, -0.7050, -0.0311,\n",
      "         -0.9088,  0.0376, -0.9426,  0.9577,  0.7560,  0.4054,  0.1999,  0.6327,\n",
      "          1.0000, -0.6974,  0.6180, -0.0285,  0.7446, -0.9994, -0.7894, -0.3298,\n",
      "         -0.0648, -0.7457, -0.3454,  0.2781, -0.9515,  0.7126,  0.4429, -0.9747,\n",
      "         -0.9809, -0.0160,  0.7993,  0.0287, -0.9652, -0.6557, -0.6020,  0.5154,\n",
      "         -0.3711, -0.9077, -0.0022, -0.2758,  0.4638, -0.3446,  0.6690,  0.7998,\n",
      "          0.7117, -0.6802, -0.2564, -0.1060, -0.7328,  0.8233, -0.8352, -0.8514,\n",
      "         -0.1433,  1.0000, -0.5575,  0.8778,  0.7400,  0.7145, -0.1530,  0.2101,\n",
      "          0.8714,  0.2496, -0.6848, -0.6819, -0.2509, -0.3841,  0.6909,  0.4829,\n",
      "          0.7089,  0.7667,  0.7341,  0.0613, -0.0711,  0.0056,  0.9988, -0.0290,\n",
      "         -0.2140, -0.5516, -0.0291, -0.3421, -0.0619,  1.0000,  0.3065,  0.2100,\n",
      "         -0.9829, -0.7141, -0.8791,  1.0000,  0.8104, -0.7823,  0.6749,  0.5129,\n",
      "         -0.1432,  0.7348, -0.1558, -0.2354,  0.1185,  0.1094,  0.9297, -0.5428,\n",
      "         -0.9598, -0.5726,  0.3695, -0.9496,  0.9996, -0.5794, -0.2116, -0.3305,\n",
      "         -0.1448,  0.0914, -0.1652, -0.9745, -0.2282,  0.1648,  0.9423,  0.2230,\n",
      "         -0.6485, -0.8670,  0.6265,  0.6776, -0.7930, -0.8944,  0.9473, -0.9683,\n",
      "          0.5913,  1.0000,  0.3661, -0.1340,  0.1897, -0.5366,  0.3233, -0.1290,\n",
      "          0.7142, -0.9482, -0.3540, -0.1540,  0.2018, -0.1680, -0.3709,  0.5342,\n",
      "          0.1531, -0.6077, -0.5333, -0.1322,  0.4422,  0.7941, -0.1733, -0.0844,\n",
      "          0.1784, -0.1516, -0.8728, -0.3284, -0.4418, -1.0000,  0.6855, -1.0000,\n",
      "          0.3434,  0.1393, -0.1857,  0.8185,  0.5661,  0.6260, -0.6892, -0.7183,\n",
      "          0.5309,  0.7308, -0.2424, -0.1655, -0.6115,  0.2995,  0.0176,  0.1481,\n",
      "         -0.5469,  0.7604, -0.2286,  1.0000,  0.1108, -0.7093, -0.9608,  0.2316,\n",
      "         -0.2862,  1.0000, -0.8963, -0.9332,  0.3587, -0.7341, -0.8044,  0.3398,\n",
      "          0.0268, -0.6696, -0.8682,  0.9343,  0.8191, -0.6639,  0.4493, -0.2659,\n",
      "         -0.5172, -0.0198,  0.7330,  0.9808,  0.5112,  0.9119,  0.1258, -0.2332,\n",
      "          0.9637,  0.2772,  0.3838,  0.0049,  1.0000,  0.2962, -0.9244,  0.3074,\n",
      "         -0.9806, -0.1029, -0.9497,  0.2481,  0.2148,  0.8832, -0.2284,  0.9320,\n",
      "         -0.5969, -0.0138, -0.3953, -0.3560,  0.3457, -0.9007, -0.9788, -0.9739,\n",
      "          0.5209, -0.3962, -0.0713,  0.2502,  0.0882,  0.4073,  0.3575, -1.0000,\n",
      "          0.9139,  0.4312,  0.8522,  0.9362,  0.6475,  0.4919,  0.2331, -0.9776,\n",
      "         -0.9618, -0.2772, -0.2651,  0.7398,  0.6012,  0.8911,  0.3578, -0.4987,\n",
      "         -0.5231, -0.5632, -0.7339, -0.9895,  0.4238, -0.5237, -0.9412,  0.9536,\n",
      "         -0.2304, -0.0958,  0.0714, -0.7483,  0.8384,  0.7466,  0.3269,  0.0669,\n",
      "          0.5152,  0.8469,  0.9335,  0.9781, -0.7427,  0.7679, -0.5253,  0.4792,\n",
      "          0.7947, -0.9279,  0.0877,  0.4830, -0.3713,  0.2607, -0.2351, -0.9471,\n",
      "          0.6708, -0.2534,  0.5377, -0.4108,  0.0444, -0.3616, -0.1510, -0.7593,\n",
      "         -0.6190,  0.6931,  0.4030,  0.8776,  0.7584, -0.0188, -0.6706, -0.0731,\n",
      "         -0.7119, -0.9010,  0.9063, -0.0302, -0.3186,  0.5539, -0.0551,  0.8991,\n",
      "          0.1510, -0.3858, -0.2562, -0.7680,  0.8355, -0.6208, -0.5459, -0.5147,\n",
      "          0.6378,  0.2897,  0.9999, -0.7117, -0.8168, -0.4287, -0.3122,  0.3756,\n",
      "         -0.4129, -1.0000,  0.3355, -0.3500,  0.6304, -0.5393,  0.7149, -0.4586,\n",
      "         -0.9639, -0.2225,  0.6004,  0.6894, -0.4942, -0.4236,  0.6473,  0.0515,\n",
      "          0.9040,  0.8568, -0.5347,  0.1156,  0.7070, -0.7850, -0.6372,  0.8980]],\n",
      "       device='cuda:0', grad_fn=<TanhBackward0>)\n"
     ]
    }
   ],
   "source": [
    "tokens = {k: v.to(device) for k, v in tokens.items()}\n",
    "output = bert(**tokens)\n",
    "print(output.pooler_output)"
   ]
  },
  {
   "cell_type": "code",
   "execution_count": 13,
   "id": "7953c923",
   "metadata": {},
   "outputs": [],
   "source": [
    "import openai\n",
    "# Give your \n",
    "openai.api_key = 'xx-xxx'\n",
    "# Query the API\n",
    "input_text = 'This is a test sentence'\n",
    "model = 'text-embedding-ada-002'\n",
    "embeddings = openai.Embedding.create(input = [input_text], model=model)['data'][0]['embedding']"
   ]
  },
  {
   "cell_type": "markdown",
   "id": "c64e31f5",
   "metadata": {},
   "source": [
    "## Data augmentation using GPT-3"
   ]
  },
  {
   "cell_type": "code",
   "execution_count": 2,
   "id": "030aaeba",
   "metadata": {},
   "outputs": [],
   "source": [
    "import openai"
   ]
  },
  {
   "cell_type": "code",
   "execution_count": 3,
   "id": "b816b188",
   "metadata": {},
   "outputs": [],
   "source": [
    "openai.api_key = 'xx-xxx'"
   ]
  },
  {
   "cell_type": "code",
   "execution_count": 5,
   "id": "a03efb7e",
   "metadata": {},
   "outputs": [],
   "source": [
    "positive_examples = openai.ChatCompletion.create(\n",
    "    model=\"gpt-3.5-turbo\",\n",
    "    messages=[\n",
    "        {\"role\": \"system\", \"content\": \"You watched a movie you loved.\"},\n",
    "        {\"role\": \"user\", \"content\": \"Write a short, 100-words review about this movie\"},\n",
    "    ],\n",
    "    max_tokens=128,\n",
    "    temperature=0.5,\n",
    "    n=3,\n",
    ")"
   ]
  },
  {
   "cell_type": "code",
   "execution_count": 6,
   "id": "1827e1b8",
   "metadata": {},
   "outputs": [
    {
     "name": "stdout",
     "output_type": "stream",
     "text": [
      "\n",
      "\n",
      "Generated sentence 1: \n",
      "\n",
      "I recently watched the movie \"Inception\" and was blown away by its intricate plot and stunning visuals. The film follows a team of skilled thieves who enter people's dreams to steal their secrets. The concept of dream-sharing is fascinating and the execution of the idea is flawless. The cast, led by Leonardo DiCaprio, delivers outstanding performances that add depth to the characters. The action scenes are thrilling and the special effects are mind-bending. The film's score by Hans Zimmer is also noteworthy, adding to the overall immersive experience. \"Inception\" is a masterpiece that will leave you pondering its themes long after the credits roll.\n",
      "\n",
      "\n",
      "Generated sentence 2: \n",
      "\n",
      "I recently watched the movie \"The Shawshank Redemption\" and absolutely loved it. The story follows the life of a man named Andy Dufresne, who is wrongfully convicted of murder and sent to Shawshank prison. The movie beautifully portrays the struggles and hardships faced by prisoners, and the importance of hope and friendship in such a harsh environment. The acting by Tim Robbins and Morgan Freeman is outstanding, and the plot twists keep you engaged throughout the movie. Overall, \"The Shawshank Redemption\" is a must-watch for anyone who loves a good drama and a heartwarming story about the power of the human spirit.\n",
      "\n",
      "\n",
      "Generated sentence 3: \n",
      "\n",
      "I recently watched the movie \"Parasite\" and it blew me away. The story revolves around a poor family who slowly infiltrates the lives of a wealthy family, but things take a dark turn. The movie is a masterclass in storytelling, with each scene building tension and adding layers to the plot. The acting is superb, with standout performances from the entire cast. The cinematography is also stunning, with each shot expertly crafted to enhance the mood and atmosphere of the film. \"Parasite\" is a must-watch for anyone who loves a good thriller with a twist.\n"
     ]
    }
   ],
   "source": [
    "for i in range(len(positive_examples['choices'])):\n",
    "    print(f'\\n\\nGenerated sentence {i+1}: \\n')\n",
    "    print(positive_examples['choices'][i]['message']['content'])"
   ]
  },
  {
   "cell_type": "code",
   "execution_count": 4,
   "id": "b287a6f6",
   "metadata": {},
   "outputs": [
    {
     "name": "stdout",
     "output_type": "stream",
     "text": [
      "\n",
      "\n",
      "Generated sentence 1: \n",
      "\n",
      "I recently watched a movie that left me feeling disappointed and frustrated. The plot was weak and predictable, and the characters were one-dimensional and unrelatable. The acting was subpar, with wooden performances and lackluster chemistry between the cast. The special effects were underwhelming and failed to add any excitement or visual interest to the film. Overall, I found myself checking the time and counting down the minutes until the end. I wouldn't recommend this movie to anyone looking for a compelling and engaging cinematic experience.\n",
      "\n",
      "\n",
      "Generated sentence 2: \n",
      "\n",
      "I recently watched a movie that left me feeling disappointed and underwhelmed. The plot was predictable and lacked any real depth or complexity. The characters were one-dimensional and unrelatable, making it hard to invest in their stories. The pacing was slow and dragged on unnecessarily, making the already dull plot even more tedious to sit through. The acting was subpar, with even the most talented actors failing to bring any life to their roles. Overall, I found this movie to be a complete waste of time and would not recommend it to anyone looking for an engaging and entertaining film experience.\n",
      "\n",
      "\n",
      "Generated sentence 3: \n",
      "\n",
      "I recently watched a movie that I absolutely hated - \"The Roommate\". The plot was predictable and the acting was subpar at best. The characters were one-dimensional and lacked any depth or development throughout the film. The dialogue was cringe-worthy and the attempts at suspense fell flat. Overall, I found the movie to be a waste of time and would not recommend it to anyone. If you're looking for a thrilling and well-crafted thriller, \"The Roommate\" is definitely not the movie for you.\n"
     ]
    }
   ],
   "source": [
    "# Generate the generated examples\n",
    "negative_examples = openai.ChatCompletion.create(\n",
    "    model=\"gpt-3.5-turbo\",\n",
    "    messages=[\n",
    "        {\"role\": \"system\", \"content\": \"You watched a movie you hated.\"},\n",
    "        {\"role\": \"user\", \"content\": \"Write a short, 100-words review about this movie\"},\n",
    "    ],\n",
    "    max_tokens=128,\n",
    "    temperature=0.5,\n",
    "    n=3,\n",
    ")\n",
    "# Display the generated examples\n",
    "for i in range(len(negative_examples['choices'])):\n",
    "    print(f'\\n\\nGenerated sentence {i+1}: \\n')\n",
    "    print(negative_examples['choices'][i]['message']['content'])"
   ]
  },
  {
   "cell_type": "markdown",
   "id": "3ac1e08a",
   "metadata": {},
   "source": [
    "### There's more"
   ]
  },
  {
   "cell_type": "code",
   "execution_count": 22,
   "id": "eca062c9",
   "metadata": {},
   "outputs": [],
   "source": [
    "# Import the pipeline from transformers\n",
    "from transformers import pipeline\n",
    "# Instantiate a text-generation pipeline based on GPT-2 model\n",
    "generator = pipeline('text-generation', model='gpt2')\n",
    "#generator = pipeline('text2text-generation')#, model = 'facebook/mbart-large-50')"
   ]
  },
  {
   "cell_type": "code",
   "execution_count": 28,
   "id": "d04dbee9",
   "metadata": {},
   "outputs": [
    {
     "name": "stdout",
     "output_type": "stream",
     "text": [
      "\n",
      "\n",
      "Generated sentence 1: \n",
      "\n",
      "I loved everything about this movie,  the movie itself was great and I didn't want to stop after the first movie because I was so happy for it. But I did like the first movie and I loved the second one and so much of what I did with it and other things with how I handled the other films.\n",
      "What were your thoughts as fans?\n",
      "After the opening credits, I kept thinking, \"This will be my big, special moment, I can't do this alone\". I've watched the original 2 episodes, they do have a big difference in the ending. But really, it's just my dream to put in movies you love, and I'm always looking over every minute on how good they were and looking forward.\n",
      "I think because everyone is talking about it, and so much of the movie is just it of my dream, the movie that I am to get this, the movie that I want to watch or maybe I'm doing my dreams.\n",
      "Also, it's more to a big than your dream. I think if I get enough reviews, people will start to see it. There will even be a few who will see it in the summer.\n",
      "I know I did it in a way when I was in high school. I never read the reviews again because I'm not a gamer and I never read the reviews because I love that. But by watching the movies, I feel that I am better than that. So, my dream is going to be to give up on the game I started out with in high school and focus on the movies I like. Not just the one I played, but the one you all enjoy watching!\n",
      "I really hope you guys give it more attention and like for this one, just keep going or stay up for the next movie for when all the things you said can be true.\n",
      "Thanks in advance, and happy movie watching!\n",
      "\n",
      "\n",
      "Generated sentence 2: \n",
      "\n",
      "I loved everything about this movie,  It was a surprise to see. I want to say thank to the cast of the film, but don't call me the original star. I love that I have to keep myself on top of the world in other things. (laughs) I was excited about the ending and I was thinking about how much fun it would be to watch that ending. At the end of the day it was all for me. The movie was a shock to watch. It was all about the fact that he and her father can all die. It was so exciting.\n",
      "Says a fan, \"I've been waiting for this movie since childhood, and this is the first time I've seen it.\"\n",
      "\n",
      "\n",
      "Generated sentence 3: \n",
      "\n",
      "I loved everything about this movie,  so I made the only mistake I have ever made because for once it felt like this movie was happening. It's always exciting to see a feature that gives the fans something to feel. It's a truly beautiful world in which life isn't a game; life is a process. But it's fun to be forced to watch something that tells you some great things about our environment, even when only one person actually is there, who cares about it. This film was not just another film, it was a true movie. And while I'm still looking forward to seeing more amazing, unique movies from the history of cinema, I can guarantee you that there's more we'll be hearing about from our friends at AMC and others who care about our history, the history of film making, and the history of art-design in general...\n"
     ]
    }
   ],
   "source": [
    "# Generate the positive examples\n",
    "positive_example = generator(\n",
    "    \"I loved everything about this movie, \",\n",
    "    max_length = 512,\n",
    "    num_return_sequences=3,\n",
    ")\n",
    "# Display the generated examples\n",
    "for i in range(len(positive_example)):\n",
    "    print(f'\\n\\nGenerated sentence {i+1}: \\n')\n",
    "    print(positive_example[i]['generated_text'])"
   ]
  }
 ],
 "metadata": {
  "kernelspec": {
   "display_name": "Python 3 (ipykernel)",
   "language": "python",
   "name": "python3"
  },
  "language_info": {
   "codemirror_mode": {
    "name": "ipython",
    "version": 3
   },
   "file_extension": ".py",
   "mimetype": "text/x-python",
   "name": "python",
   "nbconvert_exporter": "python",
   "pygments_lexer": "ipython3",
   "version": "3.9.16"
  },
  "varInspector": {
   "cols": {
    "lenName": 16,
    "lenType": 16,
    "lenVar": 40
   },
   "kernels_config": {
    "python": {
     "delete_cmd_postfix": "",
     "delete_cmd_prefix": "del ",
     "library": "var_list.py",
     "varRefreshCmd": "print(var_dic_list())"
    },
    "r": {
     "delete_cmd_postfix": ") ",
     "delete_cmd_prefix": "rm(",
     "library": "var_list.r",
     "varRefreshCmd": "cat(var_dic_list()) "
    }
   },
   "types_to_exclude": [
    "module",
    "function",
    "builtin_function_or_method",
    "instance",
    "_Feature"
   ],
   "window_display": false
  }
 },
 "nbformat": 4,
 "nbformat_minor": 5
}
