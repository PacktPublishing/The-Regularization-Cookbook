{
 "cells": [
  {
   "cell_type": "markdown",
   "id": "d51cfabc",
   "metadata": {},
   "source": [
    "# Regularization with Linear Models"
   ]
  },
  {
   "cell_type": "markdown",
   "id": "98a69be2",
   "metadata": {},
   "source": [
    "## Training a Linear Regression with scikit-learn"
   ]
  },
  {
   "cell_type": "code",
   "execution_count": 2,
   "id": "d276d0ea",
   "metadata": {},
   "outputs": [],
   "source": [
    "import numpy as np\n",
    "from sklearn.datasets import fetch_california_housing\n",
    "from sklearn.model_selection import train_test_split\n",
    "from sklearn.preprocessing import StandardScaler\n",
    "from sklearn.linear_model import LinearRegression"
   ]
  },
  {
   "cell_type": "code",
   "execution_count": 3,
   "id": "f7761cfb",
   "metadata": {},
   "outputs": [],
   "source": [
    "# Load the California housing dataset\n",
    "X, y = fetch_california_housing(return_X_y=True)\n",
    "X = np.concatenate([X, X*X], axis=1)"
   ]
  },
  {
   "cell_type": "code",
   "execution_count": 4,
   "id": "375ee039",
   "metadata": {},
   "outputs": [],
   "source": [
    "# Split the data\n",
    "X_train, X_test, y_train, y_test = train_test_split(X, y, test_size=0.2, random_state=0)"
   ]
  },
  {
   "cell_type": "code",
   "execution_count": 5,
   "id": "8e16fffa",
   "metadata": {},
   "outputs": [],
   "source": [
    "# Rescale the data\n",
    "scaler = StandardScaler()\n",
    "X_train = scaler.fit_transform(X_train)\n",
    "X_test = scaler.transform(X_test)"
   ]
  },
  {
   "cell_type": "code",
   "execution_count": 6,
   "id": "b3a93c7b",
   "metadata": {},
   "outputs": [
    {
     "data": {
      "text/plain": [
       "LinearRegression()"
      ]
     },
     "execution_count": 6,
     "metadata": {},
     "output_type": "execute_result"
    }
   ],
   "source": [
    "# Fit the linear regression model\n",
    "lr = LinearRegression()\n",
    "lr.fit(X_train, y_train)"
   ]
  },
  {
   "cell_type": "code",
   "execution_count": 7,
   "id": "be5ea904",
   "metadata": {},
   "outputs": [
    {
     "name": "stdout",
     "output_type": "stream",
     "text": [
      "R2-score on train set: 0.6323843381852894\n",
      "R2-score on test set: -1.2472000127402643\n"
     ]
    }
   ],
   "source": [
    "# Print the R2-score on train and test\n",
    "print('R2-score on train set:', lr.score(X_train, y_train))\n",
    "print('R2-score on test set:', lr.score(X_test, y_test))"
   ]
  },
  {
   "cell_type": "code",
   "execution_count": 8,
   "id": "7b144b71",
   "metadata": {},
   "outputs": [
    {
     "name": "stdout",
     "output_type": "stream",
     "text": [
      "w values: [ 1.12882772e+00 -6.48931138e-02 -4.04087026e-01  4.87937619e-01\n",
      " -1.69895164e-03 -4.09553062e-01 -3.72826365e+00 -8.38728583e+00\n",
      " -2.67065542e-01  2.04856554e-01  2.46387700e-01 -3.19674747e-01\n",
      "  2.58750270e-03  3.91054062e-01  2.82040287e+00 -7.50771410e+00]\n",
      "b value: 2.072498958939411\n"
     ]
    }
   ],
   "source": [
    "print('w values:', lr.coef_)\n",
    "print('b value:', lr.intercept_)"
   ]
  },
  {
   "cell_type": "code",
   "execution_count": 9,
   "id": "bb3ba87f",
   "metadata": {},
   "outputs": [
    {
     "data": {
      "image/png": "[encoded data removed]",
      "text/plain": [
       "<Figure size 640x480 with 1 Axes>"
      ]
     },
     "metadata": {},
     "output_type": "display_data"
    }
   ],
   "source": [
    "import matplotlib.pyplot as plt\n",
    "\n",
    "plt.bar(np.arange(len(lr.coef_)), lr.coef_)\n",
    "plt.xlabel('feature index')\n",
    "plt.ylabel('weight value')\n",
    "plt.show()"
   ]
  },
  {
   "cell_type": "markdown",
   "id": "846c700f",
   "metadata": {},
   "source": [
    "## Regularizing with Ridge Regression"
   ]
  },
  {
   "cell_type": "code",
   "execution_count": 10,
   "id": "4c4932dd",
   "metadata": {},
   "outputs": [],
   "source": [
    "from sklearn.linear_model import Ridge"
   ]
  },
  {
   "cell_type": "code",
   "execution_count": 11,
   "id": "c787b233",
   "metadata": {},
   "outputs": [
    {
     "data": {
      "text/plain": [
       "Ridge(alpha=5000)"
      ]
     },
     "execution_count": 11,
     "metadata": {},
     "output_type": "execute_result"
    }
   ],
   "source": [
    "# Fit the Ridge model\n",
    "ridge = Ridge(alpha=5000)\n",
    "ridge.fit(X_train, y_train)"
   ]
  },
  {
   "cell_type": "code",
   "execution_count": 12,
   "id": "5a07d6cd",
   "metadata": {},
   "outputs": [
    {
     "name": "stdout",
     "output_type": "stream",
     "text": [
      "R2-score on train set: 0.5398290317808138\n",
      "R2-score on test set: 0.5034148460338739\n"
     ]
    }
   ],
   "source": [
    "# Print the R2-score on train and test\n",
    "print('R2-score on train set:', ridge.score(X_train, y_train))\n",
    "print('R2-score on test set:', ridge.score(X_test, y_test))"
   ]
  },
  {
   "cell_type": "markdown",
   "id": "e066a750",
   "metadata": {},
   "source": [
    "### There's more"
   ]
  },
  {
   "cell_type": "code",
   "execution_count": 13,
   "id": "924c20b9",
   "metadata": {
    "scrolled": true
   },
   "outputs": [
    {
     "name": "stdout",
     "output_type": "stream",
     "text": [
      "theta values: [ 0.43456599  0.06311698  0.00463607  0.00963748  0.00896739 -0.05894055\n",
      " -0.17177956 -0.15109744  0.22933247  0.08516982  0.01842825 -0.01049763\n",
      " -0.00358684  0.03935491 -0.17562536  0.1507696 ]\n",
      "b value: 2.07249895893891\n"
     ]
    }
   ],
   "source": [
    "print('theta values:', ridge.coef_)\n",
    "print('b value:', ridge.intercept_)"
   ]
  },
  {
   "cell_type": "code",
   "execution_count": 14,
   "id": "8737fab2",
   "metadata": {},
   "outputs": [
    {
     "data": {
      "image/png": "[encoded data removed]",
      "text/plain": [
       "<Figure size 640x480 with 1 Axes>"
      ]
     },
     "metadata": {},
     "output_type": "display_data"
    }
   ],
   "source": [
    "plt.bar(np.arange(len(ridge.coef_)), ridge.coef_)\n",
    "plt.xlabel('feature index')\n",
    "plt.ylabel('weight value')\n",
    "plt.show()"
   ]
  },
  {
   "cell_type": "markdown",
   "id": "9c55d415",
   "metadata": {},
   "source": [
    "## Regularizing with Lasso Regression"
   ]
  },
  {
   "cell_type": "code",
   "execution_count": 16,
   "id": "63823005",
   "metadata": {},
   "outputs": [],
   "source": [
    "from sklearn.linear_model import Lasso"
   ]
  },
  {
   "cell_type": "code",
   "execution_count": 17,
   "id": "aa3caf88",
   "metadata": {},
   "outputs": [
    {
     "name": "stderr",
     "output_type": "stream",
     "text": [
      "/home/vince/anaconda3/lib/python3.9/site-packages/sklearn/linear_model/_coordinate_descent.py:647: ConvergenceWarning: Objective did not converge. You might want to increase the number of iterations, check the scale of the features or consider increasing regularisation. Duality gap: 2.616e+00, tolerance: 2.210e+00\n",
      "  model = cd_fast.enet_coordinate_descent(\n"
     ]
    },
    {
     "data": {
      "text/plain": [
       "Lasso(alpha=0.02)"
      ]
     },
     "execution_count": 17,
     "metadata": {},
     "output_type": "execute_result"
    }
   ],
   "source": [
    "# Fit the Lasso model\n",
    "lasso = Lasso(alpha=0.02)\n",
    "lasso.fit(X_train, y_train)"
   ]
  },
  {
   "cell_type": "code",
   "execution_count": 18,
   "id": "9380e99d",
   "metadata": {},
   "outputs": [
    {
     "name": "stdout",
     "output_type": "stream",
     "text": [
      "R2-score on train set: 0.5949103710772492\n",
      "R2-score on test set: 0.57350350155955\n"
     ]
    }
   ],
   "source": [
    "# Print the R2-score on train and test\n",
    "print('R2-score on train set:', lasso.score(X_train, y_train))\n",
    "print('R2-score on test set:', lasso.score(X_test, y_test))"
   ]
  },
  {
   "cell_type": "markdown",
   "id": "d980c7ba",
   "metadata": {},
   "source": [
    "### There's more"
   ]
  },
  {
   "cell_type": "code",
   "execution_count": 19,
   "id": "b37911fd",
   "metadata": {},
   "outputs": [
    {
     "data": {
      "image/png": "[encoded data removed]",
      "text/plain": [
       "<Figure size 640x480 with 1 Axes>"
      ]
     },
     "metadata": {},
     "output_type": "display_data"
    }
   ],
   "source": [
    "plt.bar(np.arange(len(lasso.coef_)), lasso.coef_)\n",
    "plt.xlabel('feature index')\n",
    "plt.ylabel('weight value')\n",
    "plt.show()"
   ]
  },
  {
   "cell_type": "markdown",
   "id": "a1ff184e",
   "metadata": {},
   "source": [
    "## Regularizing with an Elastic Net Regression"
   ]
  },
  {
   "cell_type": "code",
   "execution_count": 1,
   "id": "77385a07",
   "metadata": {},
   "outputs": [],
   "source": [
    "from sklearn.linear_model import ElasticNet"
   ]
  },
  {
   "cell_type": "code",
   "execution_count": 18,
   "id": "891859d0",
   "metadata": {},
   "outputs": [
    {
     "data": {
      "text/plain": [
       "ElasticNet(alpha=0.1)"
      ]
     },
     "execution_count": 18,
     "metadata": {},
     "output_type": "execute_result"
    }
   ],
   "source": [
    "# Fit the LASSO model\n",
    "elastic = ElasticNet(alpha=0.1, l1_ratio=0.5)\n",
    "elastic.fit(X_train, y_train)"
   ]
  },
  {
   "cell_type": "code",
   "execution_count": 9,
   "id": "13d2f0b0",
   "metadata": {},
   "outputs": [
    {
     "name": "stdout",
     "output_type": "stream",
     "text": [
      "R2-score on train set: 0.539957010948829\n",
      "R2-score on test set: 0.5134203748307193\n"
     ]
    }
   ],
   "source": [
    "# Print the R2-score on train and test\n",
    "print('R2-score on train set:', elastic.score(X_train, y_train))\n",
    "print('R2-score on test set:', elastic.score(X_test, y_test))"
   ]
  },
  {
   "cell_type": "markdown",
   "id": "4bd80dda",
   "metadata": {},
   "source": [
    "## Training a Logistic Regression"
   ]
  },
  {
   "cell_type": "code",
   "execution_count": 20,
   "id": "e570d4d6",
   "metadata": {},
   "outputs": [],
   "source": [
    "from sklearn.datasets import load_breast_cancer\n",
    "from sklearn.linear_model import LogisticRegression"
   ]
  },
  {
   "cell_type": "code",
   "execution_count": 21,
   "id": "3e2278d1",
   "metadata": {},
   "outputs": [],
   "source": [
    "# Load the dataset\n",
    "X, y = load_breast_cancer(return_X_y=True)"
   ]
  },
  {
   "cell_type": "code",
   "execution_count": 22,
   "id": "ad91d0ff",
   "metadata": {},
   "outputs": [],
   "source": [
    "# Split the data\n",
    "X_train, X_test, y_train, y_test = train_test_split(X, y, test_size=0.2, random_state=42)"
   ]
  },
  {
   "cell_type": "code",
   "execution_count": 23,
   "id": "99900d7d",
   "metadata": {},
   "outputs": [],
   "source": [
    "# Rescale the data\n",
    "scaler = StandardScaler()\n",
    "X_train = scaler.fit_transform(X_train)\n",
    "X_test = scaler.transform(X_test)"
   ]
  },
  {
   "cell_type": "code",
   "execution_count": 24,
   "id": "30696c48",
   "metadata": {},
   "outputs": [
    {
     "data": {
      "text/plain": [
       "LogisticRegression(penalty='none')"
      ]
     },
     "execution_count": 24,
     "metadata": {},
     "output_type": "execute_result"
    }
   ],
   "source": [
    "# Fit the logistic regression model with no regularization\n",
    "lr = LogisticRegression(penalty='none')\n",
    "lr.fit(X_train, y_train)"
   ]
  },
  {
   "cell_type": "code",
   "execution_count": 25,
   "id": "332ee304",
   "metadata": {},
   "outputs": [
    {
     "name": "stdout",
     "output_type": "stream",
     "text": [
      "Accuracy on train set: 1.0\n",
      "Accuracy on test set: 0.9385964912280702\n"
     ]
    }
   ],
   "source": [
    "# Print the accuracy score on train and test\n",
    "print('Accuracy on train set:', lr.score(X_train, y_train))\n",
    "print('Accuracy on test set:', lr.score(X_test, y_test))"
   ]
  },
  {
   "cell_type": "markdown",
   "id": "eb3193f2",
   "metadata": {},
   "source": [
    "## Regularizing a Logistic Regression"
   ]
  },
  {
   "cell_type": "code",
   "execution_count": 26,
   "id": "05881e2b",
   "metadata": {},
   "outputs": [],
   "source": [
    "lr = LogisticRegression(penalty='l2', C=0.1)"
   ]
  },
  {
   "cell_type": "code",
   "execution_count": 27,
   "id": "715fc418",
   "metadata": {},
   "outputs": [
    {
     "data": {
      "text/plain": [
       "LogisticRegression(C=0.1)"
      ]
     },
     "execution_count": 27,
     "metadata": {},
     "output_type": "execute_result"
    }
   ],
   "source": [
    "lr.fit(X_train, y_train)"
   ]
  },
  {
   "cell_type": "code",
   "execution_count": 28,
   "id": "37f7ad5e",
   "metadata": {},
   "outputs": [
    {
     "name": "stdout",
     "output_type": "stream",
     "text": [
      "Accuracy on train set: 0.9802197802197802\n",
      "Accuracy on test set: 0.9824561403508771\n"
     ]
    }
   ],
   "source": [
    "# Print the accuracy score on train and test\n",
    "print('Accuracy on train set:', lr.score(X_train, y_train))\n",
    "print('Accuracy on test set:', lr.score(X_test, y_test))"
   ]
  },
  {
   "cell_type": "code",
   "execution_count": 29,
   "id": "88c2635a",
   "metadata": {},
   "outputs": [
    {
     "name": "stderr",
     "output_type": "stream",
     "text": [
      "/home/vince/anaconda3/lib/python3.9/site-packages/sklearn/linear_model/_logistic.py:814: ConvergenceWarning: lbfgs failed to converge (status=1):\n",
      "STOP: TOTAL NO. of ITERATIONS REACHED LIMIT.\n",
      "\n",
      "Increase the number of iterations (max_iter) or scale the data as shown in:\n",
      "    https://scikit-learn.org/stable/modules/preprocessing.html\n",
      "Please also refer to the documentation for alternative solver options:\n",
      "    https://scikit-learn.org/stable/modules/linear_model.html#logistic-regression\n",
      "  n_iter_i = _check_optimize_result(\n"
     ]
    },
    {
     "data": {
      "image/png": "[encoded data removed]",
      "text/plain": [
       "<Figure size 640x480 with 1 Axes>"
      ]
     },
     "metadata": {},
     "output_type": "display_data"
    }
   ],
   "source": [
    "accuracy_train = []\n",
    "accuracy_test = []\n",
    "c_values = [0.001, 0.003, 0.01, 0.03, 0.1, 0.3, 1, 3, 10, 30]\n",
    "for c in c_values:\n",
    "    lr = LogisticRegression(penalty='l2', C=c)\n",
    "    lr.fit(X_train, y_train)\n",
    "    accuracy_train.append(lr.score(X_train, y_train))\n",
    "    accuracy_test.append(lr.score(X_test, y_test))\n",
    "    \n",
    "plt.plot(c_values, accuracy_train, label='train')\n",
    "plt.plot(c_values, accuracy_test, label='test')\n",
    "plt.legend()\n",
    "plt.xlabel('C: inverse of regularization strength')\n",
    "plt.ylabel('Accuracy')\n",
    "plt.xscale('log')\n",
    "plt.show()"
   ]
  },
  {
   "cell_type": "markdown",
   "id": "a4ac1c08",
   "metadata": {},
   "source": [
    "## Choosing the Right Regularization"
   ]
  },
  {
   "cell_type": "code",
   "execution_count": 30,
   "id": "07434c43",
   "metadata": {},
   "outputs": [],
   "source": [
    "from sklearn.model_selection import GridSearchCV"
   ]
  },
  {
   "cell_type": "code",
   "execution_count": 31,
   "id": "6088e42d",
   "metadata": {},
   "outputs": [],
   "source": [
    "# Define the hyperparameters we want to test\n",
    "param_grid = {\n",
    "    'penalty': ['l1', 'l2'],\n",
    "    'C': [0.01, 0.03, 0.06, 0.1, 0.3, 0.6]\n",
    "}"
   ]
  },
  {
   "cell_type": "code",
   "execution_count": 32,
   "id": "4089ea8c",
   "metadata": {},
   "outputs": [],
   "source": [
    "# Instantiate the grid search object\n",
    "grid = GridSearchCV(\n",
    "    LogisticRegression(solver='liblinear'),\n",
    "    param_grid,\n",
    "    scoring='accuracy',\n",
    "    cv=5\n",
    ")"
   ]
  },
  {
   "cell_type": "code",
   "execution_count": 33,
   "id": "b102d961",
   "metadata": {},
   "outputs": [
    {
     "name": "stdout",
     "output_type": "stream",
     "text": [
      "best hyperparameters: {'C': 0.06, 'penalty': 'l2'}\n"
     ]
    }
   ],
   "source": [
    "# Fit and wait\n",
    "grid.fit(X_train, y_train)\n",
    "# Print the best set of hyperparameters\n",
    "print('best hyperparameters:', grid.best_params_)"
   ]
  },
  {
   "cell_type": "code",
   "execution_count": 34,
   "id": "83a27a11",
   "metadata": {},
   "outputs": [
    {
     "name": "stdout",
     "output_type": "stream",
     "text": [
      "Accuracy on train set: 0.9824175824175824\n",
      "Accuracy on test set: 0.9912280701754386\n"
     ]
    }
   ],
   "source": [
    "# Print the accuracy score on train and test\n",
    "print('Accuracy on train set:', grid.score(X_train, y_train))\n",
    "print('Accuracy on test set:', grid.score(X_test, y_test))"
   ]
  }
 ],
 "metadata": {
  "kernelspec": {
   "display_name": "Python 3 (ipykernel)",
   "language": "python",
   "name": "python3"
  },
  "language_info": {
   "codemirror_mode": {
    "name": "ipython",
    "version": 3
   },
   "file_extension": ".py",
   "mimetype": "text/x-python",
   "name": "python",
   "nbconvert_exporter": "python",
   "pygments_lexer": "ipython3",
   "version": "3.9.16"
  },
  "varInspector": {
   "cols": {
    "lenName": 16,
    "lenType": 16,
    "lenVar": 40
   },
   "kernels_config": {
    "python": {
     "delete_cmd_postfix": "",
     "delete_cmd_prefix": "del ",
     "library": "var_list.py",
     "varRefreshCmd": "print(var_dic_list())"
    },
    "r": {
     "delete_cmd_postfix": ") ",
     "delete_cmd_prefix": "rm(",
     "library": "var_list.r",
     "varRefreshCmd": "cat(var_dic_list()) "
    }
   },
   "types_to_exclude": [
    "module",
    "function",
    "builtin_function_or_method",
    "instance",
    "_Feature"
   ],
   "window_display": false
  }
 },
 "nbformat": 4,
 "nbformat_minor": 5
}
