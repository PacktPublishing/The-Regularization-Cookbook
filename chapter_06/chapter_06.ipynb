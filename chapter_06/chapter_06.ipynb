{
 "cells": [
  {
   "cell_type": "markdown",
   "id": "d51cfabc",
   "metadata": {},
   "source": [
    "# Deep Learning reminders"
   ]
  },
  {
   "cell_type": "markdown",
   "id": "bd0184b0",
   "metadata": {},
   "source": [
    "## Training a perceptron\n",
    "\n"
   ]
  },
  {
   "cell_type": "code",
   "execution_count": 1,
   "id": "858679b3",
   "metadata": {},
   "outputs": [],
   "source": [
    "from sklearn.datasets import load_iris\n",
    "from sklearn.model_selection import train_test_split\n",
    "from sklearn.preprocessing import StandardScaler\n",
    "from sklearn.linear_model import Perceptron"
   ]
  },
  {
   "cell_type": "code",
   "execution_count": 2,
   "id": "f7761cfb",
   "metadata": {},
   "outputs": [],
   "source": [
    "# Load the California housing dataset\n",
    "X, y = load_iris(return_X_y=True)"
   ]
  },
  {
   "cell_type": "code",
   "execution_count": 3,
   "id": "375ee039",
   "metadata": {},
   "outputs": [],
   "source": [
    "# Split the data\n",
    "X_train, X_test, y_train, y_test = train_test_split(X, y, random_state=0)"
   ]
  },
  {
   "cell_type": "code",
   "execution_count": 4,
   "id": "8e16fffa",
   "metadata": {},
   "outputs": [],
   "source": [
    "# Rescale the data\n",
    "scaler = StandardScaler()\n",
    "X_train = scaler.fit_transform(X_train)\n",
    "X_test = scaler.transform(X_test)"
   ]
  },
  {
   "cell_type": "code",
   "execution_count": 5,
   "id": "b3a93c7b",
   "metadata": {},
   "outputs": [
    {
     "data": {
      "text/plain": [
       "Perceptron()"
      ]
     },
     "execution_count": 5,
     "metadata": {},
     "output_type": "execute_result"
    }
   ],
   "source": [
    "# Fit the linear regression model\n",
    "perc = Perceptron()\n",
    "perc.fit(X_train, y_train)"
   ]
  },
  {
   "cell_type": "code",
   "execution_count": 6,
   "id": "be5ea904",
   "metadata": {
    "scrolled": true
   },
   "outputs": [
    {
     "name": "stdout",
     "output_type": "stream",
     "text": [
      "R2-score on train set: 0.9285714285714286\n",
      "R2-score on test set: 0.8421052631578947\n"
     ]
    }
   ],
   "source": [
    "# Print the R2-score on train and test\n",
    "print('R2-score on train set:', perc.score(X_train, y_train))\n",
    "print('R2-score on test set:', perc.score(X_test, y_test))"
   ]
  },
  {
   "cell_type": "code",
   "execution_count": 7,
   "id": "5eb5c6cc",
   "metadata": {},
   "outputs": [
    {
     "name": "stdout",
     "output_type": "stream",
     "text": [
      "weights: [[-0.49201984  2.77164495 -3.07208498 -2.51124259]\n",
      " [ 0.41482008 -1.94508614  3.2852582  -2.60994774]\n",
      " [-0.32320969  0.48524348  5.73376173  4.93525738]]\n",
      "bias: [-2. -3. -6.]\n"
     ]
    }
   ],
   "source": [
    "print('weights:', perc.coef_)\n",
    "print('bias:', perc.intercept_)"
   ]
  },
  {
   "cell_type": "code",
   "execution_count": 1,
   "id": "07085c68",
   "metadata": {},
   "outputs": [],
   "source": [
    "import numpy as np\n",
    "\n",
    "class LogicalGatePerceptron:\n",
    "    def __init__(self, weights: np.array, bias: float):\n",
    "        self.weights = weights\n",
    "        self.bias = bias\n",
    "    \n",
    "    def forward(self, X: np.array) -> int:\n",
    "        return (np.dot(X, self.weights) + self.bias > 0).astype(int)"
   ]
  },
  {
   "cell_type": "code",
   "execution_count": 2,
   "id": "c15c4090",
   "metadata": {},
   "outputs": [],
   "source": [
    "# Define X and y\n",
    "X = np.array([[0, 0], [0, 1], [1, 0], [1, 1]])\n",
    "y = [0, 0, 0, 1]"
   ]
  },
  {
   "cell_type": "code",
   "execution_count": 3,
   "id": "6beab62c",
   "metadata": {},
   "outputs": [
    {
     "name": "stdout",
     "output_type": "stream",
     "text": [
      "Error: 0\n"
     ]
    }
   ],
   "source": [
    "gate = LogicalGatePerceptron(np.array([1, 1]), -1)\n",
    "y_pred = gate.forward(X)\n",
    "print('Error:', (y - y_pred).sum())"
   ]
  },
  {
   "cell_type": "markdown",
   "id": "2335ac77",
   "metadata": {},
   "source": [
    "## Training a neural network for regression"
   ]
  },
  {
   "cell_type": "code",
   "execution_count": 1,
   "id": "2446673c",
   "metadata": {},
   "outputs": [],
   "source": [
    "from sklearn.datasets import fetch_california_housing\n",
    "from sklearn.model_selection import train_test_split\n",
    "from sklearn.preprocessing import StandardScaler\n",
    "from sklearn.metrics import r2_score\n",
    "import matplotlib.pyplot as plt"
   ]
  },
  {
   "cell_type": "code",
   "execution_count": 2,
   "id": "89a67145",
   "metadata": {
    "scrolled": true
   },
   "outputs": [],
   "source": [
    "import torch\n",
    "import torch.nn as nn\n",
    "import torch.nn.functional as F\n",
    "from torch.utils.data import Dataset, DataLoader"
   ]
  },
  {
   "cell_type": "code",
   "execution_count": 3,
   "id": "4715ae5e",
   "metadata": {},
   "outputs": [
    {
     "data": {
      "text/plain": [
       "(20640, 8)"
      ]
     },
     "execution_count": 3,
     "metadata": {},
     "output_type": "execute_result"
    }
   ],
   "source": [
    "X, y = fetch_california_housing(return_X_y=True)\n",
    "X.shape"
   ]
  },
  {
   "cell_type": "code",
   "execution_count": 4,
   "id": "62e7c35e",
   "metadata": {},
   "outputs": [],
   "source": [
    "X_train, X_test, y_train, y_test = train_test_split(X.astype(np.float32), y.astype(np.float32), test_size=0.2, random_state=0)"
   ]
  },
  {
   "cell_type": "code",
   "execution_count": 5,
   "id": "f15d0673",
   "metadata": {},
   "outputs": [],
   "source": [
    "scaler = StandardScaler()\n",
    "X_train = scaler.fit_transform(X_train)\n",
    "X_test = scaler.transform(X_test)"
   ]
  },
  {
   "cell_type": "code",
   "execution_count": 6,
   "id": "90fd066b",
   "metadata": {},
   "outputs": [],
   "source": [
    "class CaliforniaDataset(Dataset):\n",
    "    def __init__(self, X: np.array, y: np.array):         \n",
    "        self.X = torch.from_numpy(X)\n",
    "        self.y = torch.from_numpy(y)\n",
    "\n",
    "    def __len__(self) -> int:\n",
    "        return len(self.X)\n",
    "\n",
    "    def __getitem__(self, idx: int) -> tuple[torch.Tensor]:\n",
    "        return self.X[idx], self.y[idx]"
   ]
  },
  {
   "cell_type": "code",
   "execution_count": 7,
   "id": "8866dbe2",
   "metadata": {},
   "outputs": [],
   "source": [
    "# Instantiate datasets\n",
    "training_data = CaliforniaDataset(X_train, y_train)\n",
    "test_data = CaliforniaDataset(X_test, y_test)\n",
    "# Instantiate data loaders\n",
    "train_dataloader = DataLoader(training_data, batch_size=64, shuffle=True)\n",
    "test_dataloader = DataLoader(test_data, batch_size=64, shuffle=True)"
   ]
  },
  {
   "cell_type": "code",
   "execution_count": 9,
   "id": "870fd3f9",
   "metadata": {},
   "outputs": [],
   "source": [
    "class Net(nn.Module):\n",
    "    def __init__(self, input_shape: int, hidden_units: int = 24):\n",
    "        super(Net, self).__init__()\n",
    "        self.hidden_units = hidden_units\n",
    "        self.fc1 = nn.Linear(input_shape, self.hidden_units)\n",
    "        self.fc2 = nn.Linear(self.hidden_units, self.hidden_units)\n",
    "        self.output = nn.Linear(self.hidden_units, 1)\n",
    "\n",
    "    def forward(self, x: torch.Tensor) -> torch.Tensor:\n",
    "        x = self.fc1(x)\n",
    "        x = F.relu(x)\n",
    "        x = self.fc2(x)\n",
    "        x = F.relu(x)\n",
    "        output = self.output(x)\n",
    "        return output"
   ]
  },
  {
   "cell_type": "code",
   "execution_count": 10,
   "id": "e63430f9",
   "metadata": {},
   "outputs": [
    {
     "name": "stdout",
     "output_type": "stream",
     "text": [
      "tensor([[-0.0003]], grad_fn=<AddmmBackward0>)\n"
     ]
    }
   ],
   "source": [
    "# Instantiate the network\n",
    "net = Net(X_train.shape[1])\n",
    "# Generate one random sample of 8 features\n",
    "random_data = torch.rand((1, X_train.shape[1]))\n",
    "# Compute the forward propagation\n",
    "print(net(random_data))"
   ]
  },
  {
   "cell_type": "code",
   "execution_count": 11,
   "id": "35ac4aaf",
   "metadata": {},
   "outputs": [],
   "source": [
    "criterion = nn.MSELoss()\n",
    "optimizer = torch.optim.Adam(net.parameters(), lr=0.001)"
   ]
  },
  {
   "cell_type": "code",
   "execution_count": 12,
   "id": "2d8ab5ee",
   "metadata": {
    "scrolled": true
   },
   "outputs": [
    {
     "name": "stdout",
     "output_type": "stream",
     "text": [
      "[epoch 1] loss: 1.760\n",
      "[epoch 2] loss: 0.560\n",
      "[epoch 3] loss: 0.438\n",
      "[epoch 4] loss: 0.402\n",
      "[epoch 5] loss: 0.385\n",
      "[epoch 6] loss: 0.373\n",
      "[epoch 7] loss: 0.360\n",
      "[epoch 8] loss: 0.350\n",
      "[epoch 9] loss: 0.345\n",
      "[epoch 10] loss: 0.337\n",
      "Finished Training\n"
     ]
    }
   ],
   "source": [
    "losses = []\n",
    "# Loop over the dataset multiple times\n",
    "for epoch in range(10):  \n",
    "    # Reset the loss for this epoch\n",
    "    running_loss = 0.\n",
    "    for i, data in enumerate(train_dataloader, 0):\n",
    "        # Get the inputs per batch: data is a list of [inputs, labels]\n",
    "        inputs, labels = data\n",
    "        # Zero the parameter gradients\n",
    "        optimizer.zero_grad()\n",
    "        # Forward propagate + backward + optimize\n",
    "        outputs = net(inputs)\n",
    "        # Unsqueeze for dimension matching\n",
    "        labels = labels.unsqueeze(1)\n",
    "        # Compute the loss\n",
    "        loss = criterion(outputs, labels)\n",
    "        # Backpropagate and update the weights\n",
    "        loss.backward()\n",
    "        optimizer.step()\n",
    "        # Add this loss to the running loss\n",
    "        running_loss += loss.item()\n",
    "    # Compute the loss for this epoch and add it to the list\n",
    "    epoch_loss = running_loss / len(train_dataloader)\n",
    "    losses.append(epoch_loss)\n",
    "    # Print the epoch and training loss\n",
    "    print(f'[epoch {epoch + 1}] loss: {epoch_loss:.3f}')\n",
    "\n",
    "print('Finished Training')"
   ]
  },
  {
   "cell_type": "code",
   "execution_count": 13,
   "id": "03280daa",
   "metadata": {
    "scrolled": false
   },
   "outputs": [
    {
     "data": {
      "image/png": "[encoded data removed]",
      "text/plain": [
       "<Figure size 640x480 with 1 Axes>"
      ]
     },
     "metadata": {},
     "output_type": "display_data"
    }
   ],
   "source": [
    "plt.plot(losses)\n",
    "plt.xlabel('epoch')\n",
    "plt.ylabel('loss (MSE)')\n",
    "plt.show()"
   ]
  },
  {
   "cell_type": "code",
   "execution_count": 14,
   "id": "d095d3b8",
   "metadata": {},
   "outputs": [
    {
     "name": "stdout",
     "output_type": "stream",
     "text": [
      "R2-score on training set: 0.7542622050620708\n",
      "R2-score on test set: 0.7401526252651656\n"
     ]
    }
   ],
   "source": [
    "# Compute the predictions with the trained neural network\n",
    "y_train_pred = net(torch.tensor((X_train))).detach().numpy()\n",
    "y_test_pred = net(torch.tensor((X_test))).detach().numpy()\n",
    "# Compute the R2-score\n",
    "print('R2-score on training set:', r2_score(y_train, y_train_pred))\n",
    "print('R2-score on test set:', r2_score(y_test, y_test_pred))"
   ]
  },
  {
   "cell_type": "code",
   "execution_count": 2,
   "id": "c830a97d",
   "metadata": {},
   "outputs": [
    {
     "data": {
      "image/png": "[encoded data removed]",
      "text/plain": [
       "<Figure size 640x480 with 1 Axes>"
      ]
     },
     "metadata": {},
     "output_type": "display_data"
    }
   ],
   "source": [
    "import numpy as np\n",
    "import matplotlib.pyplot as plt\n",
    "x = np.arange(-2, 2, 0.02)\n",
    "sigmoid = 1./(1+np.exp(-x))\n",
    "tanh = (np.exp(x)-np.exp(-x))/(np.exp(x)+np.exp(-x))\n",
    "relu = np.max([np.zeros(len(x)), x], axis=0)\n",
    "plt.plot(x, sigmoid)\n",
    "plt.plot(x, tanh)\n",
    "plt.plot(x, relu)\n",
    "plt.grid()\n",
    "plt.xlabel('x')\n",
    "plt.ylabel('activation')\n",
    "plt.legend(['sigmoid', 'tanh', 'relu'])\n",
    "plt.show()"
   ]
  },
  {
   "cell_type": "markdown",
   "id": "911dd79c",
   "metadata": {},
   "source": [
    "## Training a neural network for binary classification"
   ]
  },
  {
   "cell_type": "code",
   "execution_count": 1,
   "id": "6e631f94",
   "metadata": {},
   "outputs": [],
   "source": [
    "from sklearn.datasets import load_breast_cancer\n",
    "from sklearn.model_selection import train_test_split\n",
    "from sklearn.preprocessing import StandardScaler\n",
    "from sklearn.metrics import accuracy_score\n",
    "import matplotlib.pyplot as plt\n",
    "import torch\n",
    "import torch.nn as nn\n",
    "import torch.nn.functional as F\n",
    "from torch.utils.data import Dataset, DataLoader"
   ]
  },
  {
   "cell_type": "code",
   "execution_count": 2,
   "id": "34f61b0d",
   "metadata": {},
   "outputs": [],
   "source": [
    "X, y = load_breast_cancer(return_X_y=True)"
   ]
  },
  {
   "cell_type": "code",
   "execution_count": 3,
   "id": "1a45c286",
   "metadata": {},
   "outputs": [],
   "source": [
    "X_train, X_test, y_train, y_test = train_test_split(X.astype(np.float32), y.astype(np.float32), test_size=0.2, random_state=0)"
   ]
  },
  {
   "cell_type": "code",
   "execution_count": 4,
   "id": "2f017331",
   "metadata": {},
   "outputs": [],
   "source": [
    "class BreastCancerDataset(Dataset):\n",
    "    def __init__(self, X: np.array, y: np.array, x_scaler: StandardScaler = None):\n",
    "        if x_scaler is None:\n",
    "            self.x_scaler = StandardScaler()\n",
    "            X = self.x_scaler.fit_transform(X)\n",
    "        else:\n",
    "            self.x_scaler = x_scaler\n",
    "            X = self.x_scaler.transform(X)           \n",
    "        self.X = torch.from_numpy(X)\n",
    "        self.y = torch.from_numpy(y)\n",
    "\n",
    "    def __len__(self) -> int:\n",
    "        return len(self.X)\n",
    "\n",
    "    def __getitem__(self, idx: int) -> tuple[torch.Tensor]:\n",
    "        return self.X[idx], self.y[idx]\n"
   ]
  },
  {
   "cell_type": "code",
   "execution_count": 5,
   "id": "2a9bc6e6",
   "metadata": {},
   "outputs": [],
   "source": [
    "training_data = BreastCancerDataset(X_train, y_train)\n",
    "test_data = BreastCancerDataset(X_test, y_test, training_data.x_scaler)\n",
    "train_dataloader = DataLoader(training_data, batch_size=64, shuffle=True)\n",
    "test_dataloader = DataLoader(test_data, batch_size=64, shuffle=True)"
   ]
  },
  {
   "cell_type": "code",
   "execution_count": 6,
   "id": "73e37fff",
   "metadata": {},
   "outputs": [],
   "source": [
    "class Net(nn.Module):\n",
    "    def __init__(self, input_shape: int, hidden_units: int = 24):\n",
    "        super(Net, self).__init__()\n",
    "        self.hidden_units = hidden_units\n",
    "        self.fc1 = nn.Linear(input_shape, self.hidden_units)\n",
    "        self.fc2 = nn.Linear(self.hidden_units, self.hidden_units)\n",
    "        self.output = nn.Linear(self.hidden_units, 1)\n",
    "\n",
    "    def forward(self, x: torch.Tensor) -> torch.Tensor:\n",
    "        x = self.fc1(x)\n",
    "        x = F.relu(x)\n",
    "        x = self.fc2(x)\n",
    "        x = F.relu(x)\n",
    "        output = torch.sigmoid(self.output(x))\n",
    "        return output"
   ]
  },
  {
   "cell_type": "code",
   "execution_count": 7,
   "id": "f633d99c",
   "metadata": {},
   "outputs": [
    {
     "name": "stdout",
     "output_type": "stream",
     "text": [
      "tensor([[0.4487]], grad_fn=<SigmoidBackward0>)\n"
     ]
    }
   ],
   "source": [
    "# Instantiate the network\n",
    "net = Net(X_train.shape[1])\n",
    "# Generate one random sample\n",
    "random_data = torch.rand((1, X_train.shape[1]))\n",
    "# Compute the forward propagation\n",
    "print(net(random_data))"
   ]
  },
  {
   "cell_type": "code",
   "execution_count": 8,
   "id": "59727f39",
   "metadata": {},
   "outputs": [],
   "source": [
    "criterion = nn.BCELoss()\n",
    "optimizer = torch.optim.Adam(net.parameters(), lr=0.001)"
   ]
  },
  {
   "cell_type": "code",
   "execution_count": 9,
   "id": "c0e116a4",
   "metadata": {
    "scrolled": true
   },
   "outputs": [
    {
     "name": "stdout",
     "output_type": "stream",
     "text": [
      "[epoch 1] Training loss: 0.709 | Test loss: 0.684\n",
      "[epoch 2] Training loss: 0.669 | Test loss: 0.651\n",
      "[epoch 3] Training loss: 0.639 | Test loss: 0.610\n",
      "[epoch 4] Training loss: 0.601 | Test loss: 0.560\n",
      "[epoch 5] Training loss: 0.541 | Test loss: 0.498\n",
      "[epoch 6] Training loss: 0.468 | Test loss: 0.431\n",
      "[epoch 7] Training loss: 0.394 | Test loss: 0.358\n",
      "[epoch 8] Training loss: 0.339 | Test loss: 0.297\n",
      "[epoch 9] Training loss: 0.268 | Test loss: 0.243\n",
      "[epoch 10] Training loss: 0.234 | Test loss: 0.205\n",
      "[epoch 11] Training loss: 0.182 | Test loss: 0.178\n",
      "[epoch 12] Training loss: 0.148 | Test loss: 0.153\n",
      "[epoch 13] Training loss: 0.136 | Test loss: 0.138\n",
      "[epoch 14] Training loss: 0.110 | Test loss: 0.122\n",
      "[epoch 15] Training loss: 0.096 | Test loss: 0.126\n",
      "[epoch 16] Training loss: 0.090 | Test loss: 0.109\n",
      "[epoch 17] Training loss: 0.082 | Test loss: 0.101\n",
      "[epoch 18] Training loss: 0.085 | Test loss: 0.094\n",
      "[epoch 19] Training loss: 0.073 | Test loss: 0.102\n",
      "[epoch 20] Training loss: 0.068 | Test loss: 0.098\n",
      "[epoch 21] Training loss: 0.117 | Test loss: 0.087\n",
      "[epoch 22] Training loss: 0.063 | Test loss: 0.087\n",
      "[epoch 23] Training loss: 0.066 | Test loss: 0.090\n",
      "[epoch 24] Training loss: 0.088 | Test loss: 0.088\n",
      "[epoch 25] Training loss: 0.072 | Test loss: 0.084\n",
      "[epoch 26] Training loss: 0.058 | Test loss: 0.086\n",
      "[epoch 27] Training loss: 0.057 | Test loss: 0.085\n",
      "[epoch 28] Training loss: 0.130 | Test loss: 0.083\n",
      "[epoch 29] Training loss: 0.060 | Test loss: 0.078\n",
      "[epoch 30] Training loss: 0.056 | Test loss: 0.077\n",
      "[epoch 31] Training loss: 0.052 | Test loss: 0.087\n",
      "[epoch 32] Training loss: 0.059 | Test loss: 0.086\n",
      "[epoch 33] Training loss: 0.061 | Test loss: 0.076\n",
      "[epoch 34] Training loss: 0.049 | Test loss: 0.079\n",
      "[epoch 35] Training loss: 0.049 | Test loss: 0.079\n",
      "[epoch 36] Training loss: 0.048 | Test loss: 0.087\n",
      "[epoch 37] Training loss: 0.046 | Test loss: 0.077\n",
      "[epoch 38] Training loss: 0.046 | Test loss: 0.079\n",
      "[epoch 39] Training loss: 0.045 | Test loss: 0.086\n",
      "[epoch 40] Training loss: 0.046 | Test loss: 0.081\n",
      "[epoch 41] Training loss: 0.050 | Test loss: 0.079\n",
      "[epoch 42] Training loss: 0.044 | Test loss: 0.077\n",
      "[epoch 43] Training loss: 0.044 | Test loss: 0.081\n",
      "[epoch 44] Training loss: 0.044 | Test loss: 0.082\n",
      "[epoch 45] Training loss: 0.043 | Test loss: 0.078\n",
      "[epoch 46] Training loss: 0.046 | Test loss: 0.081\n",
      "[epoch 47] Training loss: 0.058 | Test loss: 0.081\n",
      "[epoch 48] Training loss: 0.041 | Test loss: 0.076\n",
      "[epoch 49] Training loss: 0.044 | Test loss: 0.095\n",
      "[epoch 50] Training loss: 0.042 | Test loss: 0.090\n",
      "Finished Training\n"
     ]
    }
   ],
   "source": [
    "train_losses = []\n",
    "test_losses = []\n",
    "# Loop over the dataset 50 times\n",
    "for epoch in range(50):\n",
    "    ## Train the model on the training set\n",
    "    running_train_loss = 0.\n",
    "    # Switch to train mode\n",
    "    net.train()\n",
    "    # Loop over the batches in train set\n",
    "    for i, data in enumerate(train_dataloader, 0):\n",
    "        # Get the inputs: data is a list of [inputs, labels]\n",
    "        inputs, labels = data\n",
    "        # Zero the parameter gradients\n",
    "        optimizer.zero_grad()\n",
    "        # Forward + backward + optimize\n",
    "        outputs = net(inputs)\n",
    "        loss = criterion(outputs, labels.unsqueeze(1))\n",
    "        loss.backward()\n",
    "        optimizer.step()\n",
    "        # Add current loss to running loss\n",
    "        running_train_loss += loss.item()\n",
    "    # Once epoch is over, compute and store the epoch loss\n",
    "    train_epoch_loss = running_train_loss / len(train_dataloader)\n",
    "    train_losses.append(train_epoch_loss)\n",
    "\n",
    "    ## Evaluate the model on the test set\n",
    "    running_test_loss = 0.\n",
    "    # Switch to eval model\n",
    "    net.eval()\n",
    "    with torch.no_grad():\n",
    "        # Loop over the batches in test set\n",
    "        for i, data in enumerate(test_dataloader, 0):\n",
    "            # Get the inputs\n",
    "            inputs, labels = data\n",
    "            # Compute forward propagation\n",
    "            outputs = net(inputs)\n",
    "            # Compute loss\n",
    "            loss = criterion(outputs, labels.unsqueeze(1))\n",
    "            # Add to running loss\n",
    "            running_test_loss += loss.item()\n",
    "        # Compute and store the epoch loss\n",
    "        test_epoch_loss = running_test_loss / len(test_dataloader)\n",
    "        test_losses.append(test_epoch_loss)\n",
    "\n",
    "\n",
    "    # Print stats\n",
    "    print(f'[epoch {epoch + 1}] Training loss: {train_epoch_loss:.3f} | Test loss: {test_epoch_loss:.3f}')\n",
    "\n",
    "\n",
    "print('Finished Training')"
   ]
  },
  {
   "cell_type": "code",
   "execution_count": 10,
   "id": "b41f27e1",
   "metadata": {
    "scrolled": false
   },
   "outputs": [
    {
     "data": {
      "image/png": "[encoded data removed]",
      "text/plain": [
       "<Figure size 640x480 with 1 Axes>"
      ]
     },
     "metadata": {},
     "output_type": "display_data"
    }
   ],
   "source": [
    "plt.plot(train_losses, label='train')\n",
    "plt.plot(test_losses, label='test')\n",
    "plt.xlabel('epoch')\n",
    "plt.ylabel('loss (BCE)')\n",
    "plt.legend()\n",
    "plt.show()"
   ]
  },
  {
   "cell_type": "code",
   "execution_count": 11,
   "id": "83608f2e",
   "metadata": {},
   "outputs": [
    {
     "name": "stdout",
     "output_type": "stream",
     "text": [
      "Accuracy on training set: 0.9912087912087912\n",
      "Accuracy on test set: 0.9649122807017544\n"
     ]
    }
   ],
   "source": [
    "# Compute the predictions with the trained neural network\n",
    "y_train_pred = net(torch.tensor((training_data.x_scaler.transform(X_train)))).detach().numpy() > 0.5\n",
    "y_test_pred = net(torch.tensor((training_data.x_scaler.transform(X_test)))).detach().numpy() > 0.5\n",
    "# Compute the accuracy score\n",
    "print('Accuracy on training set:', accuracy_score(y_train, y_train_pred))\n",
    "print('Accuracy on test set:', accuracy_score(y_test, y_test_pred))"
   ]
  },
  {
   "cell_type": "markdown",
   "id": "3032cd30",
   "metadata": {},
   "source": [
    "## Training a multiclass classification neural network"
   ]
  },
  {
   "cell_type": "code",
   "execution_count": 1,
   "id": "65af0549",
   "metadata": {
    "scrolled": true
   },
   "outputs": [],
   "source": [
    "import torch\n",
    "import torch.nn as nn\n",
    "import torch.nn.functional as F\n",
    "from torch.utils.data import DataLoader\n",
    "\n",
    "from torchvision.datasets import MNIST\n",
    "import torchvision.transforms as transforms\n",
    "\n",
    "import matplotlib.pyplot as plt"
   ]
  },
  {
   "cell_type": "code",
   "execution_count": 2,
   "id": "d73ef32e",
   "metadata": {},
   "outputs": [],
   "source": [
    "transform = transforms.Compose([transforms.ToTensor(), transforms.Normalize((0.1307), (0.3081)), transforms.Lambda(torch.flatten)])"
   ]
  },
  {
   "cell_type": "code",
   "execution_count": 3,
   "id": "b4111213",
   "metadata": {},
   "outputs": [],
   "source": [
    "trainset = MNIST('./data', train=True, download=True, transform=transform)\n",
    "train_dataloader = DataLoader(trainset, batch_size=64, shuffle=True)\n",
    "testset = MNIST('./data', train=False, download=True, transform=transform)\n",
    "test_dataloader = DataLoader(testset, batch_size=64, shuffle=True)"
   ]
  },
  {
   "cell_type": "code",
   "execution_count": 4,
   "id": "5f519fa4",
   "metadata": {},
   "outputs": [],
   "source": [
    "class Net(nn.Module):\n",
    "    def __init__(self, input_shape: int, hidden_units: int = 24):\n",
    "        super(Net, self).__init__()\n",
    "        self.hidden_units = hidden_units\n",
    "        self.fc1 = nn.Linear(input_shape, self.hidden_units)\n",
    "        self.fc2 = nn.Linear(self.hidden_units, self.hidden_units)\n",
    "        self.output = nn.Linear(self.hidden_units, 10)\n",
    "\n",
    "    def forward(self, x: torch.Tensor) -> torch.Tensor:\n",
    "        x = self.fc1(x)\n",
    "        x = F.relu(x)\n",
    "        x = self.fc2(x)\n",
    "        x = F.relu(x)\n",
    "        output = torch.softmax(self.output(x), dim=1)\n",
    "        return output"
   ]
  },
  {
   "cell_type": "code",
   "execution_count": 5,
   "id": "d39178de",
   "metadata": {},
   "outputs": [
    {
     "name": "stdout",
     "output_type": "stream",
     "text": [
      "Resulting output tensor: tensor([[0.0918, 0.0960, 0.0924, 0.0945, 0.0931, 0.0745, 0.1081, 0.1166, 0.1238,\n",
      "         0.1092]], grad_fn=<SoftmaxBackward0>)\n",
      "Sum of the output tensor: tensor(1.0000, grad_fn=<SumBackward0>)\n"
     ]
    }
   ],
   "source": [
    "# Instantiate the model\n",
    "net = Net(784)\n",
    "# Generate randomly one random 28x28 image as a 784 values tensor\n",
    "random_data = torch.rand((1, 784))\n",
    "result = net(random_data)\n",
    "print('Resulting output tensor:', result)\n",
    "print('Sum of the output tensor:', result.sum())"
   ]
  },
  {
   "cell_type": "code",
   "execution_count": 6,
   "id": "ffeac743",
   "metadata": {},
   "outputs": [],
   "source": [
    "criterion = nn.CrossEntropyLoss()\n",
    "optimizer = torch.optim.Adam(net.parameters(), lr=0.001)"
   ]
  },
  {
   "cell_type": "code",
   "execution_count": 7,
   "id": "fb2f9ead",
   "metadata": {},
   "outputs": [
    {
     "name": "stdout",
     "output_type": "stream",
     "text": [
      "[epoch 1] Training: loss=1.653 accuracy=0.828 |\t Test: loss=1.552 accuracy=0.916\n",
      "[epoch 2] Training: loss=1.540 accuracy=0.927 |\t Test: loss=1.530 accuracy=0.934\n",
      "[epoch 3] Training: loss=1.527 accuracy=0.938 |\t Test: loss=1.524 accuracy=0.940\n",
      "[epoch 4] Training: loss=1.518 accuracy=0.946 |\t Test: loss=1.517 accuracy=0.946\n",
      "[epoch 5] Training: loss=1.513 accuracy=0.951 |\t Test: loss=1.514 accuracy=0.949\n",
      "[epoch 6] Training: loss=1.509 accuracy=0.954 |\t Test: loss=1.509 accuracy=0.953\n",
      "[epoch 7] Training: loss=1.506 accuracy=0.956 |\t Test: loss=1.512 accuracy=0.949\n",
      "[epoch 8] Training: loss=1.503 accuracy=0.959 |\t Test: loss=1.508 accuracy=0.954\n",
      "[epoch 9] Training: loss=1.501 accuracy=0.961 |\t Test: loss=1.511 accuracy=0.951\n",
      "[epoch 10] Training: loss=1.500 accuracy=0.962 |\t Test: loss=1.505 accuracy=0.957\n",
      "[epoch 11] Training: loss=1.499 accuracy=0.963 |\t Test: loss=1.507 accuracy=0.955\n",
      "[epoch 12] Training: loss=1.497 accuracy=0.965 |\t Test: loss=1.506 accuracy=0.956\n",
      "[epoch 13] Training: loss=1.496 accuracy=0.966 |\t Test: loss=1.506 accuracy=0.955\n",
      "[epoch 14] Training: loss=1.495 accuracy=0.967 |\t Test: loss=1.503 accuracy=0.958\n",
      "[epoch 15] Training: loss=1.494 accuracy=0.968 |\t Test: loss=1.504 accuracy=0.957\n",
      "[epoch 16] Training: loss=1.494 accuracy=0.968 |\t Test: loss=1.505 accuracy=0.957\n",
      "[epoch 17] Training: loss=1.492 accuracy=0.969 |\t Test: loss=1.505 accuracy=0.956\n",
      "[epoch 18] Training: loss=1.492 accuracy=0.970 |\t Test: loss=1.504 accuracy=0.957\n",
      "[epoch 19] Training: loss=1.491 accuracy=0.971 |\t Test: loss=1.502 accuracy=0.959\n",
      "[epoch 20] Training: loss=1.491 accuracy=0.971 |\t Test: loss=1.502 accuracy=0.960\n",
      "Finished Training\n"
     ]
    }
   ],
   "source": [
    "# Create empty lists to store the losses and accuracies\n",
    "train_losses = []\n",
    "test_losses = []\n",
    "train_accuracy = []\n",
    "test_accuracy = []\n",
    "\n",
    "# Loop over the dataset 20 times for 20 epochs\n",
    "for epoch in range(20):  \n",
    "    ## Train the model on the training set\n",
    "    running_train_loss = 0.\n",
    "    correct = 0.\n",
    "    net.train()\n",
    "    for i, data in enumerate(train_dataloader, 0):\n",
    "        # Get the inputs: data is a list of [inputs, labels]\n",
    "        inputs, labels = data\n",
    "        # Zero the parameter gradients\n",
    "        optimizer.zero_grad()\n",
    "        # Forward + backward + optimize\n",
    "        outputs = net(inputs)\n",
    "        loss = criterion(outputs, labels)\n",
    "        loss.backward()\n",
    "        optimizer.step()\n",
    "        # Add correct predictions for this batch\n",
    "        correct += (outputs.argmax(dim=1) == labels).float().sum()\n",
    "        # Compute loss for this batch\n",
    "        running_train_loss += loss.item()\n",
    "    # Compute and store loss and accuracy for this epoch\n",
    "    train_epoch_loss = running_train_loss / len(train_dataloader)\n",
    "    train_losses.append(train_epoch_loss)\n",
    "    train_epoch_accuracy = correct / len(trainset)\n",
    "    train_accuracy.append(train_epoch_accuracy)\n",
    "\n",
    "    ## Evaluate the model on the test set\n",
    "    running_test_loss = 0.\n",
    "    correct = 0.\n",
    "    net.eval()\n",
    "    with torch.no_grad():\n",
    "        for i, data in enumerate(test_dataloader, 0):\n",
    "            inputs, labels = data\n",
    "            outputs = net(inputs)\n",
    "            loss = criterion(outputs, labels)\n",
    "            running_test_loss += loss.item()\n",
    "            correct += (outputs.argmax(dim=1) == labels).float().sum()\n",
    "\n",
    "        test_epoch_loss = running_test_loss / len(test_dataloader)\n",
    "        test_losses.append(test_epoch_loss)\n",
    "        test_epoch_accuracy = correct / len(testset)\n",
    "        test_accuracy.append(test_epoch_accuracy)\n",
    "\n",
    "    # Print stats\n",
    "    print(f'[epoch {epoch + 1}] Training: loss={train_epoch_loss:.3f} accuracy={train_epoch_accuracy:.3f} |\\\n",
    "\\t Test: loss={test_epoch_loss:.3f} accuracy={test_epoch_accuracy:.3f}')\n",
    "\n",
    "print('Finished Training')"
   ]
  },
  {
   "cell_type": "code",
   "execution_count": 8,
   "id": "b21972bf",
   "metadata": {},
   "outputs": [
    {
     "data": {
      "image/png": "[encoded data removed]",
      "text/plain": [
       "<Figure size 640x480 with 1 Axes>"
      ]
     },
     "metadata": {},
     "output_type": "display_data"
    }
   ],
   "source": [
    "plt.plot(train_losses, label='train')\n",
    "plt.plot(test_losses, label='test')\n",
    "plt.xlabel('epoch')\n",
    "plt.ylabel('loss (CE)')\n",
    "plt.legend()\n",
    "plt.show()"
   ]
  },
  {
   "cell_type": "code",
   "execution_count": 9,
   "id": "9513c000",
   "metadata": {},
   "outputs": [
    {
     "data": {
      "image/png": "[encoded data removed]",
      "text/plain": [
       "<Figure size 640x480 with 1 Axes>"
      ]
     },
     "metadata": {},
     "output_type": "display_data"
    }
   ],
   "source": [
    "plt.plot(train_accuracy, label='train')\n",
    "plt.plot(test_accuracy, label='test')\n",
    "plt.xlabel('epoch')\n",
    "plt.ylabel('Accuracy')\n",
    "plt.legend()\n",
    "plt.show()"
   ]
  },
  {
   "cell_type": "code",
   "execution_count": 10,
   "id": "04dcc969",
   "metadata": {},
   "outputs": [
    {
     "data": {
      "text/plain": [
       "<All keys matched successfully>"
      ]
     },
     "execution_count": 10,
     "metadata": {},
     "output_type": "execute_result"
    }
   ],
   "source": [
    "# Save the model's state dict\n",
    "torch.save(net.state_dict(), 'path_to_model.pt')\n",
    "# Instantiate a new model\n",
    "new_model = Net(784)\n",
    "# Load the model's weights\n",
    "new_model.load_state_dict(torch.load('path_to_model.pt'))"
   ]
  },
  {
   "cell_type": "code",
   "execution_count": 39,
   "id": "bda80e64",
   "metadata": {},
   "outputs": [
    {
     "data": {
      "image/png": "[encoded data removed]",
      "text/plain": [
       "<Figure size 1200x800 with 6 Axes>"
      ]
     },
     "metadata": {},
     "output_type": "display_data"
    }
   ],
   "source": [
    "plt.figure(figsize=(12, 8))\n",
    "for i in range(6):\n",
    "    plt.subplot(3, 3, i+1)\n",
    "    # Compute the predicted number\n",
    "    pred = new_model(testset[i][0].unsqueeze(0)).argmax(axis=1)\n",
    "    # Display the image and predicted number as title\n",
    "    plt.imshow(testset[i][0].detach().numpy().reshape(28, 28), cmap='gray_r')\n",
    "    plt.title(f'Prediction: {pred.detach().numpy()}')\n",
    "    plt.axis('off')"
   ]
  }
 ],
 "metadata": {
  "kernelspec": {
   "display_name": "Python 3 (ipykernel)",
   "language": "python",
   "name": "python3"
  },
  "language_info": {
   "codemirror_mode": {
    "name": "ipython",
    "version": 3
   },
   "file_extension": ".py",
   "mimetype": "text/x-python",
   "name": "python",
   "nbconvert_exporter": "python",
   "pygments_lexer": "ipython3",
   "version": "3.9.16"
  },
  "varInspector": {
   "cols": {
    "lenName": 16,
    "lenType": 16,
    "lenVar": 40
   },
   "kernels_config": {
    "python": {
     "delete_cmd_postfix": "",
     "delete_cmd_prefix": "del ",
     "library": "var_list.py",
     "varRefreshCmd": "print(var_dic_list())"
    },
    "r": {
     "delete_cmd_postfix": ") ",
     "delete_cmd_prefix": "rm(",
     "library": "var_list.r",
     "varRefreshCmd": "cat(var_dic_list()) "
    }
   },
   "types_to_exclude": [
    "module",
    "function",
    "builtin_function_or_method",
    "instance",
    "_Feature"
   ],
   "window_display": false
  }
 },
 "nbformat": 4,
 "nbformat_minor": 5
}
