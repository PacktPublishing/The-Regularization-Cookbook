{
 "cells": [
  {
   "cell_type": "markdown",
   "id": "d51cfabc",
   "metadata": {},
   "source": [
    "# Regularization with Data"
   ]
  },
  {
   "cell_type": "markdown",
   "id": "bd0184b0",
   "metadata": {},
   "source": [
    "## Hashing high cardinality features\n"
   ]
  },
  {
   "cell_type": "code",
   "execution_count": 7,
   "id": "fc0e1ef1",
   "metadata": {},
   "outputs": [
    {
     "name": "stdout",
     "output_type": "stream",
     "text": [
      "hashing of \"regularization\" -> 04ef847b5e35b165c190ced9d91f65da\n",
      "hashing of \"regularized\" -> bb02c45d3c38892065ff71198e8d2f89\n",
      "hashing of \"machine learning\" -> e04d1bcee667afb8622501b9a4b4654d\n"
     ]
    }
   ],
   "source": [
    "from hashlib import md5\n",
    "\n",
    "print('hashing of \"regularization\" ->', md5(b'regularization').hexdigest())\n",
    "print('hashing of \"regularized\" ->', md5(b'regularized').hexdigest())\n",
    "print('hashing of \"machine learning\" ->', md5(b'machine learning').hexdigest())"
   ]
  },
  {
   "cell_type": "code",
   "execution_count": 1,
   "id": "45eb2b06",
   "metadata": {},
   "outputs": [],
   "source": [
    "import pandas as pd\n",
    "from sklearn.model_selection import train_test_split\n",
    "from sklearn.preprocessing import StandardScaler, OneHotEncoder\n",
    "from category_encoders.hashing import HashingEncoder\n",
    "from sklearn.linear_model import LogisticRegression"
   ]
  },
  {
   "cell_type": "code",
   "execution_count": 2,
   "id": "8f1c4711",
   "metadata": {},
   "outputs": [
    {
     "name": "stdout",
     "output_type": "stream",
     "text": [
      "number of unique values for the feature city 123\n"
     ]
    }
   ],
   "source": [
    "df = pd.read_csv('aug-train.zip')\n",
    "print('number of unique values for the feature city', df['city'].nunique())"
   ]
  },
  {
   "cell_type": "code",
   "execution_count": 3,
   "id": "94eea3d5",
   "metadata": {},
   "outputs": [],
   "source": [
    "df = df.drop(columns=['gender', 'major_discipline', 'company_size', 'company_type'])\n",
    "df = df.dropna()"
   ]
  },
  {
   "cell_type": "code",
   "execution_count": 4,
   "id": "ab73f8b3",
   "metadata": {},
   "outputs": [],
   "source": [
    "X_train, X_test, y_train, y_test = train_test_split(\n",
    "    df.drop(columns=['target']), df['target'], stratify=df['target'], test_size=0.2, random_state=0\n",
    ")"
   ]
  },
  {
   "cell_type": "code",
   "execution_count": 5,
   "id": "119934a9",
   "metadata": {},
   "outputs": [],
   "source": [
    "quanti_feats = ['city_development_index', 'training_hours']\n",
    "# Instantiate the scaler\n",
    "scaler = StandardScaler()\n",
    "# Select quantitative features\n",
    "X_train_quanti = X_train[quanti_feats]\n",
    "X_test_quanti = X_test[quanti_feats]\n",
    "# Rescale quantitative features\n",
    "X_train_quanti = scaler.fit_transform(X_train_quanti)\n",
    "X_test_quanti = scaler.transform(X_test_quanti)"
   ]
  },
  {
   "cell_type": "code",
   "execution_count": 6,
   "id": "2fc8bb3f",
   "metadata": {},
   "outputs": [],
   "source": [
    "quali_feats = ['relevent_experience', 'enrolled_university', 'education_level', 'experience', 'last_new_job']\n",
    "quali_feats = ['last_new_job']\n",
    "\n",
    "# Instantiate the one hot encoder\n",
    "encoder = OneHotEncoder()\n",
    "# Select qualitative features to one hot encode\n",
    "X_train_quali = X_train[quali_feats]\n",
    "X_test_quali = X_test[quali_feats]\n",
    "# Encode those features\n",
    "X_train_quali = encoder.fit_transform(X_train_quali).toarray()\n",
    "X_test_quali = encoder.transform(X_test_quali).toarray()"
   ]
  },
  {
   "cell_type": "code",
   "execution_count": 7,
   "id": "3ebba4d2",
   "metadata": {},
   "outputs": [
    {
     "data": {
      "text/html": [
       "<div>\n",
       "<style scoped>\n",
       "    .dataframe tbody tr th:only-of-type {\n",
       "        vertical-align: middle;\n",
       "    }\n",
       "\n",
       "    .dataframe tbody tr th {\n",
       "        vertical-align: top;\n",
       "    }\n",
       "\n",
       "    .dataframe thead th {\n",
       "        text-align: right;\n",
       "    }\n",
       "</style>\n",
       "<table border=\"1\" class=\"dataframe\">\n",
       "  <thead>\n",
       "    <tr style=\"text-align: right;\">\n",
       "      <th></th>\n",
       "      <th>col_0</th>\n",
       "      <th>col_1</th>\n",
       "      <th>col_2</th>\n",
       "      <th>col_3</th>\n",
       "      <th>col_4</th>\n",
       "      <th>col_5</th>\n",
       "      <th>col_6</th>\n",
       "    </tr>\n",
       "  </thead>\n",
       "  <tbody>\n",
       "    <tr>\n",
       "      <th>18031</th>\n",
       "      <td>1</td>\n",
       "      <td>0</td>\n",
       "      <td>0</td>\n",
       "      <td>0</td>\n",
       "      <td>0</td>\n",
       "      <td>0</td>\n",
       "      <td>0</td>\n",
       "    </tr>\n",
       "    <tr>\n",
       "      <th>16295</th>\n",
       "      <td>0</td>\n",
       "      <td>0</td>\n",
       "      <td>0</td>\n",
       "      <td>1</td>\n",
       "      <td>0</td>\n",
       "      <td>0</td>\n",
       "      <td>0</td>\n",
       "    </tr>\n",
       "    <tr>\n",
       "      <th>7679</th>\n",
       "      <td>0</td>\n",
       "      <td>0</td>\n",
       "      <td>0</td>\n",
       "      <td>0</td>\n",
       "      <td>0</td>\n",
       "      <td>1</td>\n",
       "      <td>0</td>\n",
       "    </tr>\n",
       "    <tr>\n",
       "      <th>18154</th>\n",
       "      <td>0</td>\n",
       "      <td>0</td>\n",
       "      <td>1</td>\n",
       "      <td>0</td>\n",
       "      <td>0</td>\n",
       "      <td>0</td>\n",
       "      <td>0</td>\n",
       "    </tr>\n",
       "    <tr>\n",
       "      <th>10843</th>\n",
       "      <td>0</td>\n",
       "      <td>0</td>\n",
       "      <td>0</td>\n",
       "      <td>0</td>\n",
       "      <td>0</td>\n",
       "      <td>1</td>\n",
       "      <td>0</td>\n",
       "    </tr>\n",
       "  </tbody>\n",
       "</table>\n",
       "</div>"
      ],
      "text/plain": [
       "       col_0  col_1  col_2  col_3  col_4  col_5  col_6\n",
       "18031      1      0      0      0      0      0      0\n",
       "16295      0      0      0      1      0      0      0\n",
       "7679       0      0      0      0      0      1      0\n",
       "18154      0      0      1      0      0      0      0\n",
       "10843      0      0      0      0      0      1      0"
      ]
     },
     "execution_count": 7,
     "metadata": {},
     "output_type": "execute_result"
    }
   ],
   "source": [
    "high_cardinality_feature = ['city']\n",
    "# Instantiate the hashing encoder\n",
    "hasher = HashingEncoder(n_components=7)\n",
    "# Encode the city feature with hashing\n",
    "X_train_hash = hasher.fit_transform(X_train[high_cardinality_feature])\n",
    "X_test_hash = hasher.fit_transform(X_test[high_cardinality_feature])\n",
    "# Display the result on the training set\n",
    "X_train_hash.head()"
   ]
  },
  {
   "cell_type": "code",
   "execution_count": 8,
   "id": "66d7a729",
   "metadata": {},
   "outputs": [],
   "source": [
    "X_train = np.concatenate([X_train_quali, X_train_quanti, X_train_hash], 1)\n",
    "X_test = np.concatenate([X_test_quali, X_test_quanti, X_test_hash], 1)"
   ]
  },
  {
   "cell_type": "code",
   "execution_count": 9,
   "id": "0a1999f9",
   "metadata": {},
   "outputs": [
    {
     "data": {
      "text/plain": [
       "LogisticRegression()"
      ]
     },
     "execution_count": 9,
     "metadata": {},
     "output_type": "execute_result"
    }
   ],
   "source": [
    "lr = LogisticRegression()\n",
    "lr.fit(X_train, y_train)"
   ]
  },
  {
   "cell_type": "code",
   "execution_count": 10,
   "id": "a89ecb64",
   "metadata": {
    "scrolled": true
   },
   "outputs": [
    {
     "name": "stdout",
     "output_type": "stream",
     "text": [
      "Accuracy train set: 0.7812087988342239\n",
      "Accuracy test set: 0.7826810990840966\n"
     ]
    }
   ],
   "source": [
    "print('Accuracy train set:', lr.score(X_train, y_train))\n",
    "print('Accuracy test set:', lr.score(X_test, y_test))"
   ]
  },
  {
   "cell_type": "markdown",
   "id": "acd17cd7",
   "metadata": {},
   "source": [
    "## Aggregating"
   ]
  },
  {
   "cell_type": "code",
   "execution_count": 1,
   "id": "413f9fb2",
   "metadata": {},
   "outputs": [],
   "source": [
    "import pandas as pd\n",
    "from sklearn.model_selection import train_test_split\n",
    "from sklearn.preprocessing import OneHotEncoder, StandardScaler\n",
    "from sklearn.linear_model import LogisticRegression"
   ]
  },
  {
   "cell_type": "code",
   "execution_count": 2,
   "id": "5020ac46",
   "metadata": {},
   "outputs": [],
   "source": [
    "df = pd.read_csv('aug-train.zip')"
   ]
  },
  {
   "cell_type": "code",
   "execution_count": 3,
   "id": "76a9c42c",
   "metadata": {},
   "outputs": [],
   "source": [
    "df = df.drop(columns=['gender', 'major_discipline', 'company_size', 'company_type'])\n",
    "df = df.dropna()"
   ]
  },
  {
   "cell_type": "code",
   "execution_count": 4,
   "id": "2c41502b",
   "metadata": {},
   "outputs": [],
   "source": [
    "X_train, X_test, y_train, y_test = train_test_split(\n",
    "    df.drop(columns=['target']), df['target'], stratify=df['target'], test_size=0.2, random_state=0\n",
    ")"
   ]
  },
  {
   "cell_type": "code",
   "execution_count": 5,
   "id": "bf7eff79",
   "metadata": {},
   "outputs": [],
   "source": [
    "quanti_feats = ['city_development_index', 'training_hours']\n",
    "scaler = StandardScaler()\n",
    "X_train_quanti = X_train[quanti_feats]\n",
    "X_test_quanti = X_test[quanti_feats]\n",
    "X_train_quanti = scaler.fit_transform(X_train_quanti)\n",
    "X_test_quanti = scaler.transform(X_test_quanti)"
   ]
  },
  {
   "cell_type": "code",
   "execution_count": 6,
   "id": "98dd4f1c",
   "metadata": {},
   "outputs": [],
   "source": [
    "# Get only cities above threshold\n",
    "threshold = 0.1\n",
    "kept_cities = X_train['city'].value_counts(normalize=True)[X_train['city'].value_counts(normalize=True) > threshold].index\n",
    "# Update all cities below threshold as 'other'\n",
    "X_train.loc[~X_train['city'].isin(kept_cities), 'city'] = 'other'\n",
    "X_test.loc[~X_test['city'].isin(kept_cities), 'city'] = 'other'"
   ]
  },
  {
   "cell_type": "code",
   "execution_count": 7,
   "id": "0b2c6d18",
   "metadata": {},
   "outputs": [],
   "source": [
    "# Get qualitative features\n",
    "quali_feats = ['city', 'relevent_experience', 'enrolled_university', 'education_level', 'experience', 'last_new_job']\n",
    "X_train_quali = X_train[quali_feats]\n",
    "X_test_quali = X_test[quali_feats]\n",
    "# Instantiate the one hot encoder\n",
    "encoder = OneHotEncoder()\n",
    "# Apply one hot encoding\n",
    "X_train_quali = encoder.fit_transform(X_train_quali).toarray()\n",
    "X_test_quali = encoder.transform(X_test_quali).toarray()"
   ]
  },
  {
   "cell_type": "code",
   "execution_count": 8,
   "id": "b291a169",
   "metadata": {},
   "outputs": [],
   "source": [
    "X_train = np.concatenate([X_train_quali, X_train_quanti], 1)\n",
    "X_test = np.concatenate([X_test_quali, X_test_quanti], 1)"
   ]
  },
  {
   "cell_type": "code",
   "execution_count": 9,
   "id": "b095b1d1",
   "metadata": {},
   "outputs": [
    {
     "data": {
      "text/plain": [
       "LogisticRegression()"
      ]
     },
     "execution_count": 9,
     "metadata": {},
     "output_type": "execute_result"
    }
   ],
   "source": [
    "lr = LogisticRegression()\n",
    "lr.fit(X_train, y_train)"
   ]
  },
  {
   "cell_type": "code",
   "execution_count": 10,
   "id": "8e6df440",
   "metadata": {},
   "outputs": [
    {
     "name": "stdout",
     "output_type": "stream",
     "text": [
      "Accuracy train set: 0.7805842759003538\n",
      "Accuracy test set: 0.774909797391063\n"
     ]
    }
   ],
   "source": [
    "print('Accuracy train set:', lr.score(X_train, y_train))\n",
    "print('Accuracy test set:', lr.score(X_test, y_test))"
   ]
  },
  {
   "cell_type": "code",
   "execution_count": 11,
   "id": "afe9ed57",
   "metadata": {},
   "outputs": [
    {
     "data": {
      "text/plain": [
       "city_103    0.232819\n",
       "city_21     0.136227\n",
       "city_16     0.081659\n",
       "city_114    0.069613\n",
       "city_160    0.045354\n",
       "              ...   \n",
       "city_111    0.000167\n",
       "city_129    0.000111\n",
       "city_8      0.000111\n",
       "city_140    0.000056\n",
       "city_171    0.000056\n",
       "Name: city, Length: 123, dtype: float64"
      ]
     },
     "execution_count": 11,
     "metadata": {},
     "output_type": "execute_result"
    }
   ],
   "source": [
    "df['city'].value_counts(normalize=True)"
   ]
  },
  {
   "cell_type": "code",
   "execution_count": 14,
   "id": "f480c16b",
   "metadata": {},
   "outputs": [
    {
     "data": {
      "text/plain": [
       "city_103     True\n",
       "city_21      True\n",
       "city_16      True\n",
       "city_114     True\n",
       "city_160    False\n",
       "            ...  \n",
       "city_111    False\n",
       "city_129    False\n",
       "city_8      False\n",
       "city_140    False\n",
       "city_171    False\n",
       "Name: city, Length: 123, dtype: bool"
      ]
     },
     "execution_count": 14,
     "metadata": {},
     "output_type": "execute_result"
    }
   ],
   "source": [
    "df['city'].value_counts(normalize=True) > 0.05"
   ]
  },
  {
   "cell_type": "code",
   "execution_count": 15,
   "id": "fbc8dd51",
   "metadata": {},
   "outputs": [
    {
     "data": {
      "text/plain": [
       "Index(['city_103', 'city_21', 'city_16', 'city_114'], dtype='object')"
      ]
     },
     "execution_count": 15,
     "metadata": {},
     "output_type": "execute_result"
    }
   ],
   "source": [
    "kept_cities = df['city'].value_counts(normalize=True)[df['city'].value_counts(normalize=True) > 0.05].index\n",
    "kept_cities"
   ]
  },
  {
   "cell_type": "markdown",
   "id": "47085715",
   "metadata": {},
   "source": [
    "## Undersampling an imbalanced dataset"
   ]
  },
  {
   "cell_type": "code",
   "execution_count": 1,
   "id": "ac10c139",
   "metadata": {},
   "outputs": [],
   "source": [
    "import pandas as pd\n",
    "import matplotlib.pyplot as plt\n",
    "from sklearn.model_selection import train_test_split\n",
    "from sklearn.preprocessing import StandardScaler\n",
    "from imblearn.under_sampling import RandomUnderSampler\n",
    "from sklearn.linear_model import LogisticRegression\n",
    "from sklearn.metrics import roc_auc_score"
   ]
  },
  {
   "cell_type": "code",
   "execution_count": 2,
   "id": "22ed62d4",
   "metadata": {},
   "outputs": [
    {
     "data": {
      "text/plain": [
       "0    0.998273\n",
       "1    0.001727\n",
       "Name: Class, dtype: float64"
      ]
     },
     "execution_count": 2,
     "metadata": {},
     "output_type": "execute_result"
    }
   ],
   "source": [
    "df = pd.read_csv('creditcardfraud.zip')\n",
    "df['Class'].value_counts(normalize=True)"
   ]
  },
  {
   "cell_type": "code",
   "execution_count": 3,
   "id": "800cb2c3",
   "metadata": {},
   "outputs": [],
   "source": [
    "X_train, X_test, y_train, y_test = train_test_split(df.drop(columns=['Class']), df['Class'], test_size=0.2, random_state=0, stratify=df['Class'])"
   ]
  },
  {
   "cell_type": "code",
   "execution_count": 5,
   "id": "29be80e2",
   "metadata": {},
   "outputs": [
    {
     "data": {
      "text/plain": [
       "0    3940\n",
       "1     394\n",
       "Name: Class, dtype: int64"
      ]
     },
     "execution_count": 5,
     "metadata": {},
     "output_type": "execute_result"
    }
   ],
   "source": [
    "# Instantiate the object with a 10% strategy\n",
    "rus = RandomUnderSampler(sampling_strategy=0.1, random_state=0)\n",
    "# Undersample the train dataset\n",
    "X_train, y_train = rus.fit_resample(X_train, y_train)\n",
    "# Check the balance\n",
    "y_train.value_counts()"
   ]
  },
  {
   "cell_type": "code",
   "execution_count": 6,
   "id": "6542fd2c",
   "metadata": {},
   "outputs": [],
   "source": [
    "# Scale the data\n",
    "scaler = StandardScaler()\n",
    "X_train = scaler.fit_transform(X_train)\n",
    "X_test = scaler.transform(X_test)"
   ]
  },
  {
   "cell_type": "code",
   "execution_count": 7,
   "id": "36774304",
   "metadata": {},
   "outputs": [
    {
     "data": {
      "text/plain": [
       "LogisticRegression()"
      ]
     },
     "execution_count": 7,
     "metadata": {},
     "output_type": "execute_result"
    }
   ],
   "source": [
    "lr = LogisticRegression()\n",
    "lr.fit(X_train, y_train)"
   ]
  },
  {
   "cell_type": "code",
   "execution_count": 8,
   "id": "66a834e5",
   "metadata": {},
   "outputs": [
    {
     "name": "stdout",
     "output_type": "stream",
     "text": [
      "ROC AUC training set: 0.9875041871730784\n",
      "ROC AUC training set: 0.9731067071595099\n"
     ]
    }
   ],
   "source": [
    "# Get the probas\n",
    "y_train_proba = lr.predict_proba(X_train)[:, 1]\n",
    "y_test_proba = lr.predict_proba(X_test)[:, 1]\n",
    "# Display the ROC AUC\n",
    "print('ROC AUC training set:', roc_auc_score(y_train, y_train_proba))\n",
    "print('ROC AUC training set:', roc_auc_score(y_test, y_test_proba))"
   ]
  },
  {
   "cell_type": "code",
   "execution_count": 11,
   "id": "f95fa248",
   "metadata": {},
   "outputs": [
    {
     "data": {
      "image/png": "[encoded data removed]",
      "text/plain": [
       "<Figure size 640x480 with 1 Axes>"
      ]
     },
     "metadata": {},
     "output_type": "display_data"
    }
   ],
   "source": [
    "import matplotlib.pyplot as plt\n",
    "from sklearn.metrics import roc_curve\n",
    "# Display the ROC curve\n",
    "fpr_test, tpr_test, _ = roc_curve(y_test, y_test_proba)\n",
    "fpr_train, tpr_train, _ = roc_curve(y_train, y_train_proba)\n",
    "plt.plot(fpr_test, tpr_test, label='test')\n",
    "plt.plot(fpr_train, tpr_train, label='train')\n",
    "plt.legend()\n",
    "plt.show()"
   ]
  },
  {
   "cell_type": "markdown",
   "id": "5a0a93bb",
   "metadata": {},
   "source": [
    "## Oversampling an imbalanced dataset"
   ]
  },
  {
   "cell_type": "code",
   "execution_count": 1,
   "id": "b26f02c4",
   "metadata": {},
   "outputs": [],
   "source": [
    "import pandas as pd\n",
    "import matplotlib.pyplot as plt\n",
    "from sklearn.model_selection import train_test_split\n",
    "from sklearn.preprocessing import StandardScaler\n",
    "from imblearn.over_sampling import RandomOverSampler\n",
    "from sklearn.linear_model import LogisticRegression\n",
    "from sklearn.metrics import roc_auc_score"
   ]
  },
  {
   "cell_type": "code",
   "execution_count": 2,
   "id": "94bfac1b",
   "metadata": {},
   "outputs": [
    {
     "data": {
      "text/plain": [
       "0    0.998273\n",
       "1    0.001727\n",
       "Name: Class, dtype: float64"
      ]
     },
     "execution_count": 2,
     "metadata": {},
     "output_type": "execute_result"
    }
   ],
   "source": [
    "df = pd.read_csv('creditcardfraud.zip')\n",
    "df['Class'].value_counts(normalize=True)"
   ]
  },
  {
   "cell_type": "code",
   "execution_count": 3,
   "id": "b96073ab",
   "metadata": {},
   "outputs": [],
   "source": [
    "X_train, X_test, y_train, y_test = train_test_split(df.drop(columns=['Class']), df['Class'], test_size=0.2, random_state=0, stratify=df['Class'])"
   ]
  },
  {
   "cell_type": "code",
   "execution_count": 4,
   "id": "741a7123",
   "metadata": {},
   "outputs": [
    {
     "data": {
      "text/plain": [
       "0    227451\n",
       "1     22745\n",
       "Name: Class, dtype: int64"
      ]
     },
     "execution_count": 4,
     "metadata": {},
     "output_type": "execute_result"
    }
   ],
   "source": [
    "# Instantiate the oversampler with a 10% strategy\n",
    "ros = RandomOverSampler(sampling_strategy=0.1, random_state=0)\n",
    "# Overersample the train dataset\n",
    "X_train, y_train = ros.fit_resample(X_train, y_train)\n",
    "# Check the balance\n",
    "y_train.value_counts()"
   ]
  },
  {
   "cell_type": "code",
   "execution_count": 5,
   "id": "8a415200",
   "metadata": {},
   "outputs": [],
   "source": [
    "# Scale the data\n",
    "scaler = StandardScaler()\n",
    "X_train = scaler.fit_transform(X_train)\n",
    "X_test = scaler.transform(X_test)"
   ]
  },
  {
   "cell_type": "code",
   "execution_count": 6,
   "id": "5fcb1d29",
   "metadata": {},
   "outputs": [
    {
     "data": {
      "text/plain": [
       "LogisticRegression()"
      ]
     },
     "execution_count": 6,
     "metadata": {},
     "output_type": "execute_result"
    }
   ],
   "source": [
    "lr = LogisticRegression()\n",
    "lr.fit(X_train, y_train)"
   ]
  },
  {
   "cell_type": "code",
   "execution_count": 7,
   "id": "6e3c4c1b",
   "metadata": {},
   "outputs": [
    {
     "name": "stdout",
     "output_type": "stream",
     "text": [
      "ROC AUC training set: 0.9884952360756659\n",
      "ROC AUC training set: 0.9721115830969416\n"
     ]
    }
   ],
   "source": [
    "# Get the probas\n",
    "y_train_proba = lr.predict_proba(X_train)[:, 1]\n",
    "y_test_proba = lr.predict_proba(X_test)[:, 1]\n",
    "# Display the ROC AUC\n",
    "print('ROC AUC training set:', roc_auc_score(y_train, y_train_proba))\n",
    "print('ROC AUC training set:', roc_auc_score(y_test, y_test_proba))"
   ]
  },
  {
   "cell_type": "code",
   "execution_count": 8,
   "id": "29299def",
   "metadata": {},
   "outputs": [
    {
     "data": {
      "image/png": "[encoded data removed]",
      "text/plain": [
       "<Figure size 640x480 with 1 Axes>"
      ]
     },
     "metadata": {},
     "output_type": "display_data"
    }
   ],
   "source": [
    "import matplotlib.pyplot as plt\n",
    "from sklearn.metrics import roc_curve\n",
    "# Display the ROC curve\n",
    "fpr_test, tpr_test, _ = roc_curve(y_test, y_test_proba)\n",
    "fpr_train, tpr_train, _ = roc_curve(y_train, y_train_proba)\n",
    "plt.plot(fpr_test, tpr_test, label='test')\n",
    "plt.plot(fpr_train, tpr_train, label='train')\n",
    "plt.legend()\n",
    "plt.show()"
   ]
  },
  {
   "cell_type": "markdown",
   "id": "1cc8de0a",
   "metadata": {},
   "source": [
    "## Resampling imbalanced data with SMOTE"
   ]
  },
  {
   "cell_type": "code",
   "execution_count": 1,
   "id": "465f33a1",
   "metadata": {},
   "outputs": [],
   "source": [
    "import pandas as pd\n",
    "import matplotlib.pyplot as plt\n",
    "from sklearn.model_selection import train_test_split\n",
    "from sklearn.preprocessing import StandardScaler\n",
    "from imblearn.over_sampling import SMOTE\n",
    "from sklearn.linear_model import LogisticRegression\n",
    "from sklearn.metrics import roc_auc_score"
   ]
  },
  {
   "cell_type": "code",
   "execution_count": 2,
   "id": "b2bee4a0",
   "metadata": {},
   "outputs": [
    {
     "data": {
      "text/plain": [
       "0    0.998273\n",
       "1    0.001727\n",
       "Name: Class, dtype: float64"
      ]
     },
     "execution_count": 2,
     "metadata": {},
     "output_type": "execute_result"
    }
   ],
   "source": [
    "df = pd.read_csv('creditcardfraud.zip')\n",
    "df['Class'].value_counts(normalize=True)"
   ]
  },
  {
   "cell_type": "code",
   "execution_count": 3,
   "id": "172d167a",
   "metadata": {},
   "outputs": [],
   "source": [
    "X_train, X_test, y_train, y_test = train_test_split(df.drop(columns=['Class']), df['Class'], test_size=0.2, random_state=0, stratify=df['Class'])"
   ]
  },
  {
   "cell_type": "code",
   "execution_count": 4,
   "id": "90a3702e",
   "metadata": {},
   "outputs": [
    {
     "data": {
      "text/plain": [
       "0    227451\n",
       "1     22745\n",
       "Name: Class, dtype: int64"
      ]
     },
     "execution_count": 4,
     "metadata": {},
     "output_type": "execute_result"
    }
   ],
   "source": [
    "# Instantiate the SLOT with a 10% strategy\n",
    "smote = SMOTE(sampling_strategy=0.1, random_state=0)\n",
    "# Overersample the train dataset\n",
    "X_train, y_train = smote.fit_resample(X_train, y_train)\n",
    "# Check the balance\n",
    "y_train.value_counts()"
   ]
  },
  {
   "cell_type": "code",
   "execution_count": 5,
   "id": "febfa00f",
   "metadata": {},
   "outputs": [],
   "source": [
    "# Scale the data\n",
    "scaler = StandardScaler()\n",
    "X_train = scaler.fit_transform(X_train)\n",
    "X_test = scaler.transform(X_test)"
   ]
  },
  {
   "cell_type": "code",
   "execution_count": 6,
   "id": "12f399de",
   "metadata": {},
   "outputs": [
    {
     "data": {
      "text/plain": [
       "LogisticRegression()"
      ]
     },
     "execution_count": 6,
     "metadata": {},
     "output_type": "execute_result"
    }
   ],
   "source": [
    "lr = LogisticRegression()\n",
    "lr.fit(X_train, y_train)"
   ]
  },
  {
   "cell_type": "code",
   "execution_count": 7,
   "id": "6eb3b253",
   "metadata": {},
   "outputs": [
    {
     "name": "stdout",
     "output_type": "stream",
     "text": [
      "ROC AUC training set: 0.9968657635906649\n",
      "ROC AUC training set: 0.9711737923925902\n"
     ]
    }
   ],
   "source": [
    "# Get the probas\n",
    "y_train_proba = lr.predict_proba(X_train)[:, 1]\n",
    "y_test_proba = lr.predict_proba(X_test)[:, 1]\n",
    "# Display the ROC AUC\n",
    "print('ROC AUC training set:', roc_auc_score(y_train, y_train_proba))\n",
    "print('ROC AUC training set:', roc_auc_score(y_test, y_test_proba))"
   ]
  },
  {
   "cell_type": "code",
   "execution_count": 8,
   "id": "dc99c89b",
   "metadata": {},
   "outputs": [
    {
     "data": {
      "image/png": "[encoded data removed]",
      "text/plain": [
       "<Figure size 640x480 with 1 Axes>"
      ]
     },
     "metadata": {},
     "output_type": "display_data"
    }
   ],
   "source": [
    "import matplotlib.pyplot as plt\n",
    "from sklearn.metrics import roc_curve\n",
    "# Display the ROC curve\n",
    "fpr_test, tpr_test, _ = roc_curve(y_test, y_test_proba)\n",
    "fpr_train, tpr_train, _ = roc_curve(y_train, y_train_proba)\n",
    "plt.plot(fpr_test, tpr_test, label='test')\n",
    "plt.plot(fpr_train, tpr_train, label='train')\n",
    "plt.legend()\n",
    "plt.show()"
   ]
  }
 ],
 "metadata": {
  "kernelspec": {
   "display_name": "Python 3 (ipykernel)",
   "language": "python",
   "name": "python3"
  },
  "language_info": {
   "codemirror_mode": {
    "name": "ipython",
    "version": 3
   },
   "file_extension": ".py",
   "mimetype": "text/x-python",
   "name": "python",
   "nbconvert_exporter": "python",
   "pygments_lexer": "ipython3",
   "version": "3.9.13"
  },
  "varInspector": {
   "cols": {
    "lenName": 16,
    "lenType": 16,
    "lenVar": 40
   },
   "kernels_config": {
    "python": {
     "delete_cmd_postfix": "",
     "delete_cmd_prefix": "del ",
     "library": "var_list.py",
     "varRefreshCmd": "print(var_dic_list())"
    },
    "r": {
     "delete_cmd_postfix": ") ",
     "delete_cmd_prefix": "rm(",
     "library": "var_list.r",
     "varRefreshCmd": "cat(var_dic_list()) "
    }
   },
   "types_to_exclude": [
    "module",
    "function",
    "builtin_function_or_method",
    "instance",
    "_Feature"
   ],
   "window_display": false
  }
 },
 "nbformat": 4,
 "nbformat_minor": 5
}
