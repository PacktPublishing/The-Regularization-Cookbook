{
 "cells": [
  {
   "cell_type": "markdown",
   "id": "d51cfabc",
   "metadata": {},
   "source": [
    "# Regularization with Recurrent Neural Networks"
   ]
  },
  {
   "cell_type": "markdown",
   "id": "bd0184b0",
   "metadata": {},
   "source": [
    "## Training a RNN"
   ]
  },
  {
   "cell_type": "code",
   "execution_count": 1,
   "id": "3dc5996d",
   "metadata": {
    "scrolled": true
   },
   "outputs": [],
   "source": [
    "import torch\n",
    "import torch.nn as nn\n",
    "import torch.optim as optim\n",
    "from torch.utils.data import DataLoader, Dataset\n",
    "from sklearn.model_selection import train_test_split\n",
    "from sklearn.preprocessing import LabelEncoder\n",
    "from transformers import AutoTokenizer\n",
    "import pandas as pd\n",
    "import matplotlib.pyplot as plt"
   ]
  },
  {
   "cell_type": "code",
   "execution_count": 2,
   "id": "c355f0a0",
   "metadata": {},
   "outputs": [
    {
     "name": "stdout",
     "output_type": "stream",
     "text": [
      "twitter-airline-sentiment.zip: Skipping, found more recently modified local copy (use --force to force download)\n",
      "Archive:  twitter-airline-sentiment.zip\n",
      "  inflating: Tweets.csv              \n",
      "  inflating: database.sqlite         \n"
     ]
    }
   ],
   "source": [
    "!kaggle datasets download -d crowdflower/twitter-airline-sentiment\n",
    "!unzip twitter-airline-sentiment.zip"
   ]
  },
  {
   "cell_type": "code",
   "execution_count": 3,
   "id": "6a5b82ed",
   "metadata": {},
   "outputs": [
    {
     "data": {
      "text/html": [
       "<div>\n",
       "<style scoped>\n",
       "    .dataframe tbody tr th:only-of-type {\n",
       "        vertical-align: middle;\n",
       "    }\n",
       "\n",
       "    .dataframe tbody tr th {\n",
       "        vertical-align: top;\n",
       "    }\n",
       "\n",
       "    .dataframe thead th {\n",
       "        text-align: right;\n",
       "    }\n",
       "</style>\n",
       "<table border=\"1\" class=\"dataframe\">\n",
       "  <thead>\n",
       "    <tr style=\"text-align: right;\">\n",
       "      <th></th>\n",
       "      <th>airline_sentiment</th>\n",
       "      <th>text</th>\n",
       "    </tr>\n",
       "  </thead>\n",
       "  <tbody>\n",
       "    <tr>\n",
       "      <th>0</th>\n",
       "      <td>neutral</td>\n",
       "      <td>@VirginAmerica What @dhepburn said.</td>\n",
       "    </tr>\n",
       "    <tr>\n",
       "      <th>1</th>\n",
       "      <td>positive</td>\n",
       "      <td>@VirginAmerica plus you've added commercials t...</td>\n",
       "    </tr>\n",
       "    <tr>\n",
       "      <th>2</th>\n",
       "      <td>neutral</td>\n",
       "      <td>@VirginAmerica I didn't today... Must mean I n...</td>\n",
       "    </tr>\n",
       "    <tr>\n",
       "      <th>3</th>\n",
       "      <td>negative</td>\n",
       "      <td>@VirginAmerica it's really aggressive to blast...</td>\n",
       "    </tr>\n",
       "    <tr>\n",
       "      <th>4</th>\n",
       "      <td>negative</td>\n",
       "      <td>@VirginAmerica and it's a really big bad thing...</td>\n",
       "    </tr>\n",
       "  </tbody>\n",
       "</table>\n",
       "</div>"
      ],
      "text/plain": [
       "  airline_sentiment                                               text\n",
       "0           neutral                @VirginAmerica What @dhepburn said.\n",
       "1          positive  @VirginAmerica plus you've added commercials t...\n",
       "2           neutral  @VirginAmerica I didn't today... Must mean I n...\n",
       "3          negative  @VirginAmerica it's really aggressive to blast...\n",
       "4          negative  @VirginAmerica and it's a really big bad thing..."
      ]
     },
     "execution_count": 3,
     "metadata": {},
     "output_type": "execute_result"
    }
   ],
   "source": [
    "# Load data\n",
    "data = pd.read_csv('Tweets.csv')\n",
    "data[['airline_sentiment', 'text']].head()"
   ]
  },
  {
   "cell_type": "code",
   "execution_count": 4,
   "id": "733c4605",
   "metadata": {},
   "outputs": [],
   "source": [
    "# Split data into train and test sets\n",
    "train_data, test_data = train_test_split(data, test_size=0.2, random_state=0)"
   ]
  },
  {
   "cell_type": "code",
   "execution_count": 5,
   "id": "403da0a5",
   "metadata": {},
   "outputs": [],
   "source": [
    "# Define dataset class\n",
    "class TextClassificationDataset(Dataset):\n",
    "    def __init__(self, data, max_length):\n",
    "        self.data = data\n",
    "        self.tokenizer = AutoTokenizer.from_pretrained('bert-base-uncased')\n",
    "        self.tokens = self.tokenizer(data['text'].to_list(), padding=True, truncation=True, max_length=max_length, return_tensors='pt')['input_ids']\n",
    "        le = LabelEncoder()\n",
    "        self.labels = torch.tensor(le.fit_transform(data['airline_sentiment']))\n",
    "\n",
    "    def __len__(self):\n",
    "        return len(self.data)\n",
    "    \n",
    "    def __getitem__(self, index):\n",
    "        return self.tokens[index], self.labels[index]"
   ]
  },
  {
   "cell_type": "code",
   "execution_count": 6,
   "id": "6a350d47",
   "metadata": {},
   "outputs": [],
   "source": [
    "batch_size = 64\n",
    "max_length = 24\n",
    "\n",
    "# Initialize datasets and dataloaders\n",
    "train_dataset = TextClassificationDataset(train_data, max_length)\n",
    "test_dataset = TextClassificationDataset(test_data, max_length)\n",
    "train_dataloader = DataLoader(train_dataset, batch_size=batch_size, shuffle=True)\n",
    "test_dataloader = DataLoader(test_dataset, batch_size=batch_size, shuffle=True)"
   ]
  },
  {
   "cell_type": "code",
   "execution_count": 7,
   "id": "459b8aa9",
   "metadata": {},
   "outputs": [],
   "source": [
    "# Define RNN model\n",
    "class RNNClassifier(nn.Module):\n",
    "    def __init__(self, vocab_size, embedding_dim, hidden_size, output_size, num_layers=3):\n",
    "        super(RNNClassifier, self).__init__()\n",
    "        self.num_layers = num_layers\n",
    "        self.hidden_size = hidden_size\n",
    "        self.embedding = nn.Embedding(num_embeddings=vocab_size, embedding_dim=embedding_dim)\n",
    "        self.rnn = nn.RNN(input_size=embedding_dim, hidden_size=hidden_size, num_layers=num_layers, nonlinearity='relu', batch_first=True)\n",
    "        self.fc = nn.Linear(hidden_size, output_size)\n",
    "    \n",
    "    def forward(self, inputs):\n",
    "        batch_size = inputs.size(0)\n",
    "        zero_hidden = torch.zeros(self.num_layers, batch_size, self.hidden_size)\n",
    "        embedded = self.embedding(inputs)\n",
    "        output, hidden = self.rnn(embedded, zero_hidden)\n",
    "        output = torch.softmax(self.fc(output[:, -1]), dim=1)\n",
    "        return output"
   ]
  },
  {
   "cell_type": "code",
   "execution_count": 8,
   "id": "a6a314c3",
   "metadata": {},
   "outputs": [
    {
     "name": "stdout",
     "output_type": "stream",
     "text": [
      "torch.Size([64, 24])\n",
      "Resulting output tensor: torch.Size([64, 3])\n",
      "Sum of the output tensor: tensor(64., grad_fn=<SumBackward0>)\n"
     ]
    }
   ],
   "source": [
    "vocab_size = train_dataset.tokenizer.vocab_size\n",
    "embedding_dim = 64\n",
    "hidden_dim = 64\n",
    "output_size = 3\n",
    "\n",
    "model = RNNClassifier(\n",
    "    vocab_size=vocab_size,\n",
    "    embedding_dim=embedding_dim,\n",
    "    hidden_size=hidden_dim, \n",
    "    output_size=output_size,\n",
    ")\n",
    "\n",
    "random_data = torch.randint(0, vocab_size, size=(batch_size, max_length))\n",
    "print(random_data.shape)\n",
    "result = model(random_data)\n",
    "print('Resulting output tensor:', result.shape)\n",
    "print('Sum of the output tensor:', result.sum())"
   ]
  },
  {
   "cell_type": "code",
   "execution_count": 9,
   "id": "b0cb676e",
   "metadata": {},
   "outputs": [],
   "source": [
    "optimizer = optim.Adam(model.parameters(), lr=0.001)\n",
    "criterion = nn.CrossEntropyLoss()"
   ]
  },
  {
   "cell_type": "code",
   "execution_count": 10,
   "id": "cf6a4f67",
   "metadata": {},
   "outputs": [],
   "source": [
    "def epoch_step_tweet(model, dataloader, training_set: bool):\n",
    "    running_loss = 0.\n",
    "    correct = 0.\n",
    "    for i, data in enumerate(dataloader, 0):\n",
    "        # Get the inputs: data is a list of [inputs, labels]\n",
    "        inputs, labels = data\n",
    "        if training_set:\n",
    "            # Zero the parameter gradients\n",
    "            optimizer.zero_grad()\n",
    "        # Forward + backward + optimize\n",
    "        outputs = model(inputs)\n",
    "        loss = criterion(outputs, labels)\n",
    "        if training_set:\n",
    "            loss.backward()\n",
    "            optimizer.step()\n",
    "        # Add correct predictions for this batch\n",
    "        correct += (outputs.argmax(dim=1) == labels).float().sum()\n",
    "        # Compute loss for this batch\n",
    "        running_loss += loss.item()\n",
    "\n",
    "    return running_loss, correct"
   ]
  },
  {
   "cell_type": "code",
   "execution_count": 11,
   "id": "77055e19",
   "metadata": {},
   "outputs": [],
   "source": [
    "def train_tweet_classification(model, train_dataloader, test_dataloader, criterion, epochs: int = 20):\n",
    "    # Train the model\n",
    "    train_losses = []\n",
    "    test_losses = []\n",
    "    train_accuracy = []\n",
    "    test_accuracy = []\n",
    "\n",
    "    for epoch in range(20):\n",
    "        running_train_loss = 0.\n",
    "        correct = 0.\n",
    "        model.train()\n",
    "        running_train_loss, correct = epoch_step_tweet(model, dataloader=train_dataloader, training_set=True)\n",
    "        # Compute and store loss and accuracy for this epoch\n",
    "        train_epoch_loss = running_train_loss / len(train_dataloader)\n",
    "        train_losses.append(train_epoch_loss)\n",
    "        train_epoch_accuracy = correct / len(train_dataset)\n",
    "        train_accuracy.append(train_epoch_accuracy)\n",
    "\n",
    "        ## Evaluate the model on the test set\n",
    "        running_test_loss = 0.\n",
    "        correct = 0.\n",
    "        model.eval()\n",
    "        with torch.no_grad():\n",
    "            running_test_loss, correct = epoch_step_tweet(model, dataloader=test_dataloader, training_set=False)\n",
    "\n",
    "            test_epoch_loss = running_test_loss / len(test_dataloader)\n",
    "            test_losses.append(test_epoch_loss)\n",
    "            test_epoch_accuracy = correct / len(test_dataset)\n",
    "            test_accuracy.append(test_epoch_accuracy)\n",
    "\n",
    "        # Print stats\n",
    "        print(f'[epoch {epoch + 1}] Training: loss={train_epoch_loss:.3f} accuracy={train_epoch_accuracy:.3f} |\\\n",
    "    \\t Test: loss={test_epoch_loss:.3f} accuracy={test_epoch_accuracy:.3f}')\n",
    "        \n",
    "    return train_losses, test_losses, train_accuracy, test_accuracy"
   ]
  },
  {
   "cell_type": "code",
   "execution_count": 9,
   "id": "9c810fd4",
   "metadata": {},
   "outputs": [
    {
     "name": "stdout",
     "output_type": "stream",
     "text": [
      "[epoch 1] Training: loss=0.919 accuracy=0.623 |\t Test: loss=0.896 accuracy=0.639\n",
      "[epoch 2] Training: loss=0.903 accuracy=0.634 |\t Test: loss=0.894 accuracy=0.641\n",
      "[epoch 3] Training: loss=0.886 accuracy=0.651 |\t Test: loss=0.877 accuracy=0.658\n",
      "[epoch 4] Training: loss=0.857 accuracy=0.687 |\t Test: loss=0.852 accuracy=0.695\n",
      "[epoch 5] Training: loss=0.864 accuracy=0.683 |\t Test: loss=0.866 accuracy=0.682\n",
      "[epoch 6] Training: loss=0.847 accuracy=0.699 |\t Test: loss=0.844 accuracy=0.693\n",
      "[epoch 7] Training: loss=0.815 accuracy=0.729 |\t Test: loss=0.837 accuracy=0.703\n",
      "[epoch 8] Training: loss=0.797 accuracy=0.749 |\t Test: loss=0.835 accuracy=0.706\n",
      "[epoch 9] Training: loss=0.786 accuracy=0.763 |\t Test: loss=0.825 accuracy=0.719\n",
      "[epoch 10] Training: loss=0.773 accuracy=0.776 |\t Test: loss=0.813 accuracy=0.734\n",
      "[epoch 11] Training: loss=0.767 accuracy=0.782 |\t Test: loss=0.813 accuracy=0.733\n",
      "[epoch 12] Training: loss=0.766 accuracy=0.782 |\t Test: loss=0.814 accuracy=0.733\n",
      "[epoch 13] Training: loss=0.752 accuracy=0.797 |\t Test: loss=0.806 accuracy=0.745\n",
      "[epoch 14] Training: loss=0.754 accuracy=0.796 |\t Test: loss=0.808 accuracy=0.741\n",
      "[epoch 15] Training: loss=0.745 accuracy=0.806 |\t Test: loss=0.805 accuracy=0.742\n",
      "[epoch 16] Training: loss=0.737 accuracy=0.812 |\t Test: loss=0.805 accuracy=0.745\n",
      "[epoch 17] Training: loss=0.731 accuracy=0.819 |\t Test: loss=0.802 accuracy=0.744\n",
      "[epoch 18] Training: loss=0.726 accuracy=0.825 |\t Test: loss=0.847 accuracy=0.706\n",
      "[epoch 19] Training: loss=0.743 accuracy=0.807 |\t Test: loss=0.805 accuracy=0.740\n",
      "[epoch 20] Training: loss=0.727 accuracy=0.824 |\t Test: loss=0.810 accuracy=0.738\n"
     ]
    }
   ],
   "source": [
    "train_losses, test_losses, train_accuracy, test_accuracy = train_tweet_classification(model, train_dataloader, test_dataloader, criterion, epochs=20)"
   ]
  },
  {
   "cell_type": "code",
   "execution_count": 10,
   "id": "25f3f629",
   "metadata": {
    "scrolled": false
   },
   "outputs": [
    {
     "data": {
      "image/png": "[encoded data removed]",
      "text/plain": [
       "<Figure size 640x480 with 1 Axes>"
      ]
     },
     "metadata": {},
     "output_type": "display_data"
    }
   ],
   "source": [
    "plt.plot(train_losses, label='train')\n",
    "plt.plot(test_losses, label='test')\n",
    "plt.xlabel('epoch')\n",
    "plt.ylabel('loss (CE)')\n",
    "plt.legend()\n",
    "plt.show()"
   ]
  },
  {
   "cell_type": "code",
   "execution_count": 11,
   "id": "33073ac2",
   "metadata": {},
   "outputs": [
    {
     "data": {
      "image/png": "[encoded data removed]",
      "text/plain": [
       "<Figure size 640x480 with 1 Axes>"
      ]
     },
     "metadata": {},
     "output_type": "display_data"
    }
   ],
   "source": [
    "plt.plot(train_accuracy, label='train')\n",
    "plt.plot(test_accuracy, label='test')\n",
    "plt.xlabel('epoch')\n",
    "plt.ylabel('Accuracy')\n",
    "plt.legend()\n",
    "plt.show()"
   ]
  },
  {
   "cell_type": "markdown",
   "id": "89a7642d",
   "metadata": {},
   "source": [
    "### There's more"
   ]
  },
  {
   "cell_type": "code",
   "execution_count": 12,
   "id": "66fdd9c8",
   "metadata": {},
   "outputs": [],
   "source": [
    "from transformers import AutoTokenizer\n",
    "tokenizer = AutoTokenizer.from_pretrained('bert-base-uncased')"
   ]
  },
  {
   "cell_type": "code",
   "execution_count": 13,
   "id": "f03a200f",
   "metadata": {},
   "outputs": [
    {
     "data": {
      "text/plain": [
       "['let',\n",
       " \"'\",\n",
       " 's',\n",
       " 'use',\n",
       " 'regular',\n",
       " '##ization',\n",
       " 'in',\n",
       " 'ml',\n",
       " '.',\n",
       " 'regular',\n",
       " '##ization',\n",
       " 'should',\n",
       " 'help',\n",
       " 'to',\n",
       " 'improve',\n",
       " 'model',\n",
       " 'robust',\n",
       " '##ness']"
      ]
     },
     "execution_count": 13,
     "metadata": {},
     "output_type": "execute_result"
    }
   ],
   "source": [
    "tokenizer.tokenize(\"Let's use regularization in ML. Regularization should help to improve model robustness\")"
   ]
  },
  {
   "cell_type": "code",
   "execution_count": 14,
   "id": "43af4285",
   "metadata": {},
   "outputs": [
    {
     "data": {
      "text/plain": [
       "[101,\n",
       " 2292,\n",
       " 1005,\n",
       " 1055,\n",
       " 2224,\n",
       " 3180,\n",
       " 3989,\n",
       " 1999,\n",
       " 19875,\n",
       " 1012,\n",
       " 3180,\n",
       " 3989,\n",
       " 2323,\n",
       " 2393,\n",
       " 2000,\n",
       " 5335,\n",
       " 2944,\n",
       " 15873,\n",
       " 2791,\n",
       " 102]"
      ]
     },
     "execution_count": 14,
     "metadata": {},
     "output_type": "execute_result"
    }
   ],
   "source": [
    "tokenizer(\"Let's use regularization in ML. Regularization should help to improve model robustness\")['input_ids']"
   ]
  },
  {
   "cell_type": "code",
   "execution_count": 15,
   "id": "09a0f073",
   "metadata": {},
   "outputs": [
    {
     "data": {
      "text/plain": [
       "30522"
      ]
     },
     "execution_count": 15,
     "metadata": {},
     "output_type": "execute_result"
    }
   ],
   "source": [
    "tokenizer.vocab_size"
   ]
  },
  {
   "cell_type": "markdown",
   "id": "2335ac77",
   "metadata": {},
   "source": [
    "## Training a GRU"
   ]
  },
  {
   "cell_type": "code",
   "execution_count": 1,
   "id": "7c993371",
   "metadata": {
    "scrolled": true
   },
   "outputs": [],
   "source": [
    "import torch\n",
    "import torch.nn as nn\n",
    "import torch.optim as optim\n",
    "from torch.utils.data import DataLoader, Dataset\n",
    "from sklearn.model_selection import train_test_split\n",
    "from sklearn.preprocessing import LabelEncoder\n",
    "from transformers import AutoTokenizer\n",
    "import pandas as pd\n",
    "import numpy as np\n",
    "import matplotlib.pyplot as plt"
   ]
  },
  {
   "cell_type": "code",
   "execution_count": 2,
   "id": "6ff1b76c",
   "metadata": {},
   "outputs": [
    {
     "name": "stdout",
     "output_type": "stream",
     "text": [
      "imdb-dataset-of-50k-movie-reviews.zip: Skipping, found more recently modified local copy (use --force to force download)\n",
      "Archive:  imdb-dataset-of-50k-movie-reviews.zip\n",
      "  inflating: IMDB Dataset.csv        \n"
     ]
    }
   ],
   "source": [
    "!kaggle datasets download -d lakshmi25npathi/imdb-dataset-of-50k-movie-reviews\n",
    "!unzip imdb-dataset-of-50k-movie-reviews.zip"
   ]
  },
  {
   "cell_type": "code",
   "execution_count": 3,
   "id": "149a4c6d",
   "metadata": {},
   "outputs": [
    {
     "data": {
      "text/html": [
       "<div>\n",
       "<style scoped>\n",
       "    .dataframe tbody tr th:only-of-type {\n",
       "        vertical-align: middle;\n",
       "    }\n",
       "\n",
       "    .dataframe tbody tr th {\n",
       "        vertical-align: top;\n",
       "    }\n",
       "\n",
       "    .dataframe thead th {\n",
       "        text-align: right;\n",
       "    }\n",
       "</style>\n",
       "<table border=\"1\" class=\"dataframe\">\n",
       "  <thead>\n",
       "    <tr style=\"text-align: right;\">\n",
       "      <th></th>\n",
       "      <th>review</th>\n",
       "      <th>sentiment</th>\n",
       "    </tr>\n",
       "  </thead>\n",
       "  <tbody>\n",
       "    <tr>\n",
       "      <th>0</th>\n",
       "      <td>One of the other reviewers has mentioned that ...</td>\n",
       "      <td>positive</td>\n",
       "    </tr>\n",
       "    <tr>\n",
       "      <th>1</th>\n",
       "      <td>A wonderful little production. &lt;br /&gt;&lt;br /&gt;The...</td>\n",
       "      <td>positive</td>\n",
       "    </tr>\n",
       "    <tr>\n",
       "      <th>2</th>\n",
       "      <td>I thought this was a wonderful way to spend ti...</td>\n",
       "      <td>positive</td>\n",
       "    </tr>\n",
       "    <tr>\n",
       "      <th>3</th>\n",
       "      <td>Basically there's a family where a little boy ...</td>\n",
       "      <td>negative</td>\n",
       "    </tr>\n",
       "    <tr>\n",
       "      <th>4</th>\n",
       "      <td>Petter Mattei's \"Love in the Time of Money\" is...</td>\n",
       "      <td>positive</td>\n",
       "    </tr>\n",
       "  </tbody>\n",
       "</table>\n",
       "</div>"
      ],
      "text/plain": [
       "                                              review sentiment\n",
       "0  One of the other reviewers has mentioned that ...  positive\n",
       "1  A wonderful little production. <br /><br />The...  positive\n",
       "2  I thought this was a wonderful way to spend ti...  positive\n",
       "3  Basically there's a family where a little boy ...  negative\n",
       "4  Petter Mattei's \"Love in the Time of Money\" is...  positive"
      ]
     },
     "execution_count": 3,
     "metadata": {},
     "output_type": "execute_result"
    }
   ],
   "source": [
    "# Load data\n",
    "data = pd.read_csv('IMDB Dataset.csv')\n",
    "data.head()"
   ]
  },
  {
   "cell_type": "code",
   "execution_count": 4,
   "id": "db2e13c2",
   "metadata": {},
   "outputs": [],
   "source": [
    "# Split data into train and test sets\n",
    "train_data, test_data = train_test_split(data, test_size=0.2, random_state=0)"
   ]
  },
  {
   "cell_type": "code",
   "execution_count": 5,
   "id": "73d705c1",
   "metadata": {},
   "outputs": [],
   "source": [
    "# Define dataset class\n",
    "class TextClassificationDataset(Dataset):\n",
    "    def __init__(self, data, max_length):\n",
    "        self.data = data\n",
    "        self.tokenizer = AutoTokenizer.from_pretrained('bert-base-uncased')\n",
    "        self.tokens = self.tokenizer(data['review'].to_list(), padding=True, truncation=True, max_length=max_length, return_tensors='pt')['input_ids']\n",
    "        le = LabelEncoder()\n",
    "        self.labels = torch.tensor(le.fit_transform(data['sentiment']).astype(np.float32))\n",
    "\n",
    "    def __len__(self):\n",
    "        return len(self.data)\n",
    "    \n",
    "    def __getitem__(self, index):\n",
    "        return self.tokens[index], self.labels[index]"
   ]
  },
  {
   "cell_type": "code",
   "execution_count": 6,
   "id": "0410ed40",
   "metadata": {},
   "outputs": [],
   "source": [
    "batch_size = 64\n",
    "max_words = 64\n",
    "\n",
    "# Initialize datasets and dataloaders\n",
    "train_dataset = TextClassificationDataset(train_data, max_words)\n",
    "test_dataset = TextClassificationDataset(test_data, max_words)\n",
    "train_dataloader = DataLoader(train_dataset, batch_size=batch_size, shuffle=True)\n",
    "test_dataloader = DataLoader(test_dataset, batch_size=batch_size, shuffle=True)"
   ]
  },
  {
   "cell_type": "code",
   "execution_count": 7,
   "id": "11b7ae39",
   "metadata": {},
   "outputs": [],
   "source": [
    "# Define GRU model\n",
    "class GRUClassifier(nn.Module):\n",
    "    def __init__(self, vocab_size, embedding_dim, hidden_size, output_size, num_layers=3):\n",
    "        super(GRUClassifier, self).__init__()\n",
    "        self.num_layers = num_layers\n",
    "        self.hidden_size = hidden_size\n",
    "        self.embedding = nn.Embedding(num_embeddings=vocab_size, embedding_dim=embedding_dim)\n",
    "        self.gru = nn.GRU(input_size=embedding_dim, hidden_size=hidden_size, num_layers=num_layers, batch_first=True)\n",
    "        self.fc = nn.Linear(hidden_size, output_size)\n",
    "    \n",
    "    def forward(self, inputs):\n",
    "        batch_size = inputs.size(0)\n",
    "        zero_hidden = torch.zeros(self.num_layers, batch_size, self.hidden_size).to(device)\n",
    "        embedded = self.embedding(inputs)\n",
    "        output, hidden = self.gru(embedded, zero_hidden)\n",
    "        output = torch.sigmoid(self.fc(output[:, -1]))\n",
    "        return output"
   ]
  },
  {
   "cell_type": "code",
   "execution_count": 8,
   "id": "ea827058",
   "metadata": {},
   "outputs": [
    {
     "name": "stdout",
     "output_type": "stream",
     "text": [
      "torch.Size([64, 64])\n",
      "Resulting output tensor: torch.Size([64, 1])\n",
      "Sum of the output tensor: tensor(33.6312, device='cuda:0', grad_fn=<SumBackward0>)\n"
     ]
    }
   ],
   "source": [
    "vocab_size = train_dataset.tokenizer.vocab_size\n",
    "embedding_dim = 32\n",
    "hidden_dim = 32\n",
    "output_size = 1\n",
    "\n",
    "# Optionally, set the device to GPU if you have one\n",
    "device = torch.device('cuda' if torch.cuda.is_available() else 'cpu')\n",
    "\n",
    "model = GRUClassifier(\n",
    "    vocab_size=vocab_size,\n",
    "    embedding_dim=embedding_dim,\n",
    "    hidden_size=hidden_dim, \n",
    "    output_size=output_size,\n",
    ").to(device)\n",
    "\n",
    "random_data = torch.randint(0, vocab_size, size=(batch_size, max_words)).to(device)\n",
    "\n",
    "print(random_data.shape)\n",
    "result = model(random_data)\n",
    "print('Resulting output tensor:', result.shape)\n",
    "print('Sum of the output tensor:', result.sum())"
   ]
  },
  {
   "cell_type": "code",
   "execution_count": 9,
   "id": "26c4fdbb",
   "metadata": {},
   "outputs": [],
   "source": [
    "optimizer = optim.Adam(model.parameters(), lr=0.001)\n",
    "criterion = nn.BCELoss()"
   ]
  },
  {
   "cell_type": "code",
   "execution_count": 10,
   "id": "d0cc3757",
   "metadata": {},
   "outputs": [],
   "source": [
    "def epoch_step_IMDB(model, dataloader, device, training_set: bool):\n",
    "    running_loss = 0.\n",
    "    correct = 0.\n",
    "    for i, data in enumerate(dataloader, 0):\n",
    "        # Get the inputs: data is a list of [inputs, labels]\n",
    "        inputs, labels = data\n",
    "        inputs = inputs.to(device)\n",
    "        labels = labels.unsqueeze(1).to(device)\n",
    "        if training_set:\n",
    "            # Zero the parameter gradients\n",
    "            optimizer.zero_grad()\n",
    "        # Forward + backward + optimize\n",
    "        outputs = model(inputs)\n",
    "        loss = criterion(outputs, labels)\n",
    "        if training_set:\n",
    "            loss.backward()\n",
    "            optimizer.step()\n",
    "        # Add correct predictions for this batch\n",
    "        correct += ((outputs > 0.5) == labels).float().sum()\n",
    "        # Compute loss for this batch\n",
    "        running_loss += loss.item()\n",
    "\n",
    "    return running_loss, correct"
   ]
  },
  {
   "cell_type": "code",
   "execution_count": 10,
   "id": "d5cdcbd0",
   "metadata": {},
   "outputs": [],
   "source": [
    "def train_IMDB_classification(model, train_dataloader, test_dataloader, criterion, device, epochs: int = 20):\n",
    "    # Train the model\n",
    "    train_losses = []\n",
    "    test_losses = []\n",
    "    train_accuracy = []\n",
    "    test_accuracy = []\n",
    "\n",
    "    for epoch in range(20):\n",
    "        running_train_loss = 0.\n",
    "        correct = 0.\n",
    "        model.train()\n",
    "        running_train_loss, correct = epoch_step_IMDB(\n",
    "            model, train_dataloader, device, training_set=True\n",
    "        )\n",
    "\n",
    "        # Compute and store loss and accuracy for this epoch\n",
    "        train_epoch_loss = running_train_loss / len(train_dataloader)\n",
    "        train_losses.append(train_epoch_loss)\n",
    "        train_epoch_accuracy = correct / len(train_dataset)\n",
    "        train_accuracy.append(train_epoch_accuracy.cpu().numpy())\n",
    "\n",
    "        ## Evaluate the model on the test set\n",
    "        running_test_loss = 0.\n",
    "        correct = 0.\n",
    "        model.eval()\n",
    "        with torch.no_grad():\n",
    "            running_test_loss, correct = epoch_step_IMDB(\n",
    "                model, test_dataloader, device, training_set=False\n",
    "            )\n",
    "\n",
    "            test_epoch_loss = running_test_loss / len(test_dataloader)\n",
    "            test_losses.append(test_epoch_loss)\n",
    "            test_epoch_accuracy = correct / len(test_dataset)\n",
    "            test_accuracy.append(test_epoch_accuracy.cpu().numpy())\n",
    "\n",
    "        # Print stats\n",
    "        print(f'[epoch {epoch + 1}] Training: loss={train_epoch_loss:.3f} accuracy={train_epoch_accuracy:.3f} |\\\n",
    "    \\t Test: loss={test_epoch_loss:.3f} accuracy={test_epoch_accuracy:.3f}')\n",
    "        \n",
    "    return train_losses, test_losses, train_accuracy, test_accuracy"
   ]
  },
  {
   "cell_type": "code",
   "execution_count": 9,
   "id": "2ae15fc1",
   "metadata": {},
   "outputs": [
    {
     "name": "stdout",
     "output_type": "stream",
     "text": [
      "[epoch 1] Training: loss=0.660 accuracy=0.592 |\t Test: loss=0.601 accuracy=0.682\n",
      "[epoch 2] Training: loss=0.519 accuracy=0.739 |\t Test: loss=0.508 accuracy=0.743\n",
      "[epoch 3] Training: loss=0.438 accuracy=0.793 |\t Test: loss=0.500 accuracy=0.757\n",
      "[epoch 4] Training: loss=0.385 accuracy=0.827 |\t Test: loss=0.472 accuracy=0.771\n",
      "[epoch 5] Training: loss=0.342 accuracy=0.852 |\t Test: loss=0.497 accuracy=0.769\n",
      "[epoch 6] Training: loss=0.302 accuracy=0.874 |\t Test: loss=0.534 accuracy=0.766\n",
      "[epoch 7] Training: loss=0.263 accuracy=0.895 |\t Test: loss=0.544 accuracy=0.763\n",
      "[epoch 8] Training: loss=0.226 accuracy=0.913 |\t Test: loss=0.617 accuracy=0.766\n",
      "[epoch 9] Training: loss=0.191 accuracy=0.930 |\t Test: loss=0.644 accuracy=0.762\n",
      "[epoch 10] Training: loss=0.157 accuracy=0.946 |\t Test: loss=0.692 accuracy=0.757\n",
      "[epoch 11] Training: loss=0.130 accuracy=0.958 |\t Test: loss=0.786 accuracy=0.758\n",
      "[epoch 12] Training: loss=0.108 accuracy=0.966 |\t Test: loss=0.849 accuracy=0.759\n",
      "[epoch 13] Training: loss=0.090 accuracy=0.974 |\t Test: loss=0.850 accuracy=0.753\n",
      "[epoch 14] Training: loss=0.076 accuracy=0.979 |\t Test: loss=0.921 accuracy=0.757\n",
      "[epoch 15] Training: loss=0.064 accuracy=0.984 |\t Test: loss=0.957 accuracy=0.755\n",
      "[epoch 16] Training: loss=0.056 accuracy=0.986 |\t Test: loss=1.057 accuracy=0.753\n",
      "[epoch 17] Training: loss=0.052 accuracy=0.987 |\t Test: loss=1.023 accuracy=0.754\n",
      "[epoch 18] Training: loss=0.049 accuracy=0.988 |\t Test: loss=1.077 accuracy=0.748\n",
      "[epoch 19] Training: loss=0.040 accuracy=0.991 |\t Test: loss=1.103 accuracy=0.755\n",
      "[epoch 20] Training: loss=0.040 accuracy=0.991 |\t Test: loss=1.155 accuracy=0.751\n"
     ]
    }
   ],
   "source": [
    "train_losses, test_losses, train_accuracy, test_accuracy = train_IMDB_classification(model, train_dataloader, test_dataloader, criterion, device, epochs=20)"
   ]
  },
  {
   "cell_type": "code",
   "execution_count": 10,
   "id": "f0b9ae2a",
   "metadata": {
    "scrolled": false
   },
   "outputs": [
    {
     "data": {
      "image/png": "[encoded data removed]",
      "text/plain": [
       "<Figure size 640x480 with 1 Axes>"
      ]
     },
     "metadata": {},
     "output_type": "display_data"
    }
   ],
   "source": [
    "plt.plot(train_losses, label='train')\n",
    "plt.plot(test_losses, label='test')\n",
    "plt.xlabel('epoch')\n",
    "plt.ylabel('loss (BCE)')\n",
    "plt.legend()\n",
    "plt.show()"
   ]
  },
  {
   "cell_type": "code",
   "execution_count": 11,
   "id": "dff4b345",
   "metadata": {
    "scrolled": false
   },
   "outputs": [
    {
     "data": {
      "image/png": "[encoded data removed]",
      "text/plain": [
       "<Figure size 640x480 with 1 Axes>"
      ]
     },
     "metadata": {},
     "output_type": "display_data"
    }
   ],
   "source": [
    "plt.plot(train_accuracy, label='train')\n",
    "plt.plot(test_accuracy, label='test')\n",
    "plt.xlabel('epoch')\n",
    "plt.ylabel('Accuracy')\n",
    "plt.legend()\n",
    "plt.show()"
   ]
  },
  {
   "cell_type": "markdown",
   "id": "f1bfdf70",
   "metadata": {},
   "source": [
    "### There's more"
   ]
  },
  {
   "cell_type": "code",
   "execution_count": null,
   "id": "1d66da9d",
   "metadata": {},
   "outputs": [],
   "source": [
    "class LSTMClassifier(nn.Module):\n",
    "    def __init__(self, vocab_size, embedding_dim, hidden_size, output_size, num_layers=3):\n",
    "        super(LSTMClassifier, self).__init__()\n",
    "        self.hidden_size = hidden_size\n",
    "        self.num_layers = num_layers\n",
    "        self.embedding = nn.Embedding(num_embeddings=vocab_size, embedding_dim=embedding_dim)\n",
    "        self.lstm = nn.LSTM(input_size=embedding_dim, hidden_size=hidden_size, num_layers=num_layers, batch_first=True)\n",
    "        self.fc = nn.Linear(hidden_size, output_size)\n",
    "    \n",
    "    def forward(self, inputs):\n",
    "        batch_size = inputs.size(0)\n",
    "        h_0 = torch.zeros(self.num_layers, batch_size, self.hidden_size)\n",
    "        c_0 = torch.zeros(self.num_layers, batch_size, self.hidden_size)\n",
    "        embedded = self.embedding(inputs)\n",
    "        output, (final_hidden_state, final_cell_state) = self.lstm(embedded, (h_0, c_0))\n",
    "        output = torch.softmax(self.fc(output[:, -1]), dim=1)\n",
    "        return output"
   ]
  },
  {
   "cell_type": "code",
   "execution_count": 24,
   "id": "99f7332e",
   "metadata": {},
   "outputs": [
    {
     "data": {
      "text/plain": [
       "19041"
      ]
     },
     "execution_count": 24,
     "metadata": {},
     "output_type": "execute_result"
    }
   ],
   "source": [
    "sum(p.numel() for p in list(model.parameters())[1:] if p.requires_grad)"
   ]
  },
  {
   "cell_type": "markdown",
   "id": "3032cd30",
   "metadata": {},
   "source": [
    "## Regularizing with dropout"
   ]
  },
  {
   "cell_type": "code",
   "execution_count": 1,
   "id": "f1d97e3a",
   "metadata": {
    "scrolled": true
   },
   "outputs": [],
   "source": [
    "import torch\n",
    "import torch.nn as nn\n",
    "import torch.optim as optim\n",
    "from torch.utils.data import DataLoader, Dataset\n",
    "from sklearn.model_selection import train_test_split\n",
    "from sklearn.preprocessing import LabelEncoder\n",
    "from transformers import AutoTokenizer\n",
    "import pandas as pd\n",
    "import numpy as np\n",
    "import matplotlib.pyplot as plt"
   ]
  },
  {
   "cell_type": "code",
   "execution_count": 2,
   "id": "1678e921",
   "metadata": {},
   "outputs": [
    {
     "data": {
      "text/html": [
       "<div>\n",
       "<style scoped>\n",
       "    .dataframe tbody tr th:only-of-type {\n",
       "        vertical-align: middle;\n",
       "    }\n",
       "\n",
       "    .dataframe tbody tr th {\n",
       "        vertical-align: top;\n",
       "    }\n",
       "\n",
       "    .dataframe thead th {\n",
       "        text-align: right;\n",
       "    }\n",
       "</style>\n",
       "<table border=\"1\" class=\"dataframe\">\n",
       "  <thead>\n",
       "    <tr style=\"text-align: right;\">\n",
       "      <th></th>\n",
       "      <th>review</th>\n",
       "      <th>sentiment</th>\n",
       "    </tr>\n",
       "  </thead>\n",
       "  <tbody>\n",
       "    <tr>\n",
       "      <th>0</th>\n",
       "      <td>One of the other reviewers has mentioned that ...</td>\n",
       "      <td>positive</td>\n",
       "    </tr>\n",
       "    <tr>\n",
       "      <th>1</th>\n",
       "      <td>A wonderful little production. &lt;br /&gt;&lt;br /&gt;The...</td>\n",
       "      <td>positive</td>\n",
       "    </tr>\n",
       "    <tr>\n",
       "      <th>2</th>\n",
       "      <td>I thought this was a wonderful way to spend ti...</td>\n",
       "      <td>positive</td>\n",
       "    </tr>\n",
       "    <tr>\n",
       "      <th>3</th>\n",
       "      <td>Basically there's a family where a little boy ...</td>\n",
       "      <td>negative</td>\n",
       "    </tr>\n",
       "    <tr>\n",
       "      <th>4</th>\n",
       "      <td>Petter Mattei's \"Love in the Time of Money\" is...</td>\n",
       "      <td>positive</td>\n",
       "    </tr>\n",
       "  </tbody>\n",
       "</table>\n",
       "</div>"
      ],
      "text/plain": [
       "                                              review sentiment\n",
       "0  One of the other reviewers has mentioned that ...  positive\n",
       "1  A wonderful little production. <br /><br />The...  positive\n",
       "2  I thought this was a wonderful way to spend ti...  positive\n",
       "3  Basically there's a family where a little boy ...  negative\n",
       "4  Petter Mattei's \"Love in the Time of Money\" is...  positive"
      ]
     },
     "execution_count": 2,
     "metadata": {},
     "output_type": "execute_result"
    }
   ],
   "source": [
    "# Load data\n",
    "data = pd.read_csv('IMDB Dataset.csv')\n",
    "data.head()"
   ]
  },
  {
   "cell_type": "code",
   "execution_count": 3,
   "id": "b0d253d7",
   "metadata": {},
   "outputs": [],
   "source": [
    "# Split data into train and test sets\n",
    "train_data, test_data = train_test_split(data, test_size=0.2, random_state=0)"
   ]
  },
  {
   "cell_type": "code",
   "execution_count": 4,
   "id": "a7b95416",
   "metadata": {},
   "outputs": [],
   "source": [
    "# Define dataset class\n",
    "class TextClassificationDataset(Dataset):\n",
    "    def __init__(self, data, max_length):\n",
    "        self.data = data\n",
    "        self.tokenizer = AutoTokenizer.from_pretrained('bert-base-uncased')\n",
    "        self.tokens = self.tokenizer(data['review'].to_list(), padding=True, truncation=True, max_length=max_length, return_tensors='pt')['input_ids']\n",
    "        le = LabelEncoder()\n",
    "        self.labels = torch.tensor(le.fit_transform(data['sentiment']).astype(np.float32))\n",
    "\n",
    "    def __len__(self):\n",
    "        return len(self.data)\n",
    "    \n",
    "    def __getitem__(self, index):\n",
    "        return self.tokens[index], self.labels[index]"
   ]
  },
  {
   "cell_type": "code",
   "execution_count": 5,
   "id": "e6ebae3f",
   "metadata": {},
   "outputs": [],
   "source": [
    "batch_size = 64\n",
    "max_words = 64\n",
    "\n",
    "# Initialize datasets and dataloaders\n",
    "train_dataset = TextClassificationDataset(train_data, max_words)\n",
    "test_dataset = TextClassificationDataset(test_data, max_words)\n",
    "train_dataloader = DataLoader(train_dataset, batch_size=batch_size, shuffle=True)\n",
    "test_dataloader = DataLoader(test_dataset, batch_size=batch_size, shuffle=True)"
   ]
  },
  {
   "cell_type": "code",
   "execution_count": 6,
   "id": "9293e724",
   "metadata": {},
   "outputs": [],
   "source": [
    "# Define GRU model\n",
    "class GRUClassifier(nn.Module):\n",
    "    def __init__(self, vocab_size, embedding_dim, hidden_size, output_size, num_layers=3, dropout=0.25):\n",
    "        super(GRUClassifier, self).__init__()\n",
    "        self.num_layers = num_layers\n",
    "        self.hidden_size = hidden_size\n",
    "        self.embedding = nn.Embedding(num_embeddings=vocab_size, embedding_dim=embedding_dim)\n",
    "        self.dropout = nn.Dropout(dropout)\n",
    "        self.gru = nn.GRU(input_size=embedding_dim, hidden_size=hidden_size, num_layers=num_layers, batch_first=True, dropout=dropout)\n",
    "        self.fc = nn.Linear(hidden_size, output_size)\n",
    "    \n",
    "    def forward(self, inputs):\n",
    "        batch_size = inputs.size(0)\n",
    "        zero_hidden = torch.zeros(self.num_layers, batch_size, self.hidden_size).to(device)\n",
    "        embedded = self.dropout(self.embedding(inputs))\n",
    "        output, hidden = self.gru(embedded, zero_hidden)\n",
    "        output = torch.sigmoid(self.fc(output[:, -1]))\n",
    "        return output"
   ]
  },
  {
   "cell_type": "code",
   "execution_count": 7,
   "id": "05528a2d",
   "metadata": {},
   "outputs": [
    {
     "name": "stdout",
     "output_type": "stream",
     "text": [
      "torch.Size([64, 64])\n",
      "Resulting output tensor: torch.Size([64, 1])\n",
      "Sum of the output tensor: tensor(36.7430, device='cuda:0', grad_fn=<SumBackward0>)\n"
     ]
    }
   ],
   "source": [
    "vocab_size = train_dataset.tokenizer.vocab_size\n",
    "embedding_dim = 32\n",
    "hidden_dim = 32\n",
    "output_size = 1\n",
    "\n",
    "# Optionally, set the device to GPU if you have one\n",
    "device = torch.device('cuda' if torch.cuda.is_available() else 'cpu')\n",
    "\n",
    "model = GRUClassifier(\n",
    "    vocab_size=vocab_size,\n",
    "    embedding_dim=embedding_dim,\n",
    "    hidden_size=hidden_dim, \n",
    "    output_size=output_size,\n",
    ").to(device)\n",
    "\n",
    "random_data = torch.randint(0, vocab_size, size=(batch_size, max_words)).to(device)\n",
    "\n",
    "print(random_data.shape)\n",
    "result = model(random_data)\n",
    "print('Resulting output tensor:', result.shape)\n",
    "print('Sum of the output tensor:', result.sum())"
   ]
  },
  {
   "cell_type": "code",
   "execution_count": 8,
   "id": "ec8b71d7",
   "metadata": {},
   "outputs": [],
   "source": [
    "optimizer = optim.Adam(model.parameters(), lr=0.001)\n",
    "criterion = nn.BCELoss()"
   ]
  },
  {
   "cell_type": "code",
   "execution_count": 11,
   "id": "0233052a",
   "metadata": {},
   "outputs": [
    {
     "name": "stdout",
     "output_type": "stream",
     "text": [
      "[epoch 1] Training: loss=0.677 accuracy=0.558 |    \t Test: loss=0.623 accuracy=0.660\n",
      "[epoch 2] Training: loss=0.582 accuracy=0.693 |    \t Test: loss=0.535 accuracy=0.731\n",
      "[epoch 3] Training: loss=0.511 accuracy=0.745 |    \t Test: loss=0.502 accuracy=0.752\n",
      "[epoch 4] Training: loss=0.466 accuracy=0.775 |    \t Test: loss=0.482 accuracy=0.760\n",
      "[epoch 5] Training: loss=0.436 accuracy=0.793 |    \t Test: loss=0.471 accuracy=0.773\n",
      "[epoch 6] Training: loss=0.413 accuracy=0.808 |    \t Test: loss=0.484 accuracy=0.774\n",
      "[epoch 7] Training: loss=0.397 accuracy=0.817 |    \t Test: loss=0.459 accuracy=0.784\n",
      "[epoch 8] Training: loss=0.379 accuracy=0.829 |    \t Test: loss=0.473 accuracy=0.783\n",
      "[epoch 9] Training: loss=0.364 accuracy=0.836 |    \t Test: loss=0.468 accuracy=0.783\n",
      "[epoch 10] Training: loss=0.350 accuracy=0.845 |    \t Test: loss=0.494 accuracy=0.782\n",
      "[epoch 11] Training: loss=0.340 accuracy=0.849 |    \t Test: loss=0.472 accuracy=0.787\n",
      "[epoch 12] Training: loss=0.326 accuracy=0.855 |    \t Test: loss=0.483 accuracy=0.787\n",
      "[epoch 13] Training: loss=0.312 accuracy=0.865 |    \t Test: loss=0.496 accuracy=0.783\n",
      "[epoch 14] Training: loss=0.305 accuracy=0.868 |    \t Test: loss=0.499 accuracy=0.790\n",
      "[epoch 15] Training: loss=0.295 accuracy=0.873 |    \t Test: loss=0.528 accuracy=0.784\n",
      "[epoch 16] Training: loss=0.285 accuracy=0.877 |    \t Test: loss=0.494 accuracy=0.790\n",
      "[epoch 17] Training: loss=0.275 accuracy=0.883 |    \t Test: loss=0.530 accuracy=0.787\n",
      "[epoch 18] Training: loss=0.269 accuracy=0.886 |    \t Test: loss=0.534 accuracy=0.787\n",
      "[epoch 19] Training: loss=0.256 accuracy=0.892 |    \t Test: loss=0.550 accuracy=0.788\n",
      "[epoch 20] Training: loss=0.250 accuracy=0.896 |    \t Test: loss=0.543 accuracy=0.784\n"
     ]
    }
   ],
   "source": [
    "train_losses, test_losses, train_accuracy, test_accuracy = train_IMDB_classification(model, train_dataloader, test_dataloader, criterion, device, epochs=20)"
   ]
  },
  {
   "cell_type": "code",
   "execution_count": 12,
   "id": "9080c0f2",
   "metadata": {
    "scrolled": false
   },
   "outputs": [
    {
     "data": {
      "image/png": "[encoded data removed]",
      "text/plain": [
       "<Figure size 640x480 with 1 Axes>"
      ]
     },
     "metadata": {},
     "output_type": "display_data"
    }
   ],
   "source": [
    "plt.plot(train_losses, label='train')\n",
    "plt.plot(test_losses, label='test')\n",
    "plt.xlabel('epoch')\n",
    "plt.ylabel('loss (BCE)')\n",
    "plt.legend()\n",
    "plt.show()"
   ]
  },
  {
   "cell_type": "code",
   "execution_count": 13,
   "id": "fed35be7",
   "metadata": {
    "scrolled": false
   },
   "outputs": [
    {
     "data": {
      "image/png": "[encoded data removed]",
      "text/plain": [
       "<Figure size 640x480 with 1 Axes>"
      ]
     },
     "metadata": {},
     "output_type": "display_data"
    }
   ],
   "source": [
    "plt.plot(train_accuracy, label='train')\n",
    "plt.plot(test_accuracy, label='test')\n",
    "plt.xlabel('epoch')\n",
    "plt.ylabel('Accuracy')\n",
    "plt.legend()\n",
    "plt.show()"
   ]
  },
  {
   "cell_type": "markdown",
   "id": "0543a0df",
   "metadata": {},
   "source": [
    "## Regularizing with maximum sequence length"
   ]
  },
  {
   "cell_type": "code",
   "execution_count": 14,
   "id": "cb871f31",
   "metadata": {
    "scrolled": true
   },
   "outputs": [],
   "source": [
    "import torch\n",
    "import torch.nn as nn\n",
    "import torch.optim as optim\n",
    "from torch.utils.data import DataLoader, Dataset\n",
    "from sklearn.model_selection import train_test_split\n",
    "from sklearn.preprocessing import LabelEncoder\n",
    "from transformers import AutoTokenizer\n",
    "import pandas as pd\n",
    "import numpy as np\n",
    "import matplotlib.pyplot as plt"
   ]
  },
  {
   "cell_type": "code",
   "execution_count": 15,
   "id": "ea124dcb",
   "metadata": {},
   "outputs": [
    {
     "data": {
      "text/html": [
       "<div>\n",
       "<style scoped>\n",
       "    .dataframe tbody tr th:only-of-type {\n",
       "        vertical-align: middle;\n",
       "    }\n",
       "\n",
       "    .dataframe tbody tr th {\n",
       "        vertical-align: top;\n",
       "    }\n",
       "\n",
       "    .dataframe thead th {\n",
       "        text-align: right;\n",
       "    }\n",
       "</style>\n",
       "<table border=\"1\" class=\"dataframe\">\n",
       "  <thead>\n",
       "    <tr style=\"text-align: right;\">\n",
       "      <th></th>\n",
       "      <th>review</th>\n",
       "      <th>sentiment</th>\n",
       "    </tr>\n",
       "  </thead>\n",
       "  <tbody>\n",
       "    <tr>\n",
       "      <th>0</th>\n",
       "      <td>One of the other reviewers has mentioned that ...</td>\n",
       "      <td>positive</td>\n",
       "    </tr>\n",
       "    <tr>\n",
       "      <th>1</th>\n",
       "      <td>A wonderful little production. &lt;br /&gt;&lt;br /&gt;The...</td>\n",
       "      <td>positive</td>\n",
       "    </tr>\n",
       "    <tr>\n",
       "      <th>2</th>\n",
       "      <td>I thought this was a wonderful way to spend ti...</td>\n",
       "      <td>positive</td>\n",
       "    </tr>\n",
       "    <tr>\n",
       "      <th>3</th>\n",
       "      <td>Basically there's a family where a little boy ...</td>\n",
       "      <td>negative</td>\n",
       "    </tr>\n",
       "    <tr>\n",
       "      <th>4</th>\n",
       "      <td>Petter Mattei's \"Love in the Time of Money\" is...</td>\n",
       "      <td>positive</td>\n",
       "    </tr>\n",
       "  </tbody>\n",
       "</table>\n",
       "</div>"
      ],
      "text/plain": [
       "                                              review sentiment\n",
       "0  One of the other reviewers has mentioned that ...  positive\n",
       "1  A wonderful little production. <br /><br />The...  positive\n",
       "2  I thought this was a wonderful way to spend ti...  positive\n",
       "3  Basically there's a family where a little boy ...  negative\n",
       "4  Petter Mattei's \"Love in the Time of Money\" is...  positive"
      ]
     },
     "execution_count": 15,
     "metadata": {},
     "output_type": "execute_result"
    }
   ],
   "source": [
    "# Load data\n",
    "data = pd.read_csv('IMDB Dataset.csv')\n",
    "data.head()"
   ]
  },
  {
   "cell_type": "code",
   "execution_count": 16,
   "id": "90db17e4",
   "metadata": {},
   "outputs": [],
   "source": [
    "# Split data into train and test sets\n",
    "train_data, test_data = train_test_split(data, test_size=0.2, random_state=0)"
   ]
  },
  {
   "cell_type": "code",
   "execution_count": 17,
   "id": "4b907c28",
   "metadata": {},
   "outputs": [],
   "source": [
    "# Define dataset class\n",
    "class TextClassificationDataset(Dataset):\n",
    "    def __init__(self, data, max_length):\n",
    "        self.data = data\n",
    "        self.tokenizer = AutoTokenizer.from_pretrained('bert-base-uncased')\n",
    "        self.tokens = self.tokenizer(data['review'].to_list(), padding=True, truncation=True, max_length=max_length, return_tensors='pt')['input_ids']\n",
    "        le = LabelEncoder()\n",
    "        self.labels = torch.tensor(le.fit_transform(data['sentiment']).astype(np.float32))\n",
    "\n",
    "    def __len__(self):\n",
    "        return len(self.data)\n",
    "    \n",
    "    def __getitem__(self, index):\n",
    "        return self.tokens[index], self.labels[index]"
   ]
  },
  {
   "cell_type": "code",
   "execution_count": 18,
   "id": "4f24c25e",
   "metadata": {},
   "outputs": [],
   "source": [
    "batch_size = 64\n",
    "max_words = 256\n",
    "\n",
    "# Initialize datasets and dataloaders\n",
    "train_dataset = TextClassificationDataset(train_data, max_words)\n",
    "test_dataset = TextClassificationDataset(test_data, max_words)\n",
    "train_dataloader = DataLoader(train_dataset, batch_size=batch_size, shuffle=True)\n",
    "test_dataloader = DataLoader(test_dataset, batch_size=batch_size, shuffle=True)"
   ]
  },
  {
   "cell_type": "code",
   "execution_count": 19,
   "id": "0b397575",
   "metadata": {},
   "outputs": [],
   "source": [
    "# Define RNN model\n",
    "class GRUClassifier(nn.Module):\n",
    "    def __init__(self, vocab_size, embedding_dim, hidden_size, output_size, num_layers=3):\n",
    "        super(GRUClassifier, self).__init__()\n",
    "        self.num_layers = num_layers\n",
    "        self.hidden_size = hidden_size\n",
    "        self.embedding = nn.Embedding(num_embeddings=vocab_size, embedding_dim=embedding_dim)\n",
    "        self.gru = nn.GRU(input_size=embedding_dim, hidden_size=hidden_size, num_layers=num_layers, batch_first=True)\n",
    "        self.fc = nn.Linear(hidden_size, output_size)\n",
    "    \n",
    "    def forward(self, inputs):\n",
    "        batch_size = inputs.size(0)\n",
    "        zero_hidden = torch.zeros(self.num_layers, batch_size, self.hidden_size).to(device)\n",
    "        embedded = self.embedding(inputs)\n",
    "        output, hidden = self.gru(embedded, zero_hidden)\n",
    "        output = torch.sigmoid(self.fc(output[:, -1]))\n",
    "        return output"
   ]
  },
  {
   "cell_type": "code",
   "execution_count": 20,
   "id": "7895cf61",
   "metadata": {},
   "outputs": [
    {
     "name": "stdout",
     "output_type": "stream",
     "text": [
      "torch.Size([64, 256])\n",
      "Resulting output tensor: torch.Size([64, 1])\n",
      "Sum of the output tensor: tensor(33.6772, device='cuda:0', grad_fn=<SumBackward0>)\n"
     ]
    }
   ],
   "source": [
    "vocab_size = train_dataset.tokenizer.vocab_size\n",
    "embedding_dim = 32\n",
    "hidden_dim = 32\n",
    "output_size = 1\n",
    "\n",
    "# Optionally, set the device to GPU if you have one\n",
    "device = torch.device('cuda' if torch.cuda.is_available() else 'cpu')\n",
    "\n",
    "model = GRUClassifier(\n",
    "    vocab_size=vocab_size,\n",
    "    embedding_dim=embedding_dim,\n",
    "    hidden_size=hidden_dim, \n",
    "    output_size=output_size,\n",
    ").to(device)\n",
    "\n",
    "random_data = torch.randint(0, vocab_size, size=(batch_size, max_words)).to(device)\n",
    "\n",
    "print(random_data.shape)\n",
    "result = model(random_data)\n",
    "print('Resulting output tensor:', result.shape)\n",
    "print('Sum of the output tensor:', result.sum())"
   ]
  },
  {
   "cell_type": "code",
   "execution_count": 21,
   "id": "d704f8c0",
   "metadata": {},
   "outputs": [],
   "source": [
    "optimizer = optim.Adam(model.parameters(), lr=0.001)\n",
    "criterion = nn.BCELoss()"
   ]
  },
  {
   "cell_type": "code",
   "execution_count": 9,
   "id": "962887e1",
   "metadata": {},
   "outputs": [
    {
     "name": "stdout",
     "output_type": "stream",
     "text": [
      "[epoch 1] Training: loss=0.687 accuracy=0.530 |\t Test: loss=0.614 accuracy=0.674\n",
      "[epoch 2] Training: loss=0.482 accuracy=0.765 |\t Test: loss=0.391 accuracy=0.819\n",
      "[epoch 3] Training: loss=0.318 accuracy=0.865 |\t Test: loss=0.331 accuracy=0.853\n",
      "[epoch 4] Training: loss=0.262 accuracy=0.893 |\t Test: loss=0.308 accuracy=0.867\n",
      "[epoch 5] Training: loss=0.217 accuracy=0.916 |\t Test: loss=0.326 accuracy=0.869\n",
      "[epoch 6] Training: loss=0.185 accuracy=0.931 |\t Test: loss=0.323 accuracy=0.872\n",
      "[epoch 7] Training: loss=0.151 accuracy=0.946 |\t Test: loss=0.341 accuracy=0.869\n",
      "[epoch 8] Training: loss=0.122 accuracy=0.960 |\t Test: loss=0.361 accuracy=0.871\n",
      "[epoch 9] Training: loss=0.095 accuracy=0.971 |\t Test: loss=0.383 accuracy=0.868\n",
      "[epoch 10] Training: loss=0.072 accuracy=0.980 |\t Test: loss=0.514 accuracy=0.865\n",
      "[epoch 11] Training: loss=0.059 accuracy=0.984 |\t Test: loss=0.504 accuracy=0.860\n",
      "[epoch 12] Training: loss=0.049 accuracy=0.988 |\t Test: loss=0.508 accuracy=0.862\n",
      "[epoch 13] Training: loss=0.041 accuracy=0.990 |\t Test: loss=0.530 accuracy=0.862\n",
      "[epoch 14] Training: loss=0.034 accuracy=0.992 |\t Test: loss=0.580 accuracy=0.859\n",
      "[epoch 15] Training: loss=0.031 accuracy=0.993 |\t Test: loss=0.608 accuracy=0.859\n",
      "[epoch 16] Training: loss=0.030 accuracy=0.993 |\t Test: loss=0.600 accuracy=0.861\n",
      "[epoch 17] Training: loss=0.025 accuracy=0.995 |\t Test: loss=0.623 accuracy=0.862\n",
      "[epoch 18] Training: loss=0.026 accuracy=0.994 |\t Test: loss=0.727 accuracy=0.856\n",
      "[epoch 19] Training: loss=0.023 accuracy=0.995 |\t Test: loss=0.712 accuracy=0.859\n",
      "[epoch 20] Training: loss=0.022 accuracy=0.995 |\t Test: loss=0.640 accuracy=0.859\n"
     ]
    }
   ],
   "source": [
    "train_losses, test_losses, train_accuracy, test_accuracy = train_IMDB_classification(model, train_dataloader, test_dataloader, criterion, device, epochs=20)"
   ]
  },
  {
   "cell_type": "code",
   "execution_count": 10,
   "id": "eef1ff8a",
   "metadata": {
    "scrolled": false
   },
   "outputs": [
    {
     "data": {
      "image/png": "[encoded data removed]",
      "text/plain": [
       "<Figure size 640x480 with 1 Axes>"
      ]
     },
     "metadata": {},
     "output_type": "display_data"
    }
   ],
   "source": [
    "plt.plot(train_losses, label='train')\n",
    "plt.plot(test_losses, label='test')\n",
    "plt.xlabel('epoch')\n",
    "plt.ylabel('loss (BCE)')\n",
    "plt.legend()\n",
    "plt.show()"
   ]
  },
  {
   "cell_type": "code",
   "execution_count": 11,
   "id": "f2039f2f",
   "metadata": {
    "scrolled": false
   },
   "outputs": [
    {
     "data": {
      "image/png": "[encoded data removed]",
      "text/plain": [
       "<Figure size 640x480 with 1 Axes>"
      ]
     },
     "metadata": {},
     "output_type": "display_data"
    }
   ],
   "source": [
    "plt.plot(train_accuracy, label='train')\n",
    "plt.plot(test_accuracy, label='test')\n",
    "plt.xlabel('epoch')\n",
    "plt.ylabel('Accuracy')\n",
    "plt.legend()\n",
    "plt.show()"
   ]
  },
  {
   "cell_type": "markdown",
   "id": "1fd3b877",
   "metadata": {},
   "source": [
    "### There's more"
   ]
  },
  {
   "cell_type": "code",
   "execution_count": 12,
   "id": "56d7b6ed",
   "metadata": {},
   "outputs": [
    {
     "name": "stderr",
     "output_type": "stream",
     "text": [
      "Token indices sequence length is longer than the specified maximum sequence length for this model (589 > 512). Running this sequence through the model will result in indexing errors\n"
     ]
    }
   ],
   "source": [
    "tokenizer = AutoTokenizer.from_pretrained('bert-base-uncased')\n",
    "review_lengths = [len(tokens) for tokens in tokenizer(train_data['review'].to_list())['input_ids']]"
   ]
  },
  {
   "cell_type": "markdown",
   "id": "bc344882",
   "metadata": {},
   "source": [
    "We can now plot the distribution of the review lengths with a histogram, using a log scale."
   ]
  },
  {
   "cell_type": "code",
   "execution_count": 13,
   "id": "12ce5042",
   "metadata": {},
   "outputs": [
    {
     "data": {
      "image/png": "[encoded data removed]",
      "text/plain": [
       "<Figure size 640x480 with 1 Axes>"
      ]
     },
     "metadata": {},
     "output_type": "display_data"
    }
   ],
   "source": [
    "plt.hist(review_lengths, bins=50, log=True)\n",
    "plt.xlabel('Review length (#tokens)')\n",
    "plt.show()"
   ]
  },
  {
   "cell_type": "code",
   "execution_count": 14,
   "id": "378a5f2f",
   "metadata": {},
   "outputs": [
    {
     "name": "stdout",
     "output_type": "stream",
     "text": [
      "Average length: 309.757075\n",
      "Median length: 231.0\n"
     ]
    }
   ],
   "source": [
    "print('Average length:', np.mean(review_lengths))\n",
    "print('Median length:', np.median(review_lengths))"
   ]
  }
 ],
 "metadata": {
  "kernelspec": {
   "display_name": "Python 3 (ipykernel)",
   "language": "python",
   "name": "python3"
  },
  "language_info": {
   "codemirror_mode": {
    "name": "ipython",
    "version": 3
   },
   "file_extension": ".py",
   "mimetype": "text/x-python",
   "name": "python",
   "nbconvert_exporter": "python",
   "pygments_lexer": "ipython3",
   "version": "3.9.16"
  },
  "varInspector": {
   "cols": {
    "lenName": 16,
    "lenType": 16,
    "lenVar": 40
   },
   "kernels_config": {
    "python": {
     "delete_cmd_postfix": "",
     "delete_cmd_prefix": "del ",
     "library": "var_list.py",
     "varRefreshCmd": "print(var_dic_list())"
    },
    "r": {
     "delete_cmd_postfix": ") ",
     "delete_cmd_prefix": "rm(",
     "library": "var_list.r",
     "varRefreshCmd": "cat(var_dic_list()) "
    }
   },
   "types_to_exclude": [
    "module",
    "function",
    "builtin_function_or_method",
    "instance",
    "_Feature"
   ],
   "window_display": false
  }
 },
 "nbformat": 4,
 "nbformat_minor": 5
}
